{
  "nbformat": 4,
  "nbformat_minor": 0,
  "metadata": {
    "colab": {
      "name": "19A21A0586-J.v.sivasai.ipynb",
      "provenance": [],
      "collapsed_sections": [],
      "toc_visible": true,
      "include_colab_link": true
    },
    "kernelspec": {
      "name": "python3",
      "display_name": "Python 3"
    },
    "language_info": {
      "name": "python"
    }
  },
  "cells": [
    {
      "cell_type": "markdown",
      "metadata": {
        "id": "view-in-github",
        "colab_type": "text"
      },
      "source": [
        "<a href=\"https://colab.research.google.com/github/sivajavvadi/sivajavavdi/blob/main/19A21A0586_J_v_sivasai.ipynb\" target=\"_parent\"><img src=\"https://colab.research.google.com/assets/colab-badge.svg\" alt=\"Open In Colab\"/></a>"
      ]
    },
    {
      "cell_type": "markdown",
      "metadata": {
        "id": "DZWjQ_qgvLxK"
      },
      "source": [
        "**NAME**:j.v.siva sai\n",
        "\n",
        "\n",
        "\n",
        "\n",
        "**REGNO**:19A21A0586\n",
        "\n",
        "**SECTION**:CSE-B"
      ]
    },
    {
      "cell_type": "markdown",
      "metadata": {
        "id": "bzCquyfJh7x7"
      },
      "source": [
        "**EXCERSICE**-1\n",
        "A.WRITE PROGRAM IN INTERACTIVE,INTERPRETER,PYHON SCRIPT MODE.\n",
        "\n",
        "B.Write a program to purposefully raise Indentation Error and Correct **it**"
      ]
    },
    {
      "cell_type": "code",
      "metadata": {
        "id": "FI0EuDfpAzJ8"
      },
      "source": [
        ""
      ],
      "execution_count": null,
      "outputs": []
    },
    {
      "cell_type": "markdown",
      "metadata": {
        "id": "DyXqEpPvGzGC"
      },
      "source": [
        "**AIM**:\n",
        "\n",
        "a) Running instructions in Interactive interpreter and a Python Script\n",
        "\n",
        "**DESCRIPTION**:\n",
        "\n",
        "Python is a high-level, interpreted, interactive and object-oriented \n",
        "scripting language. \n",
        "Python is designed to be highly readable.  It uses English keywords frequently where as other languages use \n",
        "punctuation, and it has fewer syntactical constructions than other languages. \n",
        "\n",
        "* Python is Interpreted \n",
        "\n",
        "* Python is Interactive \n",
        "\n",
        "* Python is Object-Oriented\n",
        "\n",
        "* Python is a Beginner's Language\n",
        "\n",
        "**Python Programming Running Python Scripts**\n",
        "\n",
        "Running Python in THREE ways: \n",
        "\n",
        "a) Running Python Interpreter \n",
        "\n",
        "b) Running Python Scripts in IDLE \n",
        "\n",
        "c) Running python scripts in Command Prompt \n",
        "\n",
        "**a) Running Python Interpreter:**\n",
        "Python comes with an interactive interpreter. When you type python in your shell or command prompt, the python interpreter becomes active with a >>> prompt and waits for your commands\n",
        "\n",
        "b) **Running Python Scripts in IDLE:**\n",
        ". Go to File menu click on New File (CTRL+N) and write the \n",
        "code and save first.py\n",
        "\n",
        "c) **Running python scripts in Command Prompt: ** \n",
        "· Before going to run we have to check the PATH in environment \n",
        "variables. \n"
      ]
    },
    {
      "cell_type": "code",
      "metadata": {
        "id": "0BpWpRu-h7D4",
        "colab": {
          "base_uri": "https://localhost:8080/"
        },
        "outputId": "a001d555-c28d-4465-d06f-a4c0579626a3"
      },
      "source": [
        "\n",
        "a=78\n",
        "b=89\n",
        "a,b=b,a\n",
        "print(a,b)\n"
      ],
      "execution_count": null,
      "outputs": [
        {
          "output_type": "stream",
          "name": "stdout",
          "text": [
            "89 78\n"
          ]
        }
      ]
    },
    {
      "cell_type": "markdown",
      "metadata": {
        "id": "8Hxmo3poHRTV"
      },
      "source": [
        "**AIM**:\n",
        "\n",
        " To Write a program to purposefully raise Indentation Error and Correct it\n",
        "  \n",
        "  **DESCRIPTION**:\n",
        "\n",
        "  **Indentation** \n",
        "* Python does not support braces to indicate blocks of code for class and \n",
        "function definitions or flow control. \n",
        "\n",
        "* Blocks of code are denoted by line indentation.\n",
        "\n",
        "* All the continuous lines indented with same number of spaces would form a block. \n",
        "\n",
        "* Python strictly follow indentation rules to indicate the blocks. \n"
      ]
    },
    {
      "cell_type": "code",
      "metadata": {
        "colab": {
          "base_uri": "https://localhost:8080/"
        },
        "id": "U64KjRbfjGKD",
        "outputId": "b46a2fd8-e274-4e81-f10f-ea61246f8033"
      },
      "source": [
        "a=input(\"enter a vlaue:\")\n",
        "b=input(\"enter b value:\")\n",
        "c=a+b;\n",
        "print(\"sum is \",c,sep=\"\\t\")\n",
        "c=int(a)+int(b)\n",
        "print(\"sum of {} and {} is : {}\".format(a,b,c))\n",
        "print(\"sum of %s and %s is:%d\"%(a,b,c))\n",
        "x=10\n",
        "y=123\n",
        "z=x+y;\n",
        "print(\"sum is\",z,sep='\\t' )\n"
      ],
      "execution_count": null,
      "outputs": [
        {
          "output_type": "stream",
          "text": [
            "enter a vlaue:12\n",
            "enter b value:45\n",
            "sum is \t1245\n",
            "sum of 12 and 45 is : 57\n",
            "sum of 12 and 45 is:57\n",
            "sum is\t133\n"
          ],
          "name": "stdout"
        }
      ]
    },
    {
      "cell_type": "code",
      "metadata": {
        "colab": {
          "base_uri": "https://localhost:8080/"
        },
        "id": "GHsddNZikSyD",
        "outputId": "951515eb-c2e9-4dda-c44d-064e855e6dd7"
      },
      "source": [
        "print(\"welcome to python\")\n",
        "a=20\n",
        "b=30\n",
        "print(\"the value of a:\",a)\n",
        "print(\"the value of b :\",b)\n",
        "if(a>b):\n",
        "       print(\"a is big\");\n",
        "       print(\"ifbblock ends\")\n",
        "else:\n",
        "            print(\"b is big\")\n",
        "            print(\"elseblock ends\")\n",
        "\n"
      ],
      "execution_count": null,
      "outputs": [
        {
          "output_type": "stream",
          "text": [
            "welcome to python\n",
            "the value of a: 20\n",
            "the value of b : 30\n",
            "b is big\n",
            "elseblock ends\n"
          ],
          "name": "stdout"
        }
      ]
    },
    {
      "cell_type": "markdown",
      "metadata": {
        "id": "ucPRgJJSjl2D"
      },
      "source": [
        "**EXERCISE**-2\n",
        "\n",
        "A.COMPUTE DISTANCE BETWEEN TWO POINTS\n",
        "\n",
        " B.TAKE TWO NUMBERS ON COMMAND LINE ARGUMENTS AND PRINT THE SUM."
      ]
    },
    {
      "cell_type": "markdown",
      "metadata": {
        "id": "wpoR6J_3H8K-"
      },
      "source": [
        "**AIM**:\n",
        "\n",
        "TO COMPUTE DISTANCE BETWEEN TWO POINTS\n",
        "\n",
        "\n",
        "**DESCRIPTION**:\n",
        "\n",
        "**Taking Input From the User:**\n",
        "A function is defined as a block of organized, reusable code used to perform a single, related action. Python has many built-in functions; you can also create your own. \n",
        "\n",
        "Python has an input function which lets you ask a user for some text input. You call this function to tell the program to stop and wait for the user to key in the data.\n",
        "\n",
        " In Python 2, you have a built-in function raw_input(), whereas in Python 3, you have input(). The program will resume once the user presses the ENTER or RETURN key.\n",
        "\n",
        " **Input Function**\n",
        "\n",
        "input(prompt=None,/). \n",
        "\n",
        "Read a string from standard input. The trailing newline is stripped. \n",
        "\n",
        "The prompt string, if given, is printed to standard output without a trailing newline before reading input. \n",
        "\n",
        "If the user hits EOF (*nix: Ctrl-D, Windows: Ctrl Z+Return), raise EOFError."
      ]
    },
    {
      "cell_type": "code",
      "metadata": {
        "colab": {
          "base_uri": "https://localhost:8080/"
        },
        "id": "2T9GqOSSkh3T",
        "outputId": "b674aec5-022a-4752-d17c-60d33a51c7d6"
      },
      "source": [
        "x1=10\n",
        "x2=80\n",
        "y1=12\n",
        "y2=20\n",
        "z=(pow((x2-x1),2)+pow((y2-y1),2))**0.5\n",
        "print(z)\n"
      ],
      "execution_count": null,
      "outputs": [
        {
          "output_type": "stream",
          "text": [
            "70.45565981523414\n"
          ],
          "name": "stdout"
        }
      ]
    },
    {
      "cell_type": "code",
      "metadata": {
        "colab": {
          "base_uri": "https://localhost:8080/"
        },
        "id": "o7elNHImkqub",
        "outputId": "78bcfcc3-7fba-4d83-eed6-51601e176da6"
      },
      "source": [
        "import math\n",
        "x1=int(input(\"enter  x1 value:\"))\n",
        "x2=int(input(\"enter  x2 value:\"))\n",
        "y1=int(input(\"enter  y1 value:\"))\n",
        "y2=int(input(\"enter  y2 value:\"))\n",
        "z=math.sqrt((x2-x1)**2+(y2-y1)**2)\n",
        "print(\"the distance between two points is :\",z)\n",
        "print(\"the distance between two points is :\",z,sep='\\t')\n",
        "print(\"the distance between ({}, {})and ({},{}) is  :{}\".format(x1,y1,x2,y2,z))\n",
        "\n",
        "print(\"the distance between (%d, %d)and (%d,%d) is  :%f\"%(x1,y1,x2,y2,z))\n",
        "\n"
      ],
      "execution_count": null,
      "outputs": [
        {
          "output_type": "stream",
          "text": [
            "enter  x1 value:12\n",
            "enter  x2 value:23\n",
            "enter  y1 value:65\n",
            "enter  y2 value:54\n",
            "the distance between two points is : 15.556349186104045\n",
            "the distance between two points is :\t15.556349186104045\n",
            "the distance between (12, 65)and (23,54) is  :15.556349186104045\n",
            "the distance between (12, 65)and (23,54) is  :15.556349\n"
          ],
          "name": "stdout"
        }
      ]
    },
    {
      "cell_type": "markdown",
      "metadata": {
        "id": "DPeOiHniIaC6"
      },
      "source": [
        "**AIM**:\n",
        "\n",
        "TAKE TWO NUMBERS ON COMMAND LINE ARGUMENTS AND PRINT THE SUM\n",
        "\n",
        "**DESCRIPTION**:\n",
        "\n",
        "The arguments that are given after the name of the program in the command line shell of the operating system are known as Command Line Arguments. Python provides various ways of dealing with these types of arguments. The three most common are:\n",
        "\n",
        "Using sys.argv\n",
        "\n",
        "Using getopt module\n",
        "\n",
        "Using argparse module\n",
        "\n",
        "Using sys.argv\n",
        "\n",
        "The sys module provides functions and variables used to manipulate different parts of the Python runtime environment. This module provides access to some variables used or maintained by the interpreter and to functions that interact strongly with the interpreter.\n",
        "\n",
        "One such variable is sys.argv which is a simple list structure. It’s main purpose are:\n",
        "\n",
        "It is a list of command line arguments.\n",
        "\n",
        "len(sys.argv) provides the number of command line arguments.\n",
        "\n",
        "sys.argv[0] is the name of the current Python script."
      ]
    },
    {
      "cell_type": "code",
      "metadata": {
        "id": "8gTAL8-Alq8F"
      },
      "source": [
        "                                \n",
        "import sys\n",
        "a=sys.argv[1]\n",
        "b=sys.argv[2]\n",
        "sum=int(a)+int(b)\n",
        "print(\"summ of two number is:\",sum)\n",
        "\n",
        "\n"
      ],
      "execution_count": null,
      "outputs": []
    },
    {
      "cell_type": "markdown",
      "metadata": {
        "id": "VAvGCQLMwHhU"
      },
      "source": [
        "**output**\n",
        "\n",
        "\n",
        "\n",
        "C:\\Users\\satyasree\\Desktop\\python files>python commd.py 10 30\n",
        "summ of two number is: 40\n",
        "\n",
        "C:\\Users\\satyasree\\Desktop\\python files>\n",
        "\n"
      ]
    },
    {
      "cell_type": "markdown",
      "metadata": {
        "id": "Rvu-3cA7lEKU"
      },
      "source": [
        "EXCERSCISE-3\n",
        "A) Write a Program for checking whether the given number is an even number or not.\n",
        "\n",
        "b) Using a for loop, write a program that prints out the decimal equivalents of 1/2, 1/3, 1/4, . . .1/10\n",
        "\n",
        "c) Write a program using a for loop that loops over a sequence. What is sequence?\n",
        "\n",
        "d) Write a program using a while loop that asks the user for a number, and prints a countdownfrom\n",
        "that number to zero"
      ]
    },
    {
      "cell_type": "markdown",
      "metadata": {
        "id": "Vx0DzxaCI471"
      },
      "source": [
        "**AIM**:\n",
        "\n",
        "a) Write a Program for checking whether the given number is an even number or not.\n",
        "\n",
        "**DESCRIPTION**:\n",
        "\n",
        "if..else Statement When there is an alternate operation in control flow, use an else statement alongside with if statement. The general format is\n",
        "\n",
        "if condition:\n",
        "\n",
        "    true statement\n",
        "else:\n",
        "\n",
        "     false statement"
      ]
    },
    {
      "cell_type": "code",
      "metadata": {
        "colab": {
          "base_uri": "https://localhost:8080/"
        },
        "id": "xVzhT7QVlVSv",
        "outputId": "b24c167c-f2c2-4e79-f038-5eeed6d536c9"
      },
      "source": [
        "n=int(input(\"enter a number:\"))\n",
        "if (n%2)==0:\n",
        "        print(\"given number is even\")\n",
        "else:\n",
        "      print(\"given number is odd\")\n",
        "\n",
        "      "
      ],
      "execution_count": null,
      "outputs": [
        {
          "output_type": "stream",
          "text": [
            "enter a number:2\n",
            "given number is even\n"
          ],
          "name": "stdout"
        }
      ]
    },
    {
      "cell_type": "markdown",
      "metadata": {
        "id": "d7P3D6d9JEOL"
      },
      "source": [
        "**AIM**:\n",
        "\n",
        "b) Using a for loop, write a program that prints out the decimal equivalents of 1/2, 1/3, 1/4, . . .1/10\n",
        "\n",
        "**DESCRIPTION**\n",
        "\n",
        "For Loop: For loops can iterate over a sequence of numbers using the \"range\" and \"xrange\" functions. The difference between range and xrange is that the range function returns a new list with numbers of that specified range, whereas xrange returns an iterator, which is more efficient.\n",
        "\n",
        "The general format is\n",
        "\n",
        "for x in range(start,stop,step):\n",
        "\n",
        "statements"
      ]
    },
    {
      "cell_type": "code",
      "metadata": {
        "colab": {
          "base_uri": "https://localhost:8080/"
        },
        "id": "WwDH1lfQlggq",
        "outputId": "6bcb9198-1ec2-46ee-fe64-53d0ba06e097"
      },
      "source": [
        "n=int(input(\"enter a number:\"))\n",
        "for i in range(2,n):\n",
        "    de=1/i;\n",
        "    print(\"1/\",i,\"=\",de)\n"
      ],
      "execution_count": null,
      "outputs": [
        {
          "output_type": "stream",
          "text": [
            "enter a number:3\n",
            "1/ 2 = 0.5\n"
          ],
          "name": "stdout"
        }
      ]
    },
    {
      "cell_type": "markdown",
      "metadata": {
        "id": "GxTChiV8JKeD"
      },
      "source": [
        "**AIM**:\n",
        "\n",
        "c) Write a program using a for loop that loops over a sequence. What is sequence?\n",
        "\n",
        "**DESCRIPTION**:\n",
        "\n",
        "For Loop: For loops can iterate over a sequence of numbers using the \"range\" and \"xrange\" functions. The difference between range and xrange is that the range function returns a new list with numbers of that specified range, whereas xrange returns an iterator, which is more efficient.\n",
        "\n",
        "The general format is\n",
        "\n",
        "for x in range(start,stop,step):\n",
        "\n",
        "statements"
      ]
    },
    {
      "cell_type": "code",
      "metadata": {
        "colab": {
          "base_uri": "https://localhost:8080/"
        },
        "id": "M1gP_v3zmIB9",
        "outputId": "98b9bdc1-30c3-40fa-e632-2a2fc83f8a6b"
      },
      "source": [
        "#program using a for a loop that loops over a sequence\n",
        "print(\"loop sequence\")\n",
        "num=[45,25,2,28,3,25]\n",
        "for i in num:\n",
        "    print(i)\n",
        "\n",
        "#string sequence\n",
        "print(\"string sequence\")\n",
        "days=[\"sun\",\"mon\",\"tue\",\"wed\",\"thur\",\"fri\",\"st\"]\n",
        "for d in days:\n",
        "    print(d)\n",
        "    \n",
        "#bothh sequence\n",
        "print(\"sequence\")\n",
        "arr=[123,\"abc\",5.6,'h',-33,\"xy\",True]\n",
        "for x in arr:\n",
        "      print(x)\n",
        "\n"
      ],
      "execution_count": null,
      "outputs": [
        {
          "output_type": "stream",
          "text": [
            "loop sequence\n",
            "45\n",
            "25\n",
            "2\n",
            "28\n",
            "3\n",
            "25\n",
            "string sequence\n",
            "sun\n",
            "mon\n",
            "tue\n",
            "wed\n",
            "thur\n",
            "fri\n",
            "st\n",
            "sequence\n",
            "123\n",
            "abc\n",
            "5.6\n",
            "h\n",
            "-33\n",
            "xy\n",
            "True\n"
          ],
          "name": "stdout"
        }
      ]
    },
    {
      "cell_type": "markdown",
      "metadata": {
        "id": "RnfhuEpXJb_U"
      },
      "source": [
        "**AIM**:\n",
        "\n",
        "D) Write a program using a while loop that asks the user for a number, and prints a countdownfrom that number to zero.\n",
        "\n",
        "**DESCRIPTION**:\n",
        "\n",
        "While Loop is used to execute a block of statements repeatedly until a given condition is satisfied. And when the condition becomes false, the line immediately after the loop in the program is executed. While loop falls under the category of indefinite iteration\n",
        "\n",
        "The syntax for a while loop is:\n",
        "\n",
        "while [ condition]"
      ]
    },
    {
      "cell_type": "code",
      "metadata": {
        "id": "PJZOwZ2VmUEh",
        "colab": {
          "base_uri": "https://localhost:8080/"
        },
        "outputId": "7a560375-70b3-4607-fb67-76bb4ed7ea43"
      },
      "source": [
        "#countdown seq\n",
        "n=int(input(\"enter the numbr:\"))\n",
        "while n>0:\n",
        "      print(n)\n",
        "      n=n-1\n"
      ],
      "execution_count": null,
      "outputs": [
        {
          "output_type": "stream",
          "name": "stdout",
          "text": [
            "enter the numbr:2\n",
            "2\n",
            "1\n"
          ]
        }
      ]
    },
    {
      "cell_type": "markdown",
      "metadata": {
        "id": "lF8HqlDXmbG0"
      },
      "source": [
        "**EXCERCISE**-4\n",
        "a) Find the sum of all the primes below two million. Each new term in the Fibonacci sequence is\n",
        "generated by adding the previous two terms. Bystarting with 1 and 2, the first 10 terms will be:\n",
        "1, 2, 3, 5, 8, 13, 21, 34, 55, 89, ...\n",
        "\n",
        "b) By considering the terms in the Fibonacci sequence whose values do not exceed four million,find\n",
        "the sum of the even-valued terms."
      ]
    },
    {
      "cell_type": "markdown",
      "metadata": {
        "id": "UDNtTNyGJX0u"
      },
      "source": [
        "\n",
        "\n",
        "**AIM**:\n",
        "\n",
        "a) Find the sum of all the primes below two million. Each new term in the Fibonacci sequence is generated by adding the previous two terms. Bystarting with 1 and 2, the first 10 terms will be: 1, 2, 3, 5, 8, 13, 21, 34, 55, 89, ...\n",
        "\n",
        "**DESCRIPTION**:\n",
        "\n",
        "A Fibonacci sequence is the integer sequence of 0, 1, 1, 2, 3, 5, 8....\n",
        "\n",
        "The first two terms are 0 and 1. All other terms are obtained by adding the preceding two terms. This means to say the nth term is the sum of (n-1)th and (n-2)th term\n",
        "\n",
        "Here, we store the number of terms in nterms. We initialize the first term to 0 and the second term to 1.\n",
        "\n",
        "If the number of terms is more than 2, we use a while loop to find the next term in the sequence by adding the preceding two terms. We then interchange the variables (update it) and continue on with the process.\n",
        "\n"
      ]
    },
    {
      "cell_type": "code",
      "metadata": {
        "id": "WkhbTP_YmmrB",
        "colab": {
          "base_uri": "https://localhost:8080/"
        },
        "outputId": "0bc48dd8-c924-4006-f134-e187f801381e"
      },
      "source": [
        "n=int(input(\"enter   a anum:\"))\n",
        "a=0\n",
        "b=1\n",
        "c=a+b\n",
        "st=\"\"\n",
        "sum=0\n",
        "con=0\n",
        "while con<=n:\n",
        "    st+=\"\"+str(c)\n",
        "    sum+=c        \n",
        "    a=b\n",
        "    b=c \n",
        "    c=a+b\n",
        "    con+=1\n",
        "print(st)\n",
        "print(\"sum of fibonacii series:\",sum)\n",
        "\n"
      ],
      "execution_count": null,
      "outputs": [
        {
          "output_type": "stream",
          "name": "stdout",
          "text": [
            "enter   a anum:12\n",
            "123581321345589144233377\n",
            "sum of fibonacii series: 985\n"
          ]
        }
      ]
    },
    {
      "cell_type": "markdown",
      "metadata": {
        "id": "AcmVxEHUJqzl"
      },
      "source": [
        "**AIM**:\n",
        "\n",
        "b) By considering the terms in the Fibonacci sequence whose values do not exceed four million,find the sum of the even-valued terms.\n",
        "\n",
        "**DESCRIPTION**:\n",
        "\n",
        "A Fibonacci sequence is the integer sequence of 0, 1, 1, 2, 3, 5, 8....\n",
        "\n",
        "The first two terms are 0 and 1. All other terms are obtained by adding the preceding two terms. This means to say the nth term is the sum of (n-1)th and (n-2)th term\n",
        "\n",
        "Here, we store the number of terms in nterms. We initialize the first term to 0 and the second term to 1.\n",
        "\n",
        "If the number of terms is more than 2, we use a while loop to find the next term in the sequence by adding the preceding two terms. We then interchange the variables (update it) and continue on with the process."
      ]
    },
    {
      "cell_type": "code",
      "metadata": {
        "id": "lUSCWs9opfoi",
        "colab": {
          "base_uri": "https://localhost:8080/"
        },
        "outputId": "188aa334-de9f-4b13-bdbf-90d18f3cc30d"
      },
      "source": [
        "n=int(input(\"enter a number:\"))\n",
        "c=0\n",
        "\n",
        "\n",
        "st=\"\"\n",
        "sum=0\n",
        "\n",
        "for i in range(2,n):\n",
        " state=True\n",
        "for j in range(2,i):\n",
        " if(i%j==0):\n",
        "        state=False\n",
        "        break;\n",
        " if state==True:\n",
        "            st+=\"\"+str(i)\n",
        "            c+=1\n",
        "            sum+=i\n",
        "\n",
        "print(\"prime numbers\")\n",
        "print(st)\n",
        "\n",
        "print(\"total count of the prime numbers:\",c)\n",
        "print(\"sum of all prime nums:\",sum)\n",
        "\n"
      ],
      "execution_count": null,
      "outputs": [
        {
          "output_type": "stream",
          "name": "stdout",
          "text": [
            "enter a number:12\n",
            "prime numbers\n",
            "111111111111111111\n",
            "total count of the prime numbers: 9\n",
            "sum of all prime nums: 99\n"
          ]
        }
      ]
    },
    {
      "cell_type": "markdown",
      "metadata": {
        "id": "EEmkxBolpg7a"
      },
      "source": [
        "**EXCERCISE**-5\n",
        "- DS\n",
        "\n",
        "a) Write a program to count the numbers of characters in the string and store them in adictionary data\n",
        "structure\n",
        "\n",
        "b) Write a program to use split and join methods in the string and trace a birthday with adictionary\n",
        "data structure."
      ]
    },
    {
      "cell_type": "markdown",
      "metadata": {
        "id": "Fb_PbVibJzH2"
      },
      "source": [
        "**AIM**:\n",
        "\n",
        "a) Write a program to count the numbers of characters in the string and store them in adictionary data structure\n",
        "\n",
        "**DESCRIPTION**:\n",
        "\n",
        "Given a string, the task is to find the frequencies of all the characters in that string and return a dictionary with key as the character and its value as its frequency in the given string.\n",
        "\n",
        "Method #1 : Naive method\n",
        "\n",
        "Simply iterate through the string and form a key in dictionary of newly occurred element or if element is already occurred, increase its value by 1.\n",
        "\n",
        "Method #2 : Using collections.Counter()\n",
        "\n",
        "The most suggested method that could be used to find all occurrences is this method, this actually gets all element frequency and could also be used to print single element frequency if required.\n",
        "\n"
      ]
    },
    {
      "cell_type": "code",
      "metadata": {
        "colab": {
          "base_uri": "https://localhost:8080/"
        },
        "id": "zls_u7i6ptAi",
        "outputId": "2828d2a1-740e-404e-b538-5e3a752c48a7"
      },
      "source": [
        "name=input(\"enter anmae:\")\n",
        "dic={}\n",
        "for ch in name:\n",
        "    keys=dic.keys()\n",
        "\n",
        "    if(ch in keys):\n",
        "        dic[ch]=dic[ch]+1\n",
        "    else:\n",
        "        dic[ch]=1\n",
        "\n",
        "print(\"dictinarry is:\",dic)       \n"
      ],
      "execution_count": null,
      "outputs": [
        {
          "output_type": "stream",
          "name": "stdout",
          "text": [
            "enter anmae:jvss\n",
            "dictinarry is: {'j': 1, 'v': 1, 's': 2}\n"
          ]
        }
      ]
    },
    {
      "cell_type": "markdown",
      "metadata": {
        "id": "AoVDFr6vJ2KL"
      },
      "source": [
        "**AIM**:\n",
        "\n",
        "b) Write a program to use split and join methods in the string and trace a birthday with adictionary data structure\n",
        "\n",
        "**DESCRIPTION**:\n",
        "\n",
        "Python program to Split a string based on a delimiter and join the string using another delimiter.\n",
        "\n",
        "Split a string can be quite useful sometimes, especially when you need only certain parts of strings. A simple yet effective example is splitting the First-name and Last-name of a person. Another application is CSV(Comma Separated Files). We use split to get data from CSV and join to write data to CSV.\n",
        "\n",
        "In Python, we can use the function split() to split a string and\n",
        "\n",
        "join() to join a string."
      ]
    },
    {
      "cell_type": "code",
      "metadata": {
        "id": "yBTITgXIqB6T",
        "colab": {
          "base_uri": "https://localhost:8080/"
        },
        "outputId": "f657e676-8c2b-4cca-cdce-a81a4a97b7ff"
      },
      "source": [
        "dob={\"siva\":\"18-05-2002\",\"lkkhv\":\"14-08-2002\"}\n",
        "name=input(\"enter which person dob u want:\")\n",
        "l=name.split()\n",
        "birth=\"\"\n",
        "for i in l:\n",
        "    if i in dob.keys():\n",
        "        pers=i\n",
        "\n",
        "print(\"\".join([pers,\"birthdayis:\",dob[pers]]))\n",
        "\n"
      ],
      "execution_count": null,
      "outputs": [
        {
          "output_type": "stream",
          "name": "stdout",
          "text": [
            "enter which person dob u want:siva\n",
            "sivabirthdayis:18-05-2002\n"
          ]
        }
      ]
    },
    {
      "cell_type": "markdown",
      "metadata": {
        "id": "GygU4UZsscSA"
      },
      "source": [
        "**EXERCISE**-6\n",
        "DS - Continued\n",
        "\n",
        "a) Write a program combinelists that combines these lists into a dictionary.\n",
        "\n",
        "b) Write a program to count frequency of characters in a given file. Can you use characterfrequency to\n",
        "\n",
        "tell whether the given file is a Python program file, C program file or a text file?"
      ]
    },
    {
      "cell_type": "markdown",
      "metadata": {
        "id": "j2OL4rAJJ64y"
      },
      "source": [
        "**AIM**:\n",
        "\n",
        "a) Write a program combinelists that combines these lists into a dictionary.\n",
        "\n",
        "**DESCRIPTION**:\n",
        "\n",
        "For this, simply declare a dictionary, and then run nested loop for both the lists and assign key and value pairs to from list values to dictionary.\n",
        "\n",
        "Most pythonic and generic method to perform this very task is by using zip(). This function pairs the list element with other list element at corresponding index in form of key-value pairs."
      ]
    },
    {
      "cell_type": "code",
      "metadata": {
        "colab": {
          "base_uri": "https://localhost:8080/"
        },
        "id": "9AHR7seFs5w7",
        "outputId": "bf3a37b9-204c-48fd-a55f-b22e592e03ce"
      },
      "source": [
        "sub=[\"daa\",\"os\",\"dbms\",\"p&s\",\"ppl\",\"se\"]\n",
        "marks=[85,96,75,65,83,56]\n",
        "print(sub)\n",
        "print(marks)\n",
        "dic=dict(zip(sub,marks))\n",
        "print(dic)"
      ],
      "execution_count": null,
      "outputs": [
        {
          "output_type": "stream",
          "text": [
            "['daa', 'os', 'dbms', 'p&s', 'ppl', 'se']\n",
            "[85, 96, 75, 65, 83, 56]\n",
            "{'daa': 85, 'os': 96, 'dbms': 75, 'p&s': 65, 'ppl': 83, 'se': 56}\n"
          ],
          "name": "stdout"
        }
      ]
    },
    {
      "cell_type": "markdown",
      "metadata": {
        "id": "OWAAUNcRJ-sf"
      },
      "source": [
        "**AIM**:\n",
        "\n",
        "b) Write a program to count frequency of characters in a given file. Can you use characterfrequency to tell whether the given file is a Python program file, C program file or a text file?\n",
        "\n",
        "**DESCRIPTION**:\n",
        "\n",
        "approaches to count the number of times a letter appears in a text file in Python.\n",
        "\n",
        "Method 1: Using the in-built count() method.\n",
        "\n",
        "Approach:\n",
        "\n",
        "Read the file.\n",
        "Store the content of the file in a variable.\n",
        "Use the count() method with the argument as a letter whose frequency is required.\n",
        "Display the count of the letter."
      ]
    },
    {
      "cell_type": "code",
      "metadata": {
        "id": "0ElViXTsuAKg"
      },
      "source": [
        "\n",
        "filetypes=['.py','.c','.txt']\n",
        "fn=input(\"enter a fikle name:\")\n",
        "f=open(fn,\"r\")\n",
        "count=dict()\n",
        "for  ft in filetypes:\n",
        "     if(ft in  fn):\n",
        "           if(ft==\".py\"):\n",
        "             print(\"python file\")\n",
        "           elif(ft==\".c\"):\n",
        "             print(\"cfile\")\n",
        "           elif(ft==\".txt\"):\n",
        "             print(\"text file\")\n",
        "\n",
        "\n",
        "for line in f:\n",
        "     for ch in line:\n",
        "          if ch in count:\n",
        "               count[ch]=count[ch]+1\n",
        "\n",
        "          else:\n",
        "              count[ch]=1\n",
        "\n",
        "\n",
        "print(count)\n",
        "f.close()"
      ],
      "execution_count": null,
      "outputs": []
    },
    {
      "cell_type": "markdown",
      "metadata": {
        "id": "AD_96R_fuOC1"
      },
      "source": [
        "**EXCERCISE**-7\n",
        "- 7 Files\n",
        "\n",
        "a) Write a program to print each line of a file in reverse order.\n",
        "\n",
        "b) Write a program to compute the number of characters, words and lines in a file.\n"
      ]
    },
    {
      "cell_type": "markdown",
      "metadata": {
        "id": "XR3T_NGGKEY-"
      },
      "source": [
        "**AIM**\n",
        "\n",
        "a) Write a program to print each line of a file in reverse order.\n",
        "\n",
        "**DESCRIPTION**:\n",
        "\n",
        "The file handling plays an important role when the data needs to be stored permanently into the file. A file is a named location on disk to store related information. We can access the stored information (non-volatile) after the program termination. In Python, files are treated in two modes as text or binary. The file may be in the text or binary format, and each line of a file is ended with the special character. Hence, a file operation can be done in the following order.\n",
        "\n",
        " Open a file\n",
        "\n",
        " Read or write - Performing operation\n",
        "\n",
        " Close the file"
      ]
    },
    {
      "cell_type": "code",
      "metadata": {
        "colab": {
          "base_uri": "https://localhost:8080/"
        },
        "id": "GgZg9FfyKUWM",
        "outputId": "cb04ca17-de00-45b9-a758-b89c247452cb"
      },
      "source": [
        "obj=open(\"/abcd.txt\",\"r\")\n",
        "if obj:\n",
        "  st=obj.read()\n",
        "  print(\"File content is:\\n\",st)\n",
        "obj.close()\n",
        "print()\n",
        "lines=st.split('\\n')\n",
        "for ln in lines:\n",
        "  i=len(ln)-1\n",
        "  while(i>=0):\n",
        "    print(ln[i],end=\"\")\n",
        "    i=i-1\n",
        "  print()\n",
        "    "
      ],
      "execution_count": null,
      "outputs": [
        {
          "output_type": "stream",
          "name": "stdout",
          "text": [
            "File content is:\n",
            " this is siva\n",
            "\n",
            "\n",
            "avis si siht\n",
            "\n"
          ]
        }
      ]
    },
    {
      "cell_type": "markdown",
      "metadata": {
        "id": "qdl4pkb9KbD2"
      },
      "source": [
        "**AIM**:\n",
        "\n",
        "b) Write a program to compute the number of characters, words and lines in a file\n",
        "\n",
        "**DESCRIPTION**:\n",
        "\n",
        "Given a text file fname, the task is to count the total number of characters, words, spaces and lines in the file.\n",
        "\n",
        "As we know, Python provides multiple in-built features and modules for handling files. Let’s discuss different ways to calculate total number of characters, words, spaces and lines in a file using Python.\n",
        "\n",
        "Method #1: Naive approach\n",
        "\n",
        "In this approach, the idea is to solve the task by developing our own logic. Without using any built-in function of Python, the total number of characters, words, spaces and lines of the file will be calculated.\n",
        "\n",
        "Method #2: Using some built-in functions and OS module functions\n",
        "\n",
        "In this approach, the idea is to use the os.linesep() method of OS module to separate the lines on the current platform. When the interpreter’s scanner encounter os.linesep it replaces it with \\n character. After that strip() and split() functions will be used to carry out the task.\n",
        "\n"
      ]
    },
    {
      "cell_type": "code",
      "metadata": {
        "id": "vEwhp-pRujxB",
        "colab": {
          "base_uri": "https://localhost:8080/"
        },
        "outputId": "429485d9-971d-43b6-a222-93c2f817dc19"
      },
      "source": [
        "obj=open(\"/abcd.txt\",\"r\")\n",
        "if obj:\n",
        "    st=obj.read()\n",
        "    print(\"file content is:\")\n",
        "obj.close()\n",
        "print()\n",
        "nc=nw=nl=0\n",
        "for ch in st:\n",
        "    if(ch):\n",
        "        nc=nc+1\n",
        "    if(ch==''):\n",
        "        nw=nw+1\n",
        "    if(ch=='\\n'):\n",
        "        nl=nl+1\n",
        "\n",
        "print(\"number of characters in a file:\",nc)\n",
        "print(\"number of words in file is:\",nw)\n",
        "print(\"number of lines ins file:\",nl)\n",
        "\n"
      ],
      "execution_count": null,
      "outputs": [
        {
          "output_type": "stream",
          "name": "stdout",
          "text": [
            "file content is:\n",
            "\n",
            "number of characters in a file: 13\n",
            "number of words in file is: 0\n",
            "number of lines ins file: 1\n"
          ]
        }
      ]
    },
    {
      "cell_type": "markdown",
      "metadata": {
        "id": "23WjokxZwTJE"
      },
      "source": [
        "**EXCERCISE**-8\n",
        "- 8 Functions'\n",
        "\n",
        "a) Write a function ball collide that takes two balls as parameters and computes if they arecolliding.\n",
        "Your function should return a Boolean representing whether or not the balls arecolliding.\n",
        "Hint: Represent a ball on a plane as a tuple of (x, y, r), r being the radius\n",
        "If (distance between two balls centers) <= (sum of their radii) then (they are colliding)\n",
        "\n",
        "b) Find mean, median, mode for the given set of numbers in a list."
      ]
    },
    {
      "cell_type": "markdown",
      "metadata": {
        "id": "36O_WGQxKhCj"
      },
      "source": [
        "**AIM**:\n",
        "\n",
        "a) Write a function ball collide that takes two balls as parameters and computes if they arecolliding. Your function should return a Boolean representing whether or not the balls arecolliding.\n",
        "\n",
        "Hint: Represent a ball on a plane as a tuple of (x, y, r), r being the radius If (distance between two balls centers) <= (sum of their radii) then (they are colliding)\n",
        "\n",
        "**DESCRIPTION**\n",
        "\n",
        "Functions A function in python is a block of code that is defined for doing frequent operations in a particular task. The general format is\n",
        "\n",
        "def Functionname(arguments):\n",
        "\n",
        "  Statements\n",
        "Calling a Function:\n",
        "\n",
        "A function can be called by its name followed by arguments within parenthesis.\n",
        "\n",
        "function()"
      ]
    },
    {
      "cell_type": "code",
      "metadata": {
        "id": "coT_3a6twlHB",
        "colab": {
          "base_uri": "https://localhost:8080/"
        },
        "outputId": "550303bf-d154-4e7e-c72a-c296cd36b9bb"
      },
      "source": [
        "import math\n",
        "def ballcollide(b1tup,b2tup):\n",
        "    x1=b1tup[0]\n",
        "    y1=b1tup[1]\n",
        "    x2=b2tup[0]\n",
        "    y2=b2tup[1]\n",
        "    r1=b1tup[2]\n",
        "    r2=b2tup[2]\n",
        "\n",
        "\n",
        "    d=math.sqrt((x2-x1)**2+(y2-y1)**2)\n",
        "    if(d<=r1+r2):\n",
        "      return True\n",
        "    else:\n",
        "        return False\n",
        "\n",
        "\n",
        "ball1=(1,2,3)\n",
        "ball2=(3,2,1)\n",
        "c=ballcollide(ball1,ball2)\n",
        "if(c):\n",
        "    print(\"balls are collided\")\n",
        "else:\n",
        "    print(\"ball are not collided\")\n",
        "\n"
      ],
      "execution_count": null,
      "outputs": [
        {
          "output_type": "stream",
          "name": "stdout",
          "text": [
            "balls are collided\n"
          ]
        }
      ]
    },
    {
      "cell_type": "markdown",
      "metadata": {
        "id": "uonNwmAqKmUZ"
      },
      "source": [
        "**AIM**:\n",
        "\n",
        "b) Find mean, median, mode for the given set of numbers in a list\n",
        "\n",
        "**DESCRIPTION**\n",
        "\n",
        "**Mean** : The mean is the average of all numbers and is sometimes called the arithmetic mean. This code calculates Mean or Average of a list containing numbers:\n",
        "\n",
        "**Median** : The median is the middle number in a group of numbers. This code calculates Median of a list containing numbers:\n",
        "\n",
        "**Mode** : The mode is the number that occurs most often within a set of numbers. This code calculates Mode of a list containing numbers:\n",
        "\n",
        "We will import Counter from collections library which is a built-in module in Python 2 and 3. This module will help us count duplicate elements in a list. We define a list of numbers and calculate the length of the list. We then call Counter (a dict subclass) which helps to count hashable objects, and we then convert it to dict object. We then initialize a list with a For Loop to compare all the dict values (Number of elements) to the max of all dict values (count of most occurring element) and it returns all the elements equal to max count. If the elements returned are equal to the number of total elements in a list then we print out ‘No mode’, else we print out the modes returned."
      ]
    },
    {
      "cell_type": "code",
      "metadata": {
        "id": "r3R9E83NyNWs",
        "colab": {
          "base_uri": "https://localhost:8080/"
        },
        "outputId": "b6edb3aa-553d-41c5-8351-f6ce5bb339ab"
      },
      "source": [
        "def mean(numlist):\n",
        "    return sum(numlist)/len(numlist)\n",
        "def median(numlist):\n",
        "    numlist.sort()\n",
        "    print(numlist)\n",
        "    n=len(numlist)\n",
        "    print(\"total\",n)\n",
        "    mid=n//2\n",
        "    print(\"mid:\",mid)\n",
        "    if(n%2==0):\n",
        "        return numlist[mid]\n",
        "    else:\n",
        "        return (numlist[mid-1]+numlist[mid])/2\n",
        "def mode(numlist):\n",
        "    numlist.sort()\n",
        "    temp=[]\n",
        "    i=0\n",
        "    while i<len(numlist):\n",
        "        temp.append(numlist.count(numlist[i]))\n",
        "        i+=1\n",
        "    dic=dict(zip(numlist,temp))\n",
        "    modes={k for k, v in dic.items() if(v==max(temp))}\n",
        "    return modes\n",
        "list=[1,1,2,2,3,4,5,3,3]\n",
        "print(\"mean of guive list:\",mean(list))\n",
        "print(\"median of guive list:\",median(list))\n",
        "\n",
        "print(\"mode of guive list:\",mode(list))\n",
        "\n",
        "\n"
      ],
      "execution_count": null,
      "outputs": [
        {
          "output_type": "stream",
          "name": "stdout",
          "text": [
            "mean of guive list: 2.6666666666666665\n",
            "[1, 1, 2, 2, 3, 3, 3, 4, 5]\n",
            "total 9\n",
            "mid: 4\n",
            "median of guive list: 2.5\n",
            "mode of guive list: {3}\n"
          ]
        }
      ]
    },
    {
      "cell_type": "markdown",
      "metadata": {
        "id": "CujHQWVHzaJO"
      },
      "source": [
        "**Exercise** - 9 Functions - Continued\n",
        "\n",
        "a) Write a function nearly equal to test whether two strings are nearly equal. Two strings a and bare\n",
        "nearly equal when a can be generated by a single mutation on b.\n",
        "\n",
        "b) Write a function dup to find all duplicates in the list.\n",
        "\n",
        "c) Write a function unique to find all the unique elements of a list."
      ]
    },
    {
      "cell_type": "markdown",
      "metadata": {
        "id": "7KGfK9b-KrZB"
      },
      "source": [
        "**AIM**:\n",
        "\n",
        "a) Write a function nearly equal to test whether two strings are nearly\n",
        "\n",
        "**DESCRIPTION**:\n",
        "\n",
        "**strlen**() function is used to check wether the two string are nearly equal or not by basis of the Length of those Strings\n",
        "\n",
        "len(**bold text**) function is an inbuilt function in Python programming language that returns the length of the string.\n",
        "\n",
        "**len**() is a built-in function in python.You can use the len() to get the length of the given string, array, list, tuple, dictionary, etc.\n",
        "\n",
        "**Value**: the given value you want the length of.\n",
        "\n",
        "Return value a return an integer value i.e. the length of the given string, or array, or list, or collections.\n",
        "\n",
        "Syntax:\n",
        "\n",
        "len(string)"
      ]
    },
    {
      "cell_type": "code",
      "metadata": {
        "id": "XMK1CJxUzqfi",
        "colab": {
          "base_uri": "https://localhost:8080/"
        },
        "outputId": "305c0022-b6bc-4ee3-9912-df78dcdef0d5"
      },
      "source": [
        "def nearlyeq(str1,str2):\n",
        "    count=0\n",
        "    i=j=0\n",
        "    ss=0\n",
        "    while(i<len(str1)and j<len(str2)):\n",
        "        if(str1[i]!=str2[j]):\n",
        "            count+=1\n",
        "        if(len(str1)>len(str2)):\n",
        "            i+=1\n",
        "\n",
        "        elif(len(str1)==len(str2)):\n",
        "            pass\n",
        "        else:\n",
        "            i-=1     \n",
        "        if(count>1):\n",
        "             ss-=1\n",
        "             \n",
        "        i+=1\n",
        "        j+=1\n",
        "        if(count<2):\n",
        "             ss+=1\n",
        "\n",
        "    return ss\n",
        "s1=input(\"enter a string 1:\")\n",
        "s2=input(\"enter the string2:\")\n",
        "t=nearlyeq(s1,s2)\n",
        "if(t>1):\n",
        "    print(\"neraly equal0\")\n",
        "else:\n",
        "    print(\"not nearly equal\")\n"
      ],
      "execution_count": null,
      "outputs": [
        {
          "output_type": "stream",
          "name": "stdout",
          "text": [
            "enter a string 1:satya\n",
            "enter the string2:dghjs\n",
            "not nearly equal\n"
          ]
        }
      ]
    },
    {
      "cell_type": "markdown",
      "metadata": {
        "id": "6pnwkTb3Kvzt"
      },
      "source": [
        "**AIM**:\n",
        "\n",
        "b) Write a function dup to find all duplicates in the list.\n",
        "\n",
        "**DESCRIPTION**:\n",
        "\n",
        "To check if a list contains any duplicate element follow the following steps,\n",
        "\n",
        "Add the contents of list in a set.\n",
        "\n",
        " As set contains only unique elements, so no duplicates will be added   the the set.\n",
        "Compare the size of set and list.\n",
        "\n",
        "     If size of list & set is equal then it means no duplicates in list.\n",
        "\n",
        "If size of list & set are different then it means yes, there are duplicates in list."
      ]
    },
    {
      "cell_type": "code",
      "metadata": {
        "id": "k6ySQVto7dwo",
        "colab": {
          "base_uri": "https://localhost:8080/"
        },
        "outputId": "81e37e04-4bf8-4a29-f28c-307a81020a55"
      },
      "source": [
        "def dup(list):\n",
        "  list1=[]\n",
        "  for i in list:\n",
        "    count=list.count(i)\n",
        "    if(count>1 and (i not in list1)):\n",
        "        list1.append(i)\n",
        "        \n",
        "  print(\"the dups int he list are:\",list1)        \n",
        "list2=[1,2,1,2]\n",
        "\n",
        "dup(list2)\n",
        "\n",
        "\n"
      ],
      "execution_count": null,
      "outputs": [
        {
          "output_type": "stream",
          "name": "stdout",
          "text": [
            "the dups int he list are: [1, 2]\n"
          ]
        }
      ]
    },
    {
      "cell_type": "markdown",
      "metadata": {
        "id": "gL91_qAFK6je"
      },
      "source": [
        "**AIM**:\n",
        "\n",
        "c) Write a function unique to find all the unique elements of a list.\n",
        "\n",
        "**DESCRIPTION**:\n",
        "\n",
        "To find the unique in the list .There is a Specific Method i.e.,\n",
        "\n",
        "Method : Traversal of list\n",
        "\n",
        "Using traversal, we can traverse for every element in the list and check if the element is in the unique_list already if it is not over there, then we can append it in the unique_list.\n",
        "\n",
        "This is done using one for loop and other if statement which check if the value is in the unique list or not which is equivalent to another for loop.\n",
        "\n"
      ]
    },
    {
      "cell_type": "code",
      "metadata": {
        "colab": {
          "base_uri": "https://localhost:8080/"
        },
        "id": "C-1cLkUvCXKt",
        "outputId": "993cd7ab-78e4-4d4e-b61e-8b0ac4af9b5d"
      },
      "source": [
        "def unique(list1):\n",
        "  list2={}\n",
        "\n",
        "  for i in list1:\n",
        "    c=list1.count(i)\n",
        "    if c==1:\n",
        "      list2[i]=c\n",
        "  print(\"the unique elements in the list are:\",list2)\n",
        "\n",
        "list=[1,2,3,45,45,6,88,88,9]\n",
        "unique(list)"
      ],
      "execution_count": null,
      "outputs": [
        {
          "output_type": "stream",
          "text": [
            "the unique elements in the list are: {1: 1, 2: 1, 3: 1, 6: 1, 9: 1}\n"
          ],
          "name": "stdout"
        }
      ]
    },
    {
      "cell_type": "markdown",
      "metadata": {
        "id": "r8SUWzzk8NR9"
      },
      "source": [
        "**Exercise** - 10 - Functions - Problem Solving\n",
        "\n",
        "a) Write a function cumulative product to compute cumulative product of a list of numbers.\n",
        "\n",
        "b) Write a function reverse to reverse a list. Without using the reverse function.\n",
        "\n",
        "c) Write function to compute gcd, lcm of two numbers. Each function shouldn’t exceed one line"
      ]
    },
    {
      "cell_type": "markdown",
      "metadata": {
        "id": "s5f3TcOuK-GJ"
      },
      "source": [
        "**AIM**:\n",
        "\n",
        "a) Write a function cumulative product to compute cumulative product of a list of numbers.\n",
        "\n",
        "**DESCRIPTION**:\n",
        "\n",
        "A cumulative product is a sequence of partial products of a given sequence. For example, the cumulative products of the sequence. , are , , .. Cumulative products can be implemented in the Wolfram Language as Rest[FoldList[Times, 1, list]]\n",
        "\n",
        "cumprod(A,1) works on successive elements in the columns of A and returns the cumulative products of each column. cumprod(A,2) works on successive elements in the rows of A and returns the cumulative products of each row.\n",
        "\n",
        "umprod() function is used when we want to compute the cumulative product of array elements over a given axis. Syntax : numpy.cumprod(arr, axis=None, dtype=None, out=None) Parameters : arr : [array_like] Array containing numbers whose cumulative product is desired."
      ]
    },
    {
      "cell_type": "code",
      "metadata": {
        "id": "_ckm9Ndr8dYD",
        "colab": {
          "base_uri": "https://localhost:8080/"
        },
        "outputId": "460f6ea2-d4c9-43d6-bef4-0c1d4624fb19"
      },
      "source": [
        "def cumulative_product(list1,n):\n",
        "    list2=[]\n",
        "    i=0\n",
        "    list2.append(list1[i])\n",
        "    for i in range(1,n):\n",
        "        v=list1[i]*list2[i-1]\n",
        "        list2.append(v)\n",
        "        \n",
        "    print(list2)\n",
        "list3=[]\n",
        "n=int(input(\"enter size :\"))\n",
        "print(\"enter the data:\")\n",
        "for i in range(0,n):\n",
        "    x=int(input())\n",
        "    list3.append(x)\n",
        "cumulative_product(list3,n)\n"
      ],
      "execution_count": null,
      "outputs": [
        {
          "output_type": "stream",
          "name": "stdout",
          "text": [
            "enter size :2\n",
            "enter the data:\n",
            "1\n",
            "2\n",
            "[1, 2]\n"
          ]
        }
      ]
    },
    {
      "cell_type": "markdown",
      "metadata": {
        "id": "46Gp4MVkLDkh"
      },
      "source": [
        "**AIM**:\n",
        "\n",
        "b) Write a function reverse to reverse a list. Without using the reverse function.\n",
        "\n",
        "**DESCRIPTION**:\n",
        "\n",
        "In this Python code snippet post, we are going to implement a list reverse function from the scratch without using any builtin functions.\n",
        "\n",
        "Let us see how…\n",
        "\n",
        "Iterative solution\n",
        "\n",
        "We can use a for loop to swap the first and last items, the second and the one before the last item and so on until the list is reversed in place. The number of iterations needed is half the list size. If the list has an odd number of items then the middle item will stay in its place.\n",
        "\n"
      ]
    },
    {
      "cell_type": "code",
      "metadata": {
        "id": "PkBxYMm3925Y",
        "colab": {
          "base_uri": "https://localhost:8080/"
        },
        "outputId": "33bfc172-3d01-456c-c9ef-3ce4b1cfe100"
      },
      "source": [
        "def reverse_list(numlist):\n",
        "    temp=list1[::-1]\n",
        "    numlist=temp\n",
        "    return temp\n",
        "list1=[1,2,3,4]\n",
        "print(\"giiven list is :\",list1)\n",
        "print(\"after reverse function:\",reverse_list(list1))\n",
        "print(\"after list is:\",list1)\n",
        "\n"
      ],
      "execution_count": null,
      "outputs": [
        {
          "output_type": "stream",
          "name": "stdout",
          "text": [
            "giiven list is : [1, 2, 3, 4]\n",
            "after reverse function: [4, 3, 2, 1]\n",
            "after list is: [1, 2, 3, 4]\n"
          ]
        }
      ]
    },
    {
      "cell_type": "markdown",
      "metadata": {
        "id": "1Yf05FRTLGlg"
      },
      "source": [
        "**AIM**:\n",
        "\n",
        "c) Write function to compute gcd, lcm of two numbers. Each function shouldn’t exceed one line.\n",
        "\n",
        "DESCRIPTION:\n",
        "**bold text**\n",
        "Python provides you an anonymous function called lambda. It can take any number of arguments, but can only have one expression. It can be used to find LCM and GCD values without exceeding each from from one line.\n",
        "\n",
        "The general format is\n",
        "\n",
        "lambda arguments: expression\n",
        "\n",
        "The expression is executed during the function call and the result is returned.\n",
        "\n",
        "Lambda as a Function\n",
        "\n",
        "The power of using a lambda expression is implementing it using a function"
      ]
    },
    {
      "cell_type": "code",
      "metadata": {
        "id": "evy9PDDE_7l1",
        "colab": {
          "base_uri": "https://localhost:8080/"
        },
        "outputId": "f2e2bf75-f5d4-469e-c328-1cd8d02b7459"
      },
      "source": [
        "gcd=lambda a,b: a if b==0 else gcd(a,a%b)\n",
        "lcm=lambda a,b: (a*b)/gcd(a,b)\n",
        "\n",
        "x=4\n",
        "y=24\n",
        "print(\"gcd=\",gcd(x,y))\n",
        "print(\"lcm=\",lcm(x,y))\n"
      ],
      "execution_count": null,
      "outputs": [
        {
          "output_type": "stream",
          "name": "stdout",
          "text": [
            "gcd= 4\n",
            "lcm= 24.0\n"
          ]
        }
      ]
    },
    {
      "cell_type": "markdown",
      "metadata": {
        "id": "NxosljHhmWlU"
      },
      "source": [
        "**Exercise** 11 - Multi-D Lists\n",
        "\n",
        "a) Write a program that defines a matrix and prints\n",
        "\n",
        "b) Write a program to perform addition of two square matrices\n",
        "\n",
        "c) Write a program to perform multiplication of two square matrices\n",
        "\n",
        "\n"
      ]
    },
    {
      "cell_type": "markdown",
      "metadata": {
        "id": "OO4tPP0gLOLz"
      },
      "source": [
        "**AIM**:\n",
        "\n",
        "a) Write a program that defines a matrix and prints\n",
        "\n",
        "**DESCRIPTION**:\n",
        "\n",
        "Lists are a very widely use data structure in python. They contain a list of elements separated by comma. But sometimes lists can also contain lists within them. These are called nested lists or multidimensional lists. In this article we will see how to create and access elements in a multidimensional list.\n",
        "\n",
        "Methods on Multidimensional lists\n",
        "\n",
        "append(): Adds an element at the end of the list.\n",
        "\n",
        "extend(): Add the elements of a list (or any iterable), to the end of the current list.\n",
        "\n",
        "reverse(): Reverses the order of the list."
      ]
    },
    {
      "cell_type": "code",
      "metadata": {
        "id": "FeO0r4SgmCgm",
        "colab": {
          "base_uri": "https://localhost:8080/"
        },
        "outputId": "f99fa303-8e3b-4552-936b-346b98a88101"
      },
      "source": [
        "\n",
        "\n",
        "def mat_read(rows,cols):\n",
        "    mat=[[int(input(\"Enter the mat[%d,%d] value \"%(i,j)))for j in range(cols)]for i in range (rows)]\n",
        "    return mat\n",
        "def print_mat(rows,cols,mat):\n",
        "    for i in range(rows):\n",
        "        for j in range (cols):\n",
        "            print(mat[i][j],end='\\t')\n",
        "        print()\n",
        "    \n",
        "matA=[[]]\n",
        "matB=[[]]\n",
        "mat_sum=[[]]\n",
        "\n",
        "\n",
        "rows=int(input(\"Enter the row size \"))\n",
        "cols=int(input(\"Enter the column size \"))\n",
        "\n",
        "if(rows==cols):\n",
        "    print(\"For matrix A\")\n",
        "    matA=mat_read(rows,cols)\n",
        "    \n",
        "    print(\"For matrix B\")\n",
        "    matB=mat_read(rows,cols)\n",
        "    \n",
        "    mat_sum=[[matA[i][j]+matB[i][j] for j in range(cols)]for i in range (rows)]\n",
        "\n",
        "    print(\"Matrix A \")\n",
        "    print_mat(rows,cols,matA)\n",
        "    \n",
        "    print(\"Matrix B \")\n",
        "    print_mat(rows,cols,matB)\n",
        "    \n",
        "    print(\"Matrix A+B = \")\n",
        "    print_mat(rows,cols,mat_sum)\n",
        "else:\n",
        "    print(\"Matrix Addition is not possible\")"
      ],
      "execution_count": null,
      "outputs": [
        {
          "output_type": "stream",
          "name": "stdout",
          "text": [
            "Enter the row size 1\n",
            "Enter the column size 2\n",
            "Matrix Addition is not possible\n"
          ]
        }
      ]
    },
    {
      "cell_type": "markdown",
      "metadata": {
        "id": "Wq3vui-6LPj7"
      },
      "source": [
        "**AIM**:\n",
        "\n",
        "b) Write a program to perform addition of two square matrices\n",
        "\n",
        "**DESCRIPTION**:\n",
        "\n",
        "We can perform matrix addition in following ways in Python.\n",
        "\n",
        "Using for loop:\n",
        "Explanation :- In this program we have used nested for loops to iterate through each row and each column. At each point we add the corresponding elements in the two matrices and store it in the result.\n",
        "\n",
        "Using nested list comprehension :\n",
        "\n",
        "In Python, we can implement a matrix as nested list (list inside a list). We can treat each element as a row of the matrix.\n",
        "\n",
        "Explanation :-\n",
        "\n",
        "The output of this program is the same as above. We have used nested list comprehension to iterate through each element in the matrix. List comprehension allows us to write concise codes and we must try to use them frequently in Python. They are very helpful.\n",
        "\n",
        "uising zip function\n",
        "Explanation :\n",
        "\n",
        "The zip function accepts iterator i of each element(list) of matrix, mapping them, adding them using sum() and storing them in the map form.\n",
        "\n"
      ]
    },
    {
      "cell_type": "code",
      "metadata": {
        "id": "wvQcYbwOmSDR",
        "colab": {
          "base_uri": "https://localhost:8080/"
        },
        "outputId": "2922da09-4822-47fa-83d2-21bfb0abe390"
      },
      "source": [
        "def mat_read(rows,cols):\n",
        "    mat=[[int(input(\"Enter the mat[%d,%d] value \"%(i,j)))for j in range(cols)]for i in range (rows)]\n",
        "    return mat\n",
        "def print_mat(rows,cols,mat):\n",
        "    for i in range(rows):\n",
        "        for j in range (cols):\n",
        "            print(mat[i][j],end='\\t')\n",
        "        print()\n",
        "    \n",
        "matA=[[]]\n",
        "matB=[[]]\n",
        "mat_mul=[[]]\n",
        "\n",
        "\n",
        "rows=int(input(\"Enter the row size \"))\n",
        "cols=int(input(\"Enter the column size \"))\n",
        "\n",
        "if(rows==cols):\n",
        "    print(\"For matrix A\")\n",
        "    matA=mat_read(rows,cols)\n",
        "    \n",
        "    print(\"For matrix B\")\n",
        "    matB=mat_read(rows,cols)\n",
        "    \n",
        "    mat_mul=[[0 for j in range(cols)]for i in range (rows)]\n",
        "\n",
        "    for i in range (rows):\n",
        "        for j in range(cols):\n",
        "            for k in range(cols):\n",
        "                mat_mul[i][j]+=matA[i][k]*matB[k][j]\n",
        "\n",
        "    print(\"Matrix A \")\n",
        "    print_mat(rows,cols,matA)\n",
        "    \n",
        "    print(\"Matrix B \")\n",
        "    print_mat(rows,cols,matB)\n",
        "    \n",
        "    print(\"Matrix A*B = \")\n",
        "    print_mat(rows,cols,mat_mul)\n",
        "else:\n",
        "    print(\"Matrix multiplication is not possible\")"
      ],
      "execution_count": null,
      "outputs": [
        {
          "output_type": "stream",
          "name": "stdout",
          "text": [
            "Enter the row size 1\n",
            "Enter the column size 2\n",
            "Matrix multiplication is not possible\n"
          ]
        }
      ]
    },
    {
      "cell_type": "markdown",
      "metadata": {
        "id": "yvAIoHTALgTY"
      },
      "source": [
        "**AIM**:\n",
        "\n",
        "c) Write a program to perform multiplication of two square\n",
        "\n",
        "**DESCRIPTION**:\n",
        "\n",
        "In Python, we can implement a matrix as nested list (list inside a list).\n",
        "\n",
        "We can treat each element as a row of the matrix.\n",
        "\n",
        "For example X = [[1, 2], [4, 5], [3, 6]] would represent a 3x2 matrix.\n",
        "\n",
        "The first row can be selected as X[0]. And, the element in first row, first column can be selected as X[0][0].\n",
        "\n",
        "Multiplication of two matrices X and Y is defined only if the number of columns in X is equal to the number of rows Y.\n",
        "\n",
        "If X is a n x m matrix and Y is a m x l matrix then, XY is defined and has the dimension n x l (but YX is not defined). Here are a couple of ways to implement matrix multiplication in Python."
      ]
    },
    {
      "cell_type": "code",
      "metadata": {
        "colab": {
          "base_uri": "https://localhost:8080/"
        },
        "id": "SA5xrQI3LhVL",
        "outputId": "a8e8fb71-e79c-4f88-f256-55f134062958"
      },
      "source": [
        "def matRead(r,c):\n",
        "   return[[int(input(\"[%d,%d]value: \"%(i,j)))for j in range(c)] for i in range(r)]\n",
        "\n",
        "def matDisp(mat,r,c):\n",
        "    for i in range(r):\n",
        "        for j in range(c):\n",
        "            print(mat[i][j],end='\\t')\n",
        "        print()\n",
        "\n",
        "matA=[[]]\n",
        "matB=[[]]\n",
        "matMul=[[]]\n",
        "rows=int(input(\"Enter Row Size of the Matrix: \"))\n",
        "cols=int(input(\"Enter column size of the Matrix: \"))\n",
        "if rows==cols:\n",
        "    print(\"Enter Matrix-A: \")\n",
        "    matA=matRead(rows,cols)\n",
        "\n",
        "    print(\"Enter Matrix-B: \")\n",
        "    matB=matRead(rows,cols)\n",
        "\n",
        "    matMul=[[0 for j in range(cols)] for i in range(rows)]\n",
        "\n",
        "    for i in range(rows):\n",
        "        for j in range(cols):\n",
        "            for k in range(cols):\n",
        "                matMul[i][j]+=matA[i][k]*matB[k][j]\n",
        "                \n",
        "    print(\"Matrix-A is: \")\n",
        "    matDisp(matA,rows,cols)\n",
        "\n",
        "    print(\"Matrix-B is: \")\n",
        "    matDisp(matB,rows,cols)\n",
        "\n",
        "    print(\"Multiplication of Matrices is: \")\n",
        "    matDisp(matMul,rows,cols)\n",
        "else:\n",
        "    print(\"Matrices Multiplication is not possible\")"
      ],
      "execution_count": null,
      "outputs": [
        {
          "output_type": "stream",
          "name": "stdout",
          "text": [
            "Enter Row Size of the Matrix: 2\n",
            "Enter column size of the Matrix: 2\n",
            "Enter Matrix-A: \n",
            "[0,0]value: 1\n",
            "[0,1]value: 2\n",
            "[1,0]value: 1\n",
            "[1,1]value: 2\n",
            "Enter Matrix-B: \n",
            "[0,0]value: 1\n",
            "[0,1]value: 2\n",
            "[1,0]value: 1\n",
            "[1,1]value: 2\n",
            "Matrix-A is: \n",
            "1\t2\t\n",
            "1\t2\t\n",
            "Matrix-B is: \n",
            "1\t2\t\n",
            "1\t2\t\n",
            "Multiplication of Matrices is: \n",
            "3\t6\t\n",
            "3\t6\t\n"
          ]
        }
      ]
    },
    {
      "cell_type": "markdown",
      "metadata": {
        "id": "s87r5c9S7Yv-"
      },
      "source": [
        "**Exercise** 12: Modules\n",
        "\n",
        "a) Install packages requests, flask and explore them. using (pip)\n",
        "\n",
        "b) Write a script that imports requests and fetch content from the page. Eg. (Wiki)\n",
        "c) Write a simple script that serves a simple HTTPResponse and a simple HTML Page"
      ]
    },
    {
      "cell_type": "markdown",
      "metadata": {
        "id": "QPBvnq_NLXEY"
      },
      "source": [
        "**AIM**:\n",
        "\n",
        "a) Install packages requests,flask and explore them using(pip)\n",
        "\n",
        "**DESCRIPTION**:\n",
        "\n",
        "Installing the pip Python package manager on Windows If you are on Windows, and your installed Python the current version, you already have pip! If your Python installation is not the most recent, the easiest thing to do is to simply reinstall it. Download the Python Windows installer at https://www.python.org/downloads/.\n",
        "\n",
        "In Windows, the variable that controls which programs are accessible from the command line is path. To modify your path to include Python and pip, we have to add C:\\Python27 and C:\\Python27\\Tools. Edit the Windows path by opening the Windows menu, right-clicking on Computer and clicking on Properties. Under Advanced system settings, click Environment Variables.... Scroll down until you find Path, double-click it, and add ;C:\\Python27;C:\\Python27\\Tools to the end.\n",
        "\n",
        "Installing packages:\n",
        "\n",
        "Suppose you want to install a package called requests (which is used to make HTTP requests). You need to issue the following command.\n",
        "\n",
        "pip install requests\n",
        "\n",
        "show installed packages\n",
        "\n",
        "You can use the following command to get information about a installed package, i.e Package name, version, location, dependencies.\n",
        "\n",
        "pip show package_name\n",
        "\n",
        "install flask\n",
        "\n",
        "On Mac and Linux, because you are installing programs outside the user-owned folders, you might have to prepend sudo to the install commands. To install Flask, simply run this:\n",
        "\n",
        "$ pip install flask\n",
        "\n",
        "show installed flask\n",
        "\n",
        "You can use the following command to get information about a installed flask, i.e Package name, version, location, dependencies\n",
        "\n",
        "$ pip show flask\n",
        "\n",
        "PROGRAM:"
      ]
    },
    {
      "cell_type": "code",
      "metadata": {
        "id": "Ynx5khAqS1yK"
      },
      "source": [
        "The requests and flask packages are download from internet using the following commands.\n",
        "C:\\python3.9\\scripts>pip install requests\n",
        "\n",
        "C:\\python3.9\\scripts>pip show requests\n",
        "\n",
        "C:\\python3.9\\scripts>pip install flask\n",
        "\n",
        "C:\\python3.9\\scripts>pip show flask"
      ],
      "execution_count": null,
      "outputs": []
    },
    {
      "cell_type": "markdown",
      "metadata": {
        "id": "QiTAMdQh-SOK"
      },
      "source": [
        "https://drive.google.com/file/d/1H1xDdPf3STLM8BivVum2IE9DHUaVUov5/view?usp=sharing"
      ]
    },
    {
      "cell_type": "markdown",
      "metadata": {
        "id": "9YG2hvoz-XY9"
      },
      "source": [
        "https://drive.google.com/file/d/1s7OuAcNw0mleuB1PE6DnN93fDFzHaDCd/view?usp=sharing"
      ]
    },
    {
      "cell_type": "markdown",
      "metadata": {
        "id": "veYhTZUK-rhb"
      },
      "source": [
        "https://drive.google.com/file/d/1Y5tZqVGVbtNItIsEVKmmv_VCtHo_Gieq/view?usp=sharing"
      ]
    },
    {
      "cell_type": "markdown",
      "metadata": {
        "id": "zt5d8Bvt-sHZ"
      },
      "source": [
        "https://drive.google.com/file/d/111lqK5HU4_SpTlOQ_52nEn5g41X-ESkI/view?usp=sharing"
      ]
    },
    {
      "cell_type": "markdown",
      "metadata": {
        "id": "8lURVCxVL0O2"
      },
      "source": [
        "**AIM**:\n",
        "\n",
        "b) Write a scripts that imports requests and fetch content from the page.Eg. (Wiki)code:\n",
        "\n",
        "**DESCRIPTION**:\n",
        "\n",
        "The Hypertext Transfer Protocol (HTTP) is an application protocol for distributed, collaborative, hypermedia information systems. HTTP is the foundation of data communication for the World Wide Web.\n",
        "\n",
        "Python requests\n",
        "\n",
        "Requests is a simple and elegant Python HTTP library. It provides methods for accessing Web resources via HTTP.\n",
        "\n",
        "Python requests reading a web page\n",
        "\n",
        "The get() method issues a GET request; it fetches documents identified by the given URL.\n",
        "\n",
        "PROGRAM:"
      ]
    },
    {
      "cell_type": "code",
      "metadata": {
        "id": "702LjyV07Y9b",
        "colab": {
          "base_uri": "https://localhost:8080/"
        },
        "outputId": "706a7656-8abb-404d-e668-8cf091dbd737"
      },
      "source": [
        " import requests\n",
        "r=requests.get('https://www.google.com')\n",
        "print(\"status coed:\",r.status_code)\n",
        "print(\"header content:\",r.headers['content-type'])\n",
        "print(r.text)"
      ],
      "execution_count": null,
      "outputs": [
        {
          "output_type": "stream",
          "name": "stdout",
          "text": [
            "status coed: 200\n",
            "header content: text/html; charset=ISO-8859-1\n",
            "<!doctype html><html itemscope=\"\" itemtype=\"http://schema.org/WebPage\" lang=\"en\"><head><meta content=\"Search the world's information, including webpages, images, videos and more. Google has many special features to help you find exactly what you're looking for.\" name=\"description\"><meta content=\"noodp\" name=\"robots\"><meta content=\"text/html; charset=UTF-8\" http-equiv=\"Content-Type\"><meta content=\"/logos/doodles/2021/doodle-champion-island-games-september-05-6753651837109292-l.png\" itemprop=\"image\"><meta content=\"Doodle Champion Island Games!\" property=\"twitter:title\"><meta content=\"Feline up for a challenge? Help Lucky claim victory in the Doodle Champion Island Games! #GoogleDoodle \" property=\"twitter:description\"><meta content=\"Feline up for a challenge? Help Lucky claim victory in the Doodle Champion Island Games! #GoogleDoodle \" property=\"og:description\"><meta content=\"summary_large_image\" property=\"twitter:card\"><meta content=\"@GoogleDoodles\" property=\"twitter:site\"><meta content=\"https://www.google.com/logos/doodles/2021/doodle-champion-island-games-september-05-6753651837109292-2xa.gif\" property=\"twitter:image\"><meta content=\"https://www.google.com/logos/doodles/2021/doodle-champion-island-games-september-05-6753651837109292-2xa.gif\" property=\"og:image\"><meta content=\"668\" property=\"og:image:width\"><meta content=\"392\" property=\"og:image:height\"><meta content=\"https://www.google.com/logos/doodles/2021/doodle-champion-island-games-september-05-6753651837109292-2xa.gif\" property=\"og:url\"><meta content=\"video.other\" property=\"og:type\"><title>Google</title><script nonce=\"ZxlFy70xo4o03l0uyB+4sA==\">(function(){window.google={kEI:'ic80YdXqHrOo0PEPqZ-14AQ',kEXPI:'0,772215,1,530320,56873,954,755,4349,207,4804,2316,383,246,5,1354,4936,314,1122516,1197726,557,118,328866,51223,16115,28684,17572,4858,998,364,9291,3023,17585,4020,978,13228,3847,10622,1142,13621,4285,2774,919,5081,1593,1279,2212,241,289,149,1103,840,1030,953,213,4101,108,3406,606,2023,2297,14670,3227,1989,856,7,5599,6755,5096,14396,1372,552,908,2,941,2614,3784,8926,432,3,1590,1,5445,148,11323,2652,4,1528,2304,1236,5227,576,74,1983,2627,2014,11501,3824,3050,2658,4243,3114,30,11412,2216,2305,638,37,1457,5586,3772,5993,1435,2521,3261,2575,4094,20,3118,6,908,3,3541,1,5349,9361,1,1813,283,912,5992,14678,658,1,110,8,1,1272,1344,371,2,3057,6155,11,616,4,32,4,5387,4,91,592,442,342,255,55,4,48,138,2,246,58,257,2062,123,39,1518,744,5852,2051,8412,1160,1269,2834,2306,290,2381,2718,3709,2,835,3,125,3854,1239,255,360,4275,1213,2391,1,8,170,2,6822,32,727,1933,190,2446,1596,981,78,3058,545,159,3855,1,2,2,1349,1264,52,33,1,183,627,29,2,4,1627,49,52,207,280,719,3,792,672,2323,4,7,57,1677,651,1090,331,199,94,23,5,27,1,372,36,36,622,528,783,638,33,2205,97,168,77,311,139,2,362,300,266,447,1662,103,369,125,242,70,6,1199,244,149,84,872,377,2,741,144,368,40,2,3,371,3,468,259,158,556,7,226,5579998,2032,226,220,72,133,74,19,5995399,1172,2800696,882,444,1,2,80,1,1796,1,9,2553,1,748,141,795,563,1,4265,1,1,2,1331,4142,2609,155,17,13,72,139,4,2,20,2,169,13,19,46,5,39,96,548,29,2,2,1,2,1,2,2,7,4,1,2,2,2,2,2,2,353,513,186,1,1,158,3,2,2,2,2,2,4,2,3,3,269,291,53,24,36,6,39,52,4,21,23654332,299864,2862028,1179324,338,3,2414,448,2,91,372,172,406,9,113,2786,340,121,1415,799,194',kBL:'Wtym'};google.sn='webhp';google.kHL='en';})();(function(){\n",
            "var f=this||self;var h,k=[];function l(a){for(var b;a&&(!a.getAttribute||!(b=a.getAttribute(\"eid\")));)a=a.parentNode;return b||h}function m(a){for(var b=null;a&&(!a.getAttribute||!(b=a.getAttribute(\"leid\")));)a=a.parentNode;return b}\n",
            "function n(a,b,c,d,g){var e=\"\";c||-1!==b.search(\"&ei=\")||(e=\"&ei=\"+l(d),-1===b.search(\"&lei=\")&&(d=m(d))&&(e+=\"&lei=\"+d));d=\"\";!c&&f._cshid&&-1===b.search(\"&cshid=\")&&\"slh\"!==a&&(d=\"&cshid=\"+f._cshid);c=c||\"/\"+(g||\"gen_204\")+\"?atyp=i&ct=\"+a+\"&cad=\"+b+e+\"&zx=\"+Date.now()+d;/^http:/i.test(c)&&\"https:\"===window.location.protocol&&(google.ml&&google.ml(Error(\"a\"),!1,{src:c,glmm:1}),c=\"\");return c};h=google.kEI;google.getEI=l;google.getLEI=m;google.ml=function(){return null};google.log=function(a,b,c,d,g){if(c=n(a,b,c,d,g)){a=new Image;var e=k.length;k[e]=a;a.onerror=a.onload=a.onabort=function(){delete k[e]};a.src=c}};google.logUrl=n;}).call(this);(function(){\n",
            "google.y={};google.sy=[];google.x=function(a,b){if(a)var c=a.id;else{do c=Math.random();while(google.y[c])}google.y[c]=[a,b];return!1};google.sx=function(a){google.sy.push(a)};google.lm=[];google.plm=function(a){google.lm.push.apply(google.lm,a)};google.lq=[];google.load=function(a,b,c){google.lq.push([[a],b,c])};google.loadAll=function(a,b){google.lq.push([a,b])};google.bx=!1;google.lx=function(){};}).call(this);google.f={};(function(){\n",
            "document.documentElement.addEventListener(\"submit\",function(b){var a;if(a=b.target){var c=a.getAttribute(\"data-submitfalse\");a=\"1\"==c||\"q\"==c&&!a.elements.q.value?!0:!1}else a=!1;a&&(b.preventDefault(),b.stopPropagation())},!0);document.documentElement.addEventListener(\"click\",function(b){var a;a:{for(a=b.target;a&&a!=document.documentElement;a=a.parentElement)if(\"A\"==a.tagName){a=\"1\"==a.getAttribute(\"data-nohref\");break a}a=!1}a&&b.preventDefault()},!0);}).call(this);</script><style>#gbar,#guser{font-size:13px;padding-top:1px !important;}#gbar{height:22px}#guser{padding-bottom:7px !important;text-align:right}.gbh,.gbd{border-top:1px solid #c9d7f1;font-size:1px}.gbh{height:0;position:absolute;top:24px;width:100%}@media all{.gb1{height:22px;margin-right:.5em;vertical-align:top}#gbar{float:left}}a.gb1,a.gb4{text-decoration:underline !important}a.gb1,a.gb4{color:#00c !important}.gbi .gb4{color:#dd8e27 !important}.gbf .gb4{color:#900 !important}\n",
            "</style><style>body,td,a,p,.h{font-family:arial,sans-serif}body{margin:0;overflow-y:scroll}#gog{padding:3px 8px 0}td{line-height:.8em}.gac_m td{line-height:17px}form{margin-bottom:20px}.h{color:#1558d6}em{font-weight:bold;font-style:normal}.lst{height:25px;width:496px}.gsfi,.lst{font:18px arial,sans-serif}.gsfs{font:17px arial,sans-serif}.ds{display:inline-box;display:inline-block;margin:3px 0 4px;margin-left:4px}input{font-family:inherit}body{background:#fff;color:#000}a{color:#4b11a8;text-decoration:none}a:hover,a:active{text-decoration:underline}.fl a{color:#1558d6}a:visited{color:#4b11a8}.sblc{padding-top:5px}.sblc a{display:block;margin:2px 0;margin-left:13px;font-size:11px}.lsbb{background:#f8f9fa;border:solid 1px;border-color:#dadce0 #70757a #70757a #dadce0;height:30px}.lsbb{display:block}#WqQANb a{display:inline-block;margin:0 12px}.lsb{background:url(/images/nav_logo229.png) 0 -261px repeat-x;border:none;color:#000;cursor:pointer;height:30px;margin:0;outline:0;font:15px arial,sans-serif;vertical-align:top}.lsb:active{background:#dadce0}.lst:focus{outline:none}</style><script nonce=\"ZxlFy70xo4o03l0uyB+4sA==\"></script></head><body bgcolor=\"#fff\"><script nonce=\"ZxlFy70xo4o03l0uyB+4sA==\">(function(){var src='/images/nav_logo229.png';var iesg=false;document.body.onload = function(){window.n && window.n();if (document.images){new Image().src=src;}\n",
            "if (!iesg){document.f&&document.f.q.focus();document.gbqf&&document.gbqf.q.focus();}\n",
            "}\n",
            "})();</script><div id=\"mngb\"><div id=gbar><nobr><b class=gb1>Search</b> <a class=gb1 href=\"https://www.google.com/imghp?hl=en&tab=wi\">Images</a> <a class=gb1 href=\"https://maps.google.com/maps?hl=en&tab=wl\">Maps</a> <a class=gb1 href=\"https://play.google.com/?hl=en&tab=w8\">Play</a> <a class=gb1 href=\"https://www.youtube.com/?gl=US&tab=w1\">YouTube</a> <a class=gb1 href=\"https://news.google.com/?tab=wn\">News</a> <a class=gb1 href=\"https://mail.google.com/mail/?tab=wm\">Gmail</a> <a class=gb1 href=\"https://drive.google.com/?tab=wo\">Drive</a> <a class=gb1 style=\"text-decoration:none\" href=\"https://www.google.com/intl/en/about/products?tab=wh\"><u>More</u> &raquo;</a></nobr></div><div id=guser width=100%><nobr><span id=gbn class=gbi></span><span id=gbf class=gbf></span><span id=gbe></span><a href=\"http://www.google.com/history/optout?hl=en\" class=gb4>Web History</a> | <a  href=\"/preferences?hl=en\" class=gb4>Settings</a> | <a target=_top id=gb_70 href=\"https://accounts.google.com/ServiceLogin?hl=en&passive=true&continue=https://www.google.com/&ec=GAZAAQ\" class=gb4>Sign in</a></nobr></div><div class=gbh style=left:0></div><div class=gbh style=right:0></div></div><center><br clear=\"all\" id=\"lgpd\"><div id=\"lga\"><a href=\"/search?ie=UTF-8&amp;q=Paralympics&amp;oi=ddle&amp;ct=192414335&amp;hl=en&amp;si=AHuW2sT-QI6yLdyEfUBJHlK3UbYl5IMFaEVy5cpr0uPqDA9_otVXb9ripiHnz-EX5hXZ_jIa8ESKopokBeQtHfj9KzxO6Dw9kGEpQWJxyyGVK2B-ksVRRB0%3D&amp;sa=X&amp;ved=0ahUKEwiV04-egejyAhUzFDQIHalPDUwQPQgD\"><img alt=\"Doodle Champion Island Games!\" border=\"0\" height=\"196\" src=\"/logos/doodles/2021/doodle-champion-island-games-september-05-6753651837109292-l.png\" title=\"Doodle Champion Island Games!\" width=\"334\" id=\"hplogo\"><br></a><br></div><form action=\"/search\" name=\"f\"><table cellpadding=\"0\" cellspacing=\"0\"><tr valign=\"top\"><td width=\"25%\">&nbsp;</td><td align=\"center\" nowrap=\"\"><input name=\"ie\" value=\"ISO-8859-1\" type=\"hidden\"><input value=\"en\" name=\"hl\" type=\"hidden\"><input name=\"source\" type=\"hidden\" value=\"hp\"><input name=\"biw\" type=\"hidden\"><input name=\"bih\" type=\"hidden\"><div class=\"ds\" style=\"height:32px;margin:4px 0\"><input class=\"lst\" style=\"margin:0;padding:5px 8px 0 6px;vertical-align:top;color:#000\" autocomplete=\"off\" value=\"\" title=\"Google Search\" maxlength=\"2048\" name=\"q\" size=\"57\"></div><br style=\"line-height:0\"><span class=\"ds\"><span class=\"lsbb\"><input class=\"lsb\" value=\"Google Search\" name=\"btnG\" type=\"submit\"></span></span><span class=\"ds\"><span class=\"lsbb\"><input class=\"lsb\" id=\"tsuid1\" value=\"I'm Feeling Lucky\" name=\"btnI\" type=\"submit\"><script nonce=\"ZxlFy70xo4o03l0uyB+4sA==\">(function(){var id='tsuid1';document.getElementById(id).onclick = function(){if (this.form.q.value){this.checked = 1;if (this.form.iflsig)this.form.iflsig.disabled = false;}\n",
            "else top.location='/doodles/';};})();</script><input value=\"ALs-wAMAAAAAYTTdmWUn9RtgGdF8CIMxewnks3HaGD95\" name=\"iflsig\" type=\"hidden\"></span></span></td><td class=\"fl sblc\" align=\"left\" nowrap=\"\" width=\"25%\"><a href=\"/advanced_search?hl=en&amp;authuser=0\">Advanced search</a></td></tr></table><input id=\"gbv\" name=\"gbv\" type=\"hidden\" value=\"1\"><script nonce=\"ZxlFy70xo4o03l0uyB+4sA==\">(function(){\n",
            "var a,b=\"1\";if(document&&document.getElementById)if(\"undefined\"!=typeof XMLHttpRequest)b=\"2\";else if(\"undefined\"!=typeof ActiveXObject){var c,d,e=[\"MSXML2.XMLHTTP.6.0\",\"MSXML2.XMLHTTP.3.0\",\"MSXML2.XMLHTTP\",\"Microsoft.XMLHTTP\"];for(c=0;d=e[c++];)try{new ActiveXObject(d),b=\"2\"}catch(h){}}a=b;if(\"2\"==a&&-1==location.search.indexOf(\"&gbv=2\")){var f=google.gbvu,g=document.getElementById(\"gbv\");g&&(g.value=a);f&&window.setTimeout(function(){location.href=f},0)};}).call(this);</script></form><div id=\"gac_scont\"></div><div style=\"font-size:83%;min-height:3.5em\"><br></div><span id=\"footer\"><div style=\"font-size:10pt\"><div style=\"margin:19px auto;text-align:center\" id=\"WqQANb\"><a href=\"/intl/en/ads/\">Advertising Programs</a><a href=\"/services/\">Business Solutions</a><a href=\"/intl/en/about.html\">About Google</a></div></div><p style=\"font-size:8pt;color:#70757a\">&copy; 2021 - <a href=\"/intl/en/policies/privacy/\">Privacy</a> - <a href=\"/intl/en/policies/terms/\">Terms</a></p></span></center><script nonce=\"ZxlFy70xo4o03l0uyB+4sA==\">(function(){window.google.cdo={height:757,width:1440};(function(){\n",
            "var a=window.innerWidth,b=window.innerHeight;if(!a||!b){var c=window.document,d=\"CSS1Compat\"==c.compatMode?c.documentElement:c.body;a=d.clientWidth;b=d.clientHeight}a&&b&&(a!=google.cdo.width||b!=google.cdo.height)&&google.log(\"\",\"\",\"/client_204?&atyp=i&biw=\"+a+\"&bih=\"+b+\"&ei=\"+google.kEI);}).call(this);})();</script> <script nonce=\"ZxlFy70xo4o03l0uyB+4sA==\">(function(){google.xjs={ck:'',cs:'',excm:[]};})();</script>  <script nonce=\"ZxlFy70xo4o03l0uyB+4sA==\">(function(){var u='/xjs/_/js/k\\x3dxjs.hp.en_US.uJVE4aH5PNY.O/am\\x3dAPgEWA/d\\x3d1/ed\\x3d1/rs\\x3dACT90oHMCNW-abUb8NKgcji0KPjTPcrpeg/m\\x3dsb_he,d';\n",
            "var e=this||self,f=function(a){return a};var g;var l=function(a,b){this.g=b===h?a:\"\"};l.prototype.toString=function(){return this.g+\"\"};var h={};function m(){var a=u;google.lx=function(){n(a);google.lx=function(){}};google.bx||google.lx()}\n",
            "function n(a){google.timers&&google.timers.load&&google.tick&&google.tick(\"load\",\"xjsls\");var b=document;var c=\"SCRIPT\";\"application/xhtml+xml\"===b.contentType&&(c=c.toLowerCase());c=b.createElement(c);if(void 0===g){b=null;var k=e.trustedTypes;if(k&&k.createPolicy){try{b=k.createPolicy(\"goog#html\",{createHTML:f,createScript:f,createScriptURL:f})}catch(p){e.console&&e.console.error(p.message)}g=b}else g=b}a=(b=g)?b.createScriptURL(a):a;a=new l(a,h);c.src=a instanceof l&&a.constructor===l?a.g:\"type_error:TrustedResourceUrl\";var d;a=(c.ownerDocument&&c.ownerDocument.defaultView||window).document;(d=(b=null===(d=a.querySelector)||void 0===d?void 0:d.call(a,\"script[nonce]\"))?b.nonce||b.getAttribute(\"nonce\")||\"\":\"\")&&c.setAttribute(\"nonce\",d);document.body.appendChild(c);google.psa=!0};setTimeout(function(){m()},0);})();(function(){window.google.xjsu='/xjs/_/js/k\\x3dxjs.hp.en_US.uJVE4aH5PNY.O/am\\x3dAPgEWA/d\\x3d1/ed\\x3d1/rs\\x3dACT90oHMCNW-abUb8NKgcji0KPjTPcrpeg/m\\x3dsb_he,d';})();function _DumpException(e){throw e;}\n",
            "function _F_installCss(c){}\n",
            "(function(){google.jl={attn:false,blt:'none',chnk:0,dw:false,emtn:0,end:0,ine:false,lls:'default',pdt:0,rep:0,sif:true,snet:true,strt:0,ubm:false,uwp:true};})();(function(){var pmc='{\\x22d\\x22:{},\\x22sb_he\\x22:{\\x22agen\\x22:true,\\x22cgen\\x22:true,\\x22client\\x22:\\x22heirloom-hp\\x22,\\x22dh\\x22:true,\\x22dhqt\\x22:true,\\x22ds\\x22:\\x22\\x22,\\x22ffql\\x22:\\x22en\\x22,\\x22fl\\x22:true,\\x22host\\x22:\\x22google.com\\x22,\\x22isbh\\x22:28,\\x22jsonp\\x22:true,\\x22msgs\\x22:{\\x22cibl\\x22:\\x22Clear Search\\x22,\\x22dym\\x22:\\x22Did you mean:\\x22,\\x22lcky\\x22:\\x22I\\\\u0026#39;m Feeling Lucky\\x22,\\x22lml\\x22:\\x22Learn more\\x22,\\x22oskt\\x22:\\x22Input tools\\x22,\\x22psrc\\x22:\\x22This search was removed from your \\\\u003Ca href\\x3d\\\\\\x22/history\\\\\\x22\\\\u003EWeb History\\\\u003C/a\\\\u003E\\x22,\\x22psrl\\x22:\\x22Remove\\x22,\\x22sbit\\x22:\\x22Search by image\\x22,\\x22srch\\x22:\\x22Google Search\\x22},\\x22ovr\\x22:{},\\x22pq\\x22:\\x22\\x22,\\x22refpd\\x22:true,\\x22rfs\\x22:[],\\x22sbas\\x22:\\x220 3px 8px 0 rgba(0,0,0,0.2),0 0 0 1px rgba(0,0,0,0.08)\\x22,\\x22sbpl\\x22:16,\\x22sbpr\\x22:16,\\x22scd\\x22:10,\\x22stok\\x22:\\x22deo5NKhL8HsiB_zvn9ECtHaT0X4\\x22,\\x22uhde\\x22:false}}';google.pmc=JSON.parse(pmc);})();</script>        </body></html>\n"
          ]
        }
      ]
    },
    {
      "cell_type": "markdown",
      "metadata": {
        "id": "dKrsJOeRL_ca"
      },
      "source": [
        "**AIM**:\n",
        "\n",
        "c) Write a simple script that serves a simple HTTPResponse and Simple HTML page.\n",
        "\n",
        "**DESCRIPTION**:\n",
        "\n",
        "HTTP Protocol\n",
        "\n",
        "The most important part of a web server is HTTP protocol.So now we will see what exactly this is –\n",
        "\n",
        "It stands for Hyper Text Transfer Protocol.\n",
        "\n",
        "It is an application layer protocol that allows web based applications to communicate and exchange data.\n",
        "\n",
        "The HTTP is the messenger of web.\n",
        "\n",
        "The computer that communicate via the HTTP must speak the HTTP protocol.\n",
        "\n",
        "It is a TCP/IP based protocol.\n",
        "\n",
        "It is used to deliver contents, for eg. images, audios, videos, documents etc.\n",
        "\n",
        "Using HTTP is the most convenient way to quickly and reliably move data on the web.\n",
        "\n",
        "HTML stands for hypertext markup language. It is the standard markup language for web pages that define the structure of the content. These elements are the building blocks of any website"
      ]
    },
    {
      "cell_type": "code",
      "metadata": {
        "id": "UX0iPjwD7ZAv",
        "colab": {
          "base_uri": "https://localhost:8080/"
        },
        "outputId": "f5a394a8-85e5-4bfd-ecb3-5b244310e165"
      },
      "source": [
        " from flask import Flask,render_template\n",
        "app=Flask(__name__)\n",
        "print(app)\n",
        "@app.route(\"/\")\n",
        "def main():\n",
        "  return render_template('login.html')\n",
        "  if __name__==\"__main__\":\n",
        "    app.run(host=\"127.0.0.1\",port=2500)"
      ],
      "execution_count": null,
      "outputs": [
        {
          "output_type": "stream",
          "name": "stdout",
          "text": [
            "<Flask '__main__'>\n"
          ]
        }
      ]
    },
    {
      "cell_type": "markdown",
      "metadata": {
        "id": "qREE85rRoUjT"
      },
      "source": [
        "**Exercise** - 13 OOP\n",
        "\n",
        "a) Class variables and instance variable and illustration of the self-variable\n",
        "\n",
        "i) Robot\n",
        "\n",
        "ii) ATM Machine"
      ]
    },
    {
      "cell_type": "markdown",
      "metadata": {
        "id": "WbmErsIiME5R"
      },
      "source": [
        "**AIM**:\n",
        "\n",
        "a)class variables and instance variable and illustration of the self -variable\n",
        "\n",
        "**DESCRIPTION**:\n",
        "\n",
        "Variables are named storage location. In python variables are not defined by its type instead it will be automatically determined by the value assigned to it. To determine the type of a variable a function called type () is used.\n",
        "\n",
        "class variableis shared by all object instances of a class. ... They are not defined inside any methods of a class. Because a class variable is shared by instances of a class, the Python class owns the variable. As a result, all instances of the class will be able to access that variable\n",
        "\n",
        "Instance variables are owned by instances of the class. This means that for each object or instance of a class, the instance variables are different. ... Instance variables, owned by objects of the class, allow for each object or instance to have different values assigned to those variables\n",
        "\n",
        "self variable is used to bind the instance of the class to the instance method. We have to explicitly declare it as the first method argument to access the instance variables and methods. This variable is used only with the instance methods.\n",
        "\n",
        "PROGRAM:\n",
        "\n",
        "i)ATM ii)robot"
      ]
    },
    {
      "cell_type": "code",
      "metadata": {
        "id": "8hDJCaQtoYdf",
        "colab": {
          "base_uri": "https://localhost:8080/"
        },
        "outputId": "9f5f5e27-5597-4241-8e80-75e931566c98"
      },
      "source": [
        "class ATM :\n",
        "\tdef _init_(self):\n",
        "\t\tself.balance=1000\n",
        "\t\t\n",
        "\tdef check_balance(self):\n",
        "\t      print(\"The balance in your account is ::\",self.balance)\n",
        "\tdef withdraw_balance(self):\n",
        "\t\tprint(\"Enter balance to withdraw\")\n",
        "\t\tself._init_()\n",
        "\t\tself.amount=int(input())\n",
        "\t\tif self.amount>self.balance:\n",
        "\t\t\tprint(\"Insuffient amount\")\n",
        "\t\telse:\n",
        "\t\t\tself.balance-=self.amount\n",
        "\t\t\tself.check_balance()\n",
        "\tdef deposite_balance(self):\n",
        "\t\tprint(\"Enter balance to deposite\")\n",
        "\t\tself._init_()\n",
        "\t\tself.amount=int(input())\n",
        "\t\tself.balance=self.balance+self.amount\n",
        "\t\tself.check_balance()\n",
        "print(\"Enter     1 for balance checking\\n 2 for balance withdraw\\n 3 for balance deposite\\n\")\n",
        "a=ATM()\n",
        "while (True):\n",
        "\tchoice=int(input(\"Enter your choice\"))\n",
        "\tif choice==1:\n",
        "\t\ta.check_balance()\n",
        "\telif choice==2:\n",
        "\t\ta.withdraw_balance()\n",
        "\telif choice==3:\n",
        "\t\ta.deposite_balance()\n",
        "\telse:\n",
        "\t\tprint(\"Invalid choice\")\n",
        "\t\tbreak\n"
      ],
      "execution_count": null,
      "outputs": [
        {
          "output_type": "stream",
          "name": "stdout",
          "text": [
            "Enter     1 for balance checking\n",
            " 2 for balance withdraw\n",
            " 3 for balance deposite\n",
            "\n",
            "Enter your choice2\n",
            "Enter balance to withdraw\n",
            "200\n",
            "The balance in your account is :: 800\n",
            "Enter your choice4\n",
            "Invalid choice\n"
          ]
        }
      ]
    },
    {
      "cell_type": "code",
      "metadata": {
        "id": "6WRiYR82oifU",
        "colab": {
          "base_uri": "https://localhost:8080/"
        },
        "outputId": "88df439c-29df-4d8f-e998-fe854f1a72b8"
      },
      "source": [
        "class robot_design ():\n",
        "\tname=\"chitti\"\n",
        "\tspeed=\"1ZB\"\n",
        "\tmemory=\"1TB\"\n",
        "\tversion=\"1.0\"\n",
        "\tdef update(self):\n",
        "\t\tprint(\"Entet your robot name,speed,memory,version\")\n",
        "\t\tself.name=input()\n",
        "\t\tself.speed=input()\n",
        "\t\tself.memory=input()\n",
        "\t\tself.version=input()\n",
        "\tdef display(self):\n",
        "\t\tprint(\"Your robot name,speed,memory,version is ::\",self.name,self.speed,self.memory,self.version)\n",
        "\n",
        "r=robot_design()\n",
        "r.update()\n",
        "r.display()\n",
        "\n"
      ],
      "execution_count": null,
      "outputs": [
        {
          "output_type": "stream",
          "name": "stdout",
          "text": [
            "Entet your robot name,speed,memory,version\n",
            "2\n",
            "ghh\n",
            "kk\n",
            "23\n",
            "Your robot name,speed,memory,version is :: 2 ghh kk 23\n"
          ]
        }
      ]
    },
    {
      "cell_type": "markdown",
      "metadata": {
        "id": "mFf4vKs6gZNK"
      },
      "source": [
        " **Exercise** - 14\n",
        " \n",
        " **GUI**, **Graphics**\n",
        " \n",
        "1. Write a GUI for an Expression Calculator using tk\n",
        " \n",
        "2. Write a program to implement the following figures using turtle"
      ]
    },
    {
      "cell_type": "markdown",
      "metadata": {
        "id": "WUZICtkgMLOw"
      },
      "source": [
        "**AIM**:\n",
        "\n",
        "a. Write a GUI for an Expression Calculator using tk\n",
        "\n",
        "**DESCRIPTION**:\n",
        "\n",
        "Tkinter is a Python package which comes with many functions and methods that can be used to create an application. In order to create a tkinter application, we generally create an instance of tkinter frame, i.e., Tk(). It helps to display the root window and manages all the other components of the tkinter application. We can initialize the tkinter instance by assigning the variable to it."
      ]
    },
    {
      "cell_type": "code",
      "metadata": {
        "id": "kOOr8Xm0UEnt"
      },
      "source": [
        "from tkinter import *\n",
        "\n",
        "win = Tk() # to create a basic window\n",
        "win.geometry(\"312x324\")  #for the size of the window \n",
        "win.resizable(0, 0)  # to prevent from resizing the window\n",
        "win.title(\"Calculator\")\n",
        "\n",
        "# 'btn_click' Function continuously updates the \n",
        "# input field whenever you enters a number\n",
        "\n",
        "def btn_click(item):\n",
        "    global expression\n",
        "    expression = expression + str(item)\n",
        "    input_text.set(expression)\n",
        "\n",
        "# 'bt_clear' function : used to clear the input field\n",
        "\n",
        "def bt_clear(): \n",
        "    global expression \n",
        "    expression = \"\"\n",
        "    input_text.set(\"\")\n",
        "\n",
        "# 'bt_equal':calculates the expression present in input field\n",
        "\n",
        "def bt_equal():\n",
        "    global expression\n",
        "    result = str(eval(expression)) # 'eval':This function is used to evaluates the string expression directly\n",
        "    input_text.set(result)\n",
        "    expression = \"\"\n",
        "\n",
        "expression = \"\"\n",
        "\n",
        "# 'StringVar()' :used to get the instance of input field\n",
        "\n",
        "input_text = StringVar()\n",
        "\n",
        "# creating a frame for the input field\n",
        "\n",
        "input_frame = Frame(win, width=312, height=50, bd=0, highlightbackground=\"black\", highlightcolor=\"black\", highlightthickness=2)\n",
        "\n",
        "input_frame.pack(side=TOP)\n",
        "\n",
        "#create a input field inside the 'Frame'\n",
        "\n",
        "input_field = Entry(input_frame, font=('arial', 18, 'bold'), textvariable=input_text, width=50, bg=\"#eee\", bd=0, justify=RIGHT)\n",
        "\n",
        "input_field.grid(row=0, column=0)\n",
        "\n",
        "input_field.pack(ipady=10)\n",
        "# 'ipady' is internal padding to increase the height of input field\n",
        "\n",
        "#creating another 'Frame' for the button below the 'input_frame'\n",
        "\n",
        "btns_frame = Frame(win, width=312, height=272.5, bg=\"grey\")\n",
        "\n",
        "btns_frame.pack()\n",
        "\n",
        "# first row\n",
        "\n",
        "clear = Button(btns_frame, text = \"C\", fg = \"black\", width = 32, height = 3, bd = 0, bg = \"#eee\", cursor = \"hand2\", command = lambda: bt_clear()).grid(row = 0, column = 0, columnspan = 3, padx = 1, pady = 1)\n",
        "\n",
        "divide = Button(btns_frame, text = \"/\", fg = \"black\", width = 10, height = 3, bd = 0, bg = \"#eee\", cursor = \"hand2\", command = lambda: btn_click(\"/\")).grid(row = 0, column = 3, padx = 1, pady = 1)\n",
        "\n",
        "# second row\n",
        "\n",
        "seven = Button(btns_frame, text = \"7\", fg = \"black\", width = 10, height = 3, bd = 0, bg = \"#fff\", cursor = \"hand2\", command = lambda: btn_click(7)).grid(row = 1, column = 0, padx = 1, pady = 1)\n",
        "\n",
        "eight = Button(btns_frame, text = \"8\", fg = \"black\", width = 10, height = 3, bd = 0, bg = \"#fff\", cursor = \"hand2\", command = lambda: btn_click(8)).grid(row = 1, column = 1, padx = 1, pady = 1)\n",
        "\n",
        "nine = Button(btns_frame, text = \"9\", fg = \"black\", width = 10, height = 3, bd = 0, bg = \"#fff\", cursor = \"hand2\", command = lambda: btn_click(9)).grid(row = 1, column = 2, padx = 1, pady = 1)\n",
        "\n",
        "multiply = Button(btns_frame, text = \"\", fg = \"black\", width = 10, height = 3, bd = 0, bg = \"#eee\", cursor = \"hand2\", command = lambda: btn_click(\"\")).grid(row = 1, column = 3, padx = 1, pady = 1)\n",
        "\n",
        "# third row\n",
        "\n",
        "four = Button(btns_frame, text = \"4\", fg = \"black\", width = 10, height = 3, bd = 0, bg = \"#fff\", cursor = \"hand2\", command = lambda: btn_click(4)).grid(row = 2, column = 0, padx = 1, pady = 1)\n",
        "\n",
        "five = Button(btns_frame, text = \"5\", fg = \"black\", width = 10, height = 3, bd = 0, bg = \"#fff\", cursor = \"hand2\", command = lambda: btn_click(5)).grid(row = 2, column = 1, padx = 1, pady = 1)\n",
        "\n",
        "six = Button(btns_frame, text = \"6\", fg = \"black\", width = 10, height = 3, bd = 0, bg = \"#fff\", cursor = \"hand2\", command = lambda: btn_click(6)).grid(row = 2, column = 2, padx = 1, pady = 1)\n",
        "\n",
        "minus = Button(btns_frame, text = \"-\", fg = \"black\", width = 10, height = 3, bd = 0, bg = \"#eee\", cursor = \"hand2\", command = lambda: btn_click(\"-\")).grid(row = 2, column = 3, padx = 1, pady = 1)\n",
        "\n",
        "# fourth row\n",
        "\n",
        "one = Button(btns_frame, text = \"1\", fg = \"black\", width = 10, height = 3, bd = 0, bg = \"#fff\", cursor = \"hand2\", command = lambda: btn_click(1)).grid(row = 3, column = 0, padx = 1, pady = 1)\n",
        "\n",
        "two = Button(btns_frame, text = \"2\", fg = \"black\", width = 10, height = 3, bd = 0, bg = \"#fff\", cursor = \"hand2\", command = lambda: btn_click(2)).grid(row = 3, column = 1, padx = 1, pady = 1)\n",
        "\n",
        "three = Button(btns_frame, text = \"3\", fg = \"black\", width = 10, height = 3, bd = 0, bg = \"#fff\", cursor = \"hand2\", command = lambda: btn_click(3)).grid(row = 3, column = 2, padx = 1, pady = 1)\n",
        "\n",
        "plus = Button(btns_frame, text = \"+\", fg = \"black\", width = 10, height = 3, bd = 0, bg = \"#eee\", cursor = \"hand2\", command = lambda: btn_click(\"+\")).grid(row = 3, column = 3, padx = 1, pady = 1)\n",
        "\n",
        "# fifth row\n",
        "\n",
        "zero = Button(btns_frame, text = \"0\", fg = \"black\", width = 21, height = 3, bd = 0, bg = \"#fff\", cursor = \"hand2\", command = lambda: btn_click(0)).grid(row = 4, column = 0, columnspan = 2, padx = 1, pady = 1)\n",
        "\n",
        "point = Button(btns_frame, text = \".\", fg = \"black\", width = 10, height = 3, bd = 0, bg = \"#eee\", cursor = \"hand2\", command = lambda: btn_click(\".\")).grid(row = 4, column = 2, padx = 1, pady = 1)\n",
        "\n",
        "equals = Button(btns_frame, text = \"=\", fg = \"black\", width = 10, height = 3, bd = 0, bg = \"#eee\", cursor = \"hand2\", command = lambda: bt_equal()).grid(row = 4, column = 3, padx = 1, pady = 1)\n",
        "\n",
        "win.mainloop()"
      ],
      "execution_count": null,
      "outputs": []
    },
    {
      "cell_type": "markdown",
      "metadata": {
        "id": "Ii6OTA2hMtig"
      },
      "source": [
        "b. Write a program to implement the following figures using turtle\n",
        "\n",
        "**DESCRIPTION**:\n",
        "\n",
        "The turtle module is an extended reimplementation of the same-named module from the Python standard distribution up to version Python 2.5.\n",
        "\n",
        "It tries to keep the merits of the old turtle module and to be (nearly) 100% compatible with it. This means in the first place to enable the learning programmer to use all the commands, classes and methods interactively when using the module from within IDLE run with the -n switch.\n",
        "\n",
        "The turtle module provides turtle graphics primitives, in both object-oriented and procedure-oriented ways. Because it uses tkinter for the underlying graphics, it needs a version of Python installed with Tk support."
      ]
    },
    {
      "cell_type": "code",
      "metadata": {
        "id": "iLw-se5XgaCT"
      },
      "source": [
        "import turtle\n",
        "c=[\"red\",\"green\",\"blue\"]\n",
        "i=0\n",
        "turtle.pensize(5)\n",
        "\n",
        "for angle in range(0,360,30):\n",
        "    if i>2:\n",
        "        i=0\n",
        "    turtle.color(c[i])\n",
        "    turtle.seth(angle)\n",
        "    turtle.circle(50)\n",
        "    i+=1"
      ],
      "execution_count": null,
      "outputs": []
    },
    {
      "cell_type": "markdown",
      "metadata": {
        "id": "CjR7Voc2Myj-"
      },
      "source": [
        "**output**:\n",
        "\n",
        "https://drive.google.com/file/d/1eO7D9QdEhvpJ361AQ27u-3vayjNk-W1M/view?usp=sharing"
      ]
    },
    {
      "cell_type": "code",
      "metadata": {
        "id": "G-65FBC3gaFi"
      },
      "source": [
        " import turtle\n",
        "turtle.pensize(1)\n",
        " \n",
        "for i in range(36):\n",
        "    for j in range(4):\n",
        "        turtle.forward(70)\n",
        "        turtle.left(90)\n",
        "    turtle.left(10)"
      ],
      "execution_count": null,
      "outputs": []
    },
    {
      "cell_type": "markdown",
      "metadata": {
        "id": "Y83l-568M5_H"
      },
      "source": [
        "**output**:\n",
        "\n",
        "https://drive.google.com/file/d/1oiosPXpdD-ioDpquXQ0RRgthFwmt1MIj/view?usp=sharing"
      ]
    },
    {
      "cell_type": "markdown",
      "metadata": {
        "id": "1DEzh-4dgPWc"
      },
      "source": [
        "**Exercise** - 15 - Testing\n",
        "\n",
        "a) Write a test-case to check the function even numbers which return True on passing a list of all even numbers\n",
        "\n",
        "b) Write a test-case to check the function reverse string which returns the reversed string"
      ]
    },
    {
      "cell_type": "markdown",
      "metadata": {
        "id": "g20LIDSJNEgj"
      },
      "source": [
        "**AIM**:\n",
        "\n",
        "a) Write a test-case to check the function even numbers which return True on passing a list of all even numbers\n",
        "\n",
        "**DESCRIPTION**:\n",
        "\n",
        "TestCase is used to create test cases by subclassing it. The last block of the code at the bottom allows us to run all the tests just by running the file. Basic terms used in the code : assertEqual() – This statement is used to check if the result obtained is equal to the expected result\n",
        "\n",
        "test case:\n",
        "\n",
        "A test case is a set of conditions which is used to determine whether a system under test works correctly."
      ]
    },
    {
      "cell_type": "code",
      "metadata": {
        "colab": {
          "base_uri": "https://localhost:8080/"
        },
        "id": "miTN8wYbgONQ",
        "outputId": "6af2d02c-ea71-4fdf-a1b6-56c8517b5788"
      },
      "source": [
        "def even(num):\n",
        "  st= True\n",
        "  for i in num:\n",
        "    if i%2==0:\n",
        "      st=False\n",
        "      break\n",
        "  return st\n",
        "numbers=[]\n",
        "print(\"enter th efive nums:\")\n",
        "for i in range(0,5):\n",
        "  numbers.append(int(input(\"enter a value:\")))\n",
        "print(even(numbers))\n"
      ],
      "execution_count": null,
      "outputs": [
        {
          "output_type": "stream",
          "text": [
            "enter th efive nums:\n",
            "enter a value:12\n",
            "enter a value:224\n",
            "enter a value:15\n",
            "enter a value:65\n",
            "enter a value:35\n",
            "False\n"
          ],
          "name": "stdout"
        }
      ]
    },
    {
      "cell_type": "markdown",
      "metadata": {
        "id": "_H6HU-mbNIqB"
      },
      "source": [
        "**AIM**:\n",
        "\n",
        "b) Write a test-case to check the function reverse string which returns the reversed string\n",
        "\n",
        "**DESCRIPTION**:\n",
        "\n",
        "Python string library does’nt support the in-built “reverse()” as done by other python containers like list, hence knowing other methods to reverse string can prove to be useful. This article discusses several ways to achieve it.\n",
        "\n",
        "The reversed() returns the reversed iterator of the given string and then its elements are joined empty string separated using join(). And reversed order string is formed.\n",
        "\n"
      ]
    },
    {
      "cell_type": "code",
      "metadata": {
        "colab": {
          "base_uri": "https://localhost:8080/"
        },
        "id": "8xokVXRqgbGN",
        "outputId": "b2695abd-1132-4dc1-d6d9-85a3ae7834fe"
      },
      "source": [
        "def revs(str):\n",
        "  return str[::-1]\n",
        "st=\"siva\"\n",
        "print(\"given string is:\",st)\n",
        "print(revs(st))\n"
      ],
      "execution_count": null,
      "outputs": [
        {
          "output_type": "stream",
          "name": "stdout",
          "text": [
            "given string is: siva\n",
            "avis\n"
          ]
        }
      ]
    },
    {
      "cell_type": "markdown",
      "metadata": {
        "id": "F3LbG0RI79L8"
      },
      "source": [
        "EXERCISE-16:ADVANCED A) BUILD ANY ONE CLASSICAL DATA STRUCTURE.\n",
        " B) WRITE A PROGRAM TO SOLVE KNAPSACK PROBLEM."
      ]
    },
    {
      "cell_type": "markdown",
      "metadata": {
        "id": "ZECwGw1sNRki"
      },
      "source": [
        "**AIM**:\n",
        "\n",
        "a) Build any one classical data structure.\n",
        "\n",
        "**DESCRIPTION**:\n",
        "\n",
        "**What is a Data Structure**\n",
        "Organizing, managing and storing data is important as it enables easier access and efficient modifications. Data Structures allows you to organize your data in such a way that enables you to store collections of data, relate them and perform operations on them accordingly.\n",
        "\n",
        "Stack Stacks are linear Data Structures which are based on the principle of Last-In-First-Out (LIFO) where data which is entered last will be the first to get accessed. It is built using the array structure and has operations namely, pushing (adding) elements, popping (deleting) elements and accessing elements only from one point in the stack called as the TOP. This TOP is the pointer to the current position of the stack. Stacks are prominently used in applications such as Recursive Programming, reversing words, undo mechanisms in word editors and so forth.\n",
        "\n"
      ]
    },
    {
      "cell_type": "markdown",
      "metadata": {
        "id": "CckLdeIFNcw1"
      },
      "source": [
        "**AIM**:\n",
        "\n",
        "b) Write a program to solve knapsack problem\n",
        "\n",
        "**DESCRIPTION**:\n",
        "\n",
        "Python Program for 0-1 Knapsack Problem\n",
        "\n",
        "Problem statement − We are given weights and values of n items, we need to put these items in a bag of capacity W up to the maximum capacity w. We need to carry a maximum number of items and return its value.\n",
        "\n",
        "Brute-force approach.\n",
        "\n",
        "dynamic approach.\n",
        "\n"
      ]
    },
    {
      "cell_type": "code",
      "metadata": {
        "id": "sT880WJMs1Rd"
      },
      "source": [
        " import sys\n",
        "a=[]\n",
        " \n",
        "while True:\n",
        "  print (\"\\nl.PUSH 2.POP 3.DISPLAY 4.EXIT\")\n",
        "  ch=int(input(\"Enter Your Choice: \"))\n",
        "  if ch==1:\n",
        "   ele=int(input(\"Enter element: \"))\n",
        "   a.append(ele)\n",
        "   print(\"Inserted\")\n",
        "  elif ch==2:\n",
        "   if len(a)==0:\n",
        "     print (\"\\t STACK IS EMPTY\")\n",
        "   else:\n",
        "     print (\"Deleted element is: \",a[len(a)-1])\n",
        "     a.remove(a[len(a)-1])\n",
        "  elif ch==3:\n",
        "   if len(a)==0:\n",
        "     print (\"\\t STACK IS EMPTY\")\n",
        "   else:\n",
        "    print (\"The Elements in Stack is: \")\n",
        "    for i in reversed(a):\n",
        "       print(i)\n",
        "  elif ch==4:\n",
        "       sys.exit()\n",
        "  else:\n",
        "   print (\"\\tINVALID CHOICE\")"
      ],
      "execution_count": null,
      "outputs": []
    },
    {
      "cell_type": "markdown",
      "metadata": {
        "id": "zUaTkzGAw80h"
      },
      "source": [
        "**output**\n",
        "\n",
        "1.PUSH 2.POP 3.DISPLAY 4.EXIT\n",
        "Enter Your Choice:1\n",
        "Enter Element: 10\n",
        "Inserted\n",
        "\n",
        "1.PUSH 2.POP 3.DISPLAY 4.EXIT\n",
        "Enter Your Choice:1\n",
        "Enter Element: 16\n",
        "Inserted\n",
        "\n",
        "1.PUSH 2.POP 3.DISPLAY 4.EXIT\n",
        "\n",
        "Enter Your Choice:1\n",
        "\n",
        "Enter Element: 4\n",
        "\n",
        "Inserted\n",
        "\n",
        "1.PUSH 2.POP 3.DISPLAY 4.EXIT\n",
        "\n",
        "Enter Your Choice:\n",
        "\n",
        "\t The Elements in Stack is: \n",
        "\n",
        "4\n",
        "16\n",
        "10\n",
        "5\n",
        "\n",
        "1.PUSH 2.POP 3.DISPLAY 4.EXIT\n",
        "\n",
        "Enter Your Choice:2\n",
        "\n",
        "Deleted element is: 4\n",
        "\n",
        "1.PUSH 2.POP 3.DISPLAY 4.EXIT\n",
        "\n",
        "Enter Your Choice:2\n",
        "\n",
        "Deleted element is: 16\n",
        "\n",
        "1.PUSH 2.POP 3.DISPLAY 4.EXIT\n",
        "\n",
        "Enter Your Choice:3\n",
        "\n",
        "\t The Elements in Stack is: \n",
        "   10\n",
        "5\n",
        "\n",
        "1.PUSH 2.POP 3.DISPLAY 4.EXIT\n",
        "\n",
        "Enter Your Choice:4\n",
        "\n",
        "system exit.\n"
      ]
    },
    {
      "cell_type": "code",
      "metadata": {
        "id": "r65wmL0NspGM"
      },
      "source": [
        "def knapSack(W,wt,val,n):\n",
        "    K=[[0 for x in range(W+1)] for x in range(n+1)]\n",
        "    for i in range(n+1):\n",
        "        for w in range(W+1):\n",
        "            if i==0 or w==0:\n",
        "                K[i][w]=0\n",
        "            elif wt[i-1]<=w:\n",
        "                K[i][w]=max(val[i-1]+K[i-1][w-wt[i-1]],K[i-1][w])\n",
        "            else:\n",
        "                K[i][w]=K[i-1][w]\n",
        "    return K[n][W]\n",
        "val=[5,3,4]\n",
        "wt=[3,2,1]\n",
        "W=5\n",
        "n=len(val)\n",
        "print(\"Maximum value knapsack of capacity W: \",knapSack(W,wt,val,n))"
      ],
      "execution_count": null,
      "outputs": []
    },
    {
      "cell_type": "markdown",
      "metadata": {
        "id": "vTz4Zz78w8a7"
      },
      "source": [
        "**output**\n",
        "\n",
        "\n",
        "Maximum value knapsack of capacity W:  9"
      ]
    },
    {
      "cell_type": "markdown",
      "metadata": {
        "id": "iUhvbp8Q8jzN"
      },
      "source": [
        "EXERCISE 17 & 18-DATA ANALYSIS DATA ANALYSIS OR MANIPULATION USING THE FOLLOWING PACKAGES A) NUMPY B) PANDAS A) SCIPY B) MATPLOTLIB"
      ]
    },
    {
      "cell_type": "markdown",
      "metadata": {
        "id": "IiNETffzNm9h"
      },
      "source": [
        "**AIM**:\n",
        "\n",
        "Data analysis or manipulation using the following packages\n",
        "a) Numpy b) Pandas a) Scipy b) matplotlib\n",
        "**DESCRIPTION**:\n",
        "\n",
        "Learn how to analyze data using Python. ... It includes following parts: Data Analysis libraries: will learn to use Pandas, Numpy and Scipy libraries to work with a sample dataset. We will introduce you to pandas, an open-source library, and we will use it to load, manipulate, analyze, and visualize cool datasets.\n",
        "\n",
        "**SciPy** is a free and open-source Python library used for scientific computing and technical computing. It is a collection of mathematical algorithms and convenience functions built on the NumPy extension of Python\n",
        "\n",
        "**NumPy** is the fundamental package for scientific computing in Python. ... NumPy arrays facilitate advanced mathematical and other types of operations on large numbers of data.\n",
        "\n",
        "**Matplotlib** is a plotting library for the Python programming language and its numerical mathematics extension NumPy. It provides an object-oriented API for embedding plots into applications using general-purpose GUI toolkits like Tkinter, wxPython, Qt, or GTK\n",
        "\n",
        "**Pandas** is an open source Python package that is most widely used for data science/data analysis and machine learning tasks. It is built on top of another package named Numpy, which provides support for multi-dimensional arrays.\n",
        "\n",
        "Scikit-learn is probably the most useful library for machine learning in Python. The sklearn library contains a lot of efficient tools for machine learning and statistical modeling including classification, regression, clustering and dimensionality reduction.\n",
        "\n",
        "Seaborn is a library in Python predominantly used for making statistical graphics. Seaborn is a data visualization library built on top of matplotlib and closely integrated with pandas data structures in Python\n",
        "\n",
        "**PROGRAM:**"
      ]
    },
    {
      "cell_type": "code",
      "metadata": {
        "id": "MA86dmQS8leP"
      },
      "source": [
        "#Python version\n",
        "import sys\n",
        "print('Python: {}'.format(sys.version))\n",
        " \n",
        "#scipy\n",
        "import scipy\n",
        "print('scipy: {}'.format(scipy.__version__))\n",
        " \n",
        "# numpy\n",
        "import numpy\n",
        "print( 'numpy: {}'.format(numpy.__version__))\n",
        " \n",
        "# matplotlib\n",
        "import matplotlib\n",
        "print('matplotlib: {}'.format(matplotlib.__version__))\n",
        " \n",
        "# pandas\n",
        "import pandas\n",
        "print('pandas: {}'.format(pandas.__version__))\n",
        " \n",
        "#scikit-learn\n",
        "import sklearn\n",
        "print('sklearn: {}'.format(sklearn.__version__))\n",
        "import seaborn\n",
        "print('seaborn: {}'.format(seaborn.__version__))\n",
        "import urllib\n",
        "print('urlib: {}'.format(urllib.__name__))\n",
        "import csv\n",
        "print('csv: {}'.format(csv.__version__))"
      ],
      "execution_count": null,
      "outputs": []
    },
    {
      "cell_type": "markdown",
      "metadata": {
        "id": "1PPdNvVGXeyS"
      },
      "source": [
        "# **NumPy**"
      ]
    },
    {
      "cell_type": "code",
      "metadata": {
        "colab": {
          "base_uri": "https://localhost:8080/"
        },
        "id": "DNivmfT0XiV4",
        "outputId": "112ad1d7-7c80-4b70-8440-7c5dfa7803ff"
      },
      "source": [
        "import numpy as np\n",
        "a=np.array([0,1,2])\n",
        "print(type(a))\n",
        "print(a.shape)\n",
        "print(a[0])\n",
        "print(a[1])\n",
        "print(a[2])\n",
        "a[0]=5\n",
        "print(a)\n"
      ],
      "execution_count": null,
      "outputs": [
        {
          "output_type": "stream",
          "name": "stdout",
          "text": [
            "<class 'numpy.ndarray'>\n",
            "(3,)\n",
            "0\n",
            "1\n",
            "2\n",
            "[5 1 2]\n"
          ]
        }
      ]
    },
    {
      "cell_type": "code",
      "metadata": {
        "colab": {
          "base_uri": "https://localhost:8080/"
        },
        "id": "pSQkPslEXy40",
        "outputId": "be3a1336-5957-417c-c2fb-dedfdb44c960"
      },
      "source": [
        "import numpy as np\n",
        "b=np.array([[0,1,2],[3,4,5]])\n",
        "print(b.shape)\n",
        "print(b)\n",
        "print(b[0,0],b[0,1],b[1,0])\n"
      ],
      "execution_count": null,
      "outputs": [
        {
          "output_type": "stream",
          "name": "stdout",
          "text": [
            "(2, 3)\n",
            "[[0 1 2]\n",
            " [3 4 5]]\n",
            "0 1 3\n"
          ]
        }
      ]
    },
    {
      "cell_type": "code",
      "metadata": {
        "colab": {
          "base_uri": "https://localhost:8080/"
        },
        "id": "2wj95CoLes1Q",
        "outputId": "c74c26db-a2ee-4b60-fdaa-ca73c8036fa3"
      },
      "source": [
        "import numpy as np\n",
        "a=np.zeros((3,3))\n",
        "print(a)"
      ],
      "execution_count": null,
      "outputs": [
        {
          "output_type": "stream",
          "name": "stdout",
          "text": [
            "[[0. 0. 0.]\n",
            " [0. 0. 0.]\n",
            " [0. 0. 0.]]\n"
          ]
        }
      ]
    },
    {
      "cell_type": "code",
      "metadata": {
        "id": "Kg_oaAyTgF1P",
        "colab": {
          "base_uri": "https://localhost:8080/"
        },
        "outputId": "025654a8-214f-4533-be06-270a406e15de"
      },
      "source": [
        "import numpy as np\n",
        "b=np.ones((2,2))\n",
        "print(b)"
      ],
      "execution_count": null,
      "outputs": [
        {
          "output_type": "stream",
          "name": "stdout",
          "text": [
            "[[1. 1.]\n",
            " [1. 1.]]\n"
          ]
        }
      ]
    },
    {
      "cell_type": "code",
      "metadata": {
        "colab": {
          "base_uri": "https://localhost:8080/"
        },
        "id": "ojAnQeGEbwCq",
        "outputId": "ccfc1975-f526-4441-9628-3e48f6da877b"
      },
      "source": [
        "import numpy as np\n",
        "c=np.full((3,3),7)\n",
        "print(c)"
      ],
      "execution_count": null,
      "outputs": [
        {
          "output_type": "stream",
          "name": "stdout",
          "text": [
            "[[7 7 7]\n",
            " [7 7 7]\n",
            " [7 7 7]]\n"
          ]
        }
      ]
    },
    {
      "cell_type": "code",
      "metadata": {
        "colab": {
          "base_uri": "https://localhost:8080/"
        },
        "id": "1jIBn5M-b84B",
        "outputId": "97535d9d-c92e-4185-f4a3-f4725b873453"
      },
      "source": [
        "import numpy as np\n",
        "d=np.random.random((3,3))\n",
        "print(d)"
      ],
      "execution_count": null,
      "outputs": [
        {
          "output_type": "stream",
          "name": "stdout",
          "text": [
            "[[0.40999957 0.77751751 0.27303152]\n",
            " [0.57004061 0.19442294 0.89532151]\n",
            " [0.69713675 0.27262891 0.19772519]]\n"
          ]
        }
      ]
    },
    {
      "cell_type": "code",
      "metadata": {
        "colab": {
          "base_uri": "https://localhost:8080/"
        },
        "id": "zeZQWW9QcVR5",
        "outputId": "b8a74b88-7b90-4b35-f154-cff6c74bc3f5"
      },
      "source": [
        "import numpy as np\n",
        "e=np.eye(3)\n",
        "print(e)"
      ],
      "execution_count": null,
      "outputs": [
        {
          "output_type": "stream",
          "text": [
            "[[1. 0. 0.]\n",
            " [0. 1. 0.]\n",
            " [0. 0. 1.]]\n"
          ],
          "name": "stdout"
        }
      ]
    },
    {
      "cell_type": "code",
      "metadata": {
        "colab": {
          "base_uri": "https://localhost:8080/"
        },
        "id": "bFVsHnBFcw7-",
        "outputId": "b4fbc807-dfa8-44a5-a85b-e013879a26e6"
      },
      "source": [
        "import numpy as np\n",
        "f=np.array([2,3,1,0])\n",
        "print(f)"
      ],
      "execution_count": null,
      "outputs": [
        {
          "output_type": "stream",
          "name": "stdout",
          "text": [
            "[2 3 1 0]\n"
          ]
        }
      ]
    },
    {
      "cell_type": "code",
      "metadata": {
        "colab": {
          "base_uri": "https://localhost:8080/"
        },
        "id": "YhjXoP3cdKJj",
        "outputId": "4b5623c1-f670-40b2-aab9-2bdf32eb139e"
      },
      "source": [
        "import numpy as np\n",
        "g=np.arange(2,10)\n",
        "print(g)"
      ],
      "execution_count": null,
      "outputs": [
        {
          "output_type": "stream",
          "name": "stdout",
          "text": [
            "[2 3 4 5 6 7 8 9]\n"
          ]
        }
      ]
    },
    {
      "cell_type": "code",
      "metadata": {
        "colab": {
          "base_uri": "https://localhost:8080/"
        },
        "id": "F8yQ38eyd3wv",
        "outputId": "af8fa383-1c2c-421a-a04e-b29e50e18bf5"
      },
      "source": [
        "import numpy as np\n",
        "h=np.array([[0,1,2.0],[0,0,0],(1+1j,3.,2.)])\n",
        "print(h)"
      ],
      "execution_count": null,
      "outputs": [
        {
          "output_type": "stream",
          "text": [
            "[[0.+0.j 1.+0.j 2.+0.j]\n",
            " [0.+0.j 0.+0.j 0.+0.j]\n",
            " [1.+1.j 3.+0.j 2.+0.j]]\n"
          ],
          "name": "stdout"
        }
      ]
    },
    {
      "cell_type": "code",
      "metadata": {
        "colab": {
          "base_uri": "https://localhost:8080/"
        },
        "id": "AucvgfxCe9s9",
        "outputId": "f89a1ea7-3e57-4db5-bcbf-bbd8597c88ea"
      },
      "source": [
        "import numpy as np\n",
        "i=np.arange(1,8,dtype=np.float)\n",
        "print(i)"
      ],
      "execution_count": null,
      "outputs": [
        {
          "output_type": "stream",
          "name": "stdout",
          "text": [
            "[1. 2. 3. 4. 5. 6. 7.]\n"
          ]
        }
      ]
    },
    {
      "cell_type": "code",
      "metadata": {
        "colab": {
          "base_uri": "https://localhost:8080/"
        },
        "id": "KYLdBOoKf3en",
        "outputId": "f5cec593-0380-4b3c-fb1b-10b9bd747022"
      },
      "source": [
        "import numpy as np\n",
        "j=np.linspace(2.,4., 5)\n",
        "print(j)"
      ],
      "execution_count": null,
      "outputs": [
        {
          "output_type": "stream",
          "text": [
            "[2.  2.5 3.  3.5 4. ]\n"
          ],
          "name": "stdout"
        }
      ]
    },
    {
      "cell_type": "code",
      "metadata": {
        "colab": {
          "base_uri": "https://localhost:8080/"
        },
        "id": "qO8E056XgfOt",
        "outputId": "d0babb7a-b11e-4eae-ade0-1f52efcbca3b"
      },
      "source": [
        "import numpy as np\n",
        "k=np.indices((3,3))\n",
        "print(k)"
      ],
      "execution_count": null,
      "outputs": [
        {
          "output_type": "stream",
          "name": "stdout",
          "text": [
            "[[[0 0 0]\n",
            "  [1 1 1]\n",
            "  [2 2 2]]\n",
            "\n",
            " [[0 1 2]\n",
            "  [0 1 2]\n",
            "  [0 1 2]]]\n"
          ]
        }
      ]
    },
    {
      "cell_type": "code",
      "metadata": {
        "colab": {
          "base_uri": "https://localhost:8080/"
        },
        "id": "SmetmtqQi6iV",
        "outputId": "ad0cdd8e-f426-43f1-af87-b4ec7273d9d4"
      },
      "source": [
        "import numpy as np\n",
        "x=np.array([0,1])\n",
        "y=np.array([2.0,3.0])\n",
        "z=np.array([5,6], dtype=np.int64)\n",
        "print(x.dtype,y.dtype,z.dtype)"
      ],
      "execution_count": null,
      "outputs": [
        {
          "output_type": "stream",
          "text": [
            "int64 float64 int64\n"
          ],
          "name": "stdout"
        }
      ]
    },
    {
      "cell_type": "code",
      "metadata": {
        "colab": {
          "base_uri": "https://localhost:8080/"
        },
        "id": "rQQpCEzLjAv9",
        "outputId": "f2066c48-61f3-4ac6-caa4-b87baec59425"
      },
      "source": [
        "import numpy as np\n",
        "x=np.array([5,6,7,8,9])\n",
        "print(x[1:7:2])\n",
        "print(x[-2:5])\n",
        "print(x[-1:1:-1])"
      ],
      "execution_count": null,
      "outputs": [
        {
          "output_type": "stream",
          "name": "stdout",
          "text": [
            "[6 8]\n",
            "[8 9]\n",
            "[9 8 7]\n"
          ]
        }
      ]
    },
    {
      "cell_type": "code",
      "metadata": {
        "id": "s_WIipRyknn5",
        "colab": {
          "base_uri": "https://localhost:8080/"
        },
        "outputId": "9370a219-1c39-4656-cdb6-1dffda535066"
      },
      "source": [
        "import numpy as np\n",
        "a=np.array([[1,2],[3,4],[5,6]])\n",
        "print(a>2)\n",
        "print(a[a>2])"
      ],
      "execution_count": null,
      "outputs": [
        {
          "output_type": "stream",
          "name": "stdout",
          "text": [
            "[[False False]\n",
            " [ True  True]\n",
            " [ True  True]]\n",
            "[3 4 5 6]\n"
          ]
        }
      ]
    },
    {
      "cell_type": "code",
      "metadata": {
        "colab": {
          "base_uri": "https://localhost:8080/"
        },
        "id": "ZHkzumljnjZv",
        "outputId": "3f6f3268-4cc7-4872-969a-26574560dc21"
      },
      "source": [
        "import numpy as np\n",
        "x=np.array([[1,2],[3,4],[5,6]])\n",
        "y=np.array([[7,8],[9,10],[11,12]])\n",
        "print(x+y)\n",
        "print(np.add(x,y))\n",
        "print(x-y)\n",
        "print(np.subtract(x,y))"
      ],
      "execution_count": null,
      "outputs": [
        {
          "output_type": "stream",
          "name": "stdout",
          "text": [
            "[[ 8 10]\n",
            " [12 14]\n",
            " [16 18]]\n",
            "[[ 8 10]\n",
            " [12 14]\n",
            " [16 18]]\n",
            "[[-6 -6]\n",
            " [-6 -6]\n",
            " [-6 -6]]\n",
            "[[-6 -6]\n",
            " [-6 -6]\n",
            " [-6 -6]]\n"
          ]
        }
      ]
    },
    {
      "cell_type": "code",
      "metadata": {
        "colab": {
          "base_uri": "https://localhost:8080/"
        },
        "id": "Bj-6fz1dokrK",
        "outputId": "bdffa00b-ce81-46b0-825e-65e3dbb483be"
      },
      "source": [
        "import numpy as np\n",
        "x=np.array([[1,2],[3,4],[5,6]])\n",
        "y=np.array([[7,8],[9,10],[11,12]])\n",
        "print(np.multiply(x,y))\n",
        "print(x*y)"
      ],
      "execution_count": null,
      "outputs": [
        {
          "output_type": "stream",
          "name": "stdout",
          "text": [
            "[[ 7 16]\n",
            " [27 40]\n",
            " [55 72]]\n",
            "[[ 7 16]\n",
            " [27 40]\n",
            " [55 72]]\n"
          ]
        }
      ]
    },
    {
      "cell_type": "code",
      "metadata": {
        "colab": {
          "base_uri": "https://localhost:8080/"
        },
        "id": "uygaUiUBrvmX",
        "outputId": "18319a3c-3b51-4ce6-e854-7cc3a26aac1d"
      },
      "source": [
        "import numpy as np\n",
        "x=np.array([[1,2],[3,4],[5,6]])\n",
        "y=np.array([[7,8],[9,10],[11,12]])\n",
        "print(np.divide(x,y))\n",
        "print(x/y)"
      ],
      "execution_count": null,
      "outputs": [
        {
          "output_type": "stream",
          "name": "stdout",
          "text": [
            "[[0.14285714 0.25      ]\n",
            " [0.33333333 0.4       ]\n",
            " [0.45454545 0.5       ]]\n",
            "[[0.14285714 0.25      ]\n",
            " [0.33333333 0.4       ]\n",
            " [0.45454545 0.5       ]]\n"
          ]
        }
      ]
    },
    {
      "cell_type": "code",
      "metadata": {
        "colab": {
          "base_uri": "https://localhost:8080/"
        },
        "id": "rK9NcXqosJuu",
        "outputId": "06535fd2-6c40-4b07-bb13-c618a6c66119"
      },
      "source": [
        "import numpy as np\n",
        "x=np.array([[1,2],[3,4],[5,6]])\n",
        "print(np.sqrt(x))"
      ],
      "execution_count": null,
      "outputs": [
        {
          "output_type": "stream",
          "name": "stdout",
          "text": [
            "[[1.         1.41421356]\n",
            " [1.73205081 2.        ]\n",
            " [2.23606798 2.44948974]]\n"
          ]
        }
      ]
    },
    {
      "cell_type": "code",
      "metadata": {
        "colab": {
          "base_uri": "https://localhost:8080/"
        },
        "id": "MNlfHmQJuMJY",
        "outputId": "7b69ac9c-bff2-4437-8061-308b2029075c"
      },
      "source": [
        "import numpy as np\n",
        "a=np.array([9,10])\n",
        "b=np.array([11,12])\n",
        "print(a.dot(b))\n",
        "print(np.dot(a,b))"
      ],
      "execution_count": null,
      "outputs": [
        {
          "output_type": "stream",
          "name": "stdout",
          "text": [
            "219\n",
            "219\n"
          ]
        }
      ]
    },
    {
      "cell_type": "code",
      "metadata": {
        "colab": {
          "base_uri": "https://localhost:8080/"
        },
        "id": "9YD6ZPI4vLPY",
        "outputId": "32f9bd08-1f37-422c-e0cd-65b5abb27609"
      },
      "source": [
        "import numpy as np\n",
        "a=np.array([9,10])\n",
        "x=np.array([[1,2],[3,4]])\n",
        "print(x.dot(a))\n",
        "print(np.dot(x,a))"
      ],
      "execution_count": null,
      "outputs": [
        {
          "output_type": "stream",
          "name": "stdout",
          "text": [
            "[29 67]\n",
            "[29 67]\n"
          ]
        }
      ]
    },
    {
      "cell_type": "code",
      "metadata": {
        "colab": {
          "base_uri": "https://localhost:8080/"
        },
        "id": "svvDisl-vwou",
        "outputId": "086d7cef-77cc-42c5-e323-9f8d27a413ca"
      },
      "source": [
        "import numpy as np\n",
        "x=np.array([[1,2],[3,4]])\n",
        "y=np.array([[5,6],[7,8]])\n",
        "print(x.dot(y))\n",
        "print(np.dot(x,y))"
      ],
      "execution_count": null,
      "outputs": [
        {
          "output_type": "stream",
          "name": "stdout",
          "text": [
            "[[19 22]\n",
            " [43 50]]\n",
            "[[19 22]\n",
            " [43 50]]\n"
          ]
        }
      ]
    },
    {
      "cell_type": "code",
      "metadata": {
        "colab": {
          "base_uri": "https://localhost:8080/"
        },
        "id": "ts7C67kbxivl",
        "outputId": "f458b375-d000-466e-b2d2-b59a1f447989"
      },
      "source": [
        "import numpy as np\n",
        "x=np.array([[1,2],[3,4]])\n",
        "print(np.sum(x))\n",
        "print(np.sum(x,axis=0))\n",
        "print(np.sum(x,axis=1))"
      ],
      "execution_count": null,
      "outputs": [
        {
          "output_type": "stream",
          "name": "stdout",
          "text": [
            "10\n",
            "[4 6]\n",
            "[3 7]\n"
          ]
        }
      ]
    },
    {
      "cell_type": "code",
      "metadata": {
        "colab": {
          "base_uri": "https://localhost:8080/"
        },
        "id": "Rdd89C6Aya7C",
        "outputId": "da84a810-08d4-4069-fc6a-f2d768b08d94"
      },
      "source": [
        "import numpy as np\n",
        "x=np.array([[1,2],[3,4]])\n",
        "print(x)\n",
        "print(x.T)\n"
      ],
      "execution_count": null,
      "outputs": [
        {
          "output_type": "stream",
          "name": "stdout",
          "text": [
            "[[1 2]\n",
            " [3 4]]\n",
            "[[1 3]\n",
            " [2 4]]\n"
          ]
        }
      ]
    },
    {
      "cell_type": "code",
      "metadata": {
        "colab": {
          "base_uri": "https://localhost:8080/"
        },
        "id": "cQmMFDoEzeCh",
        "outputId": "397af097-e0e1-4f01-899c-39fa2f13d5d1"
      },
      "source": [
        "import numpy as np\n",
        "v=np.array([1,2,3])\n",
        "print(v)\n",
        "print(v.T)"
      ],
      "execution_count": null,
      "outputs": [
        {
          "output_type": "stream",
          "name": "stdout",
          "text": [
            "[1 2 3]\n",
            "[1 2 3]\n"
          ]
        }
      ]
    },
    {
      "cell_type": "code",
      "metadata": {
        "colab": {
          "base_uri": "https://localhost:8080/"
        },
        "id": "98GCCldWziSN",
        "outputId": "9d10f8b7-cbb3-4965-e5b7-e99a59874776"
      },
      "source": [
        "import numpy as np\n",
        "a=np.array([[1,2,3],[4,5,6],[7,8,9]])\n",
        "v=np.array([1,0,1])\n",
        "b=a+v\n",
        "print(b)"
      ],
      "execution_count": null,
      "outputs": [
        {
          "output_type": "stream",
          "name": "stdout",
          "text": [
            "[[ 2  2  4]\n",
            " [ 5  5  7]\n",
            " [ 8  8 10]]\n"
          ]
        }
      ]
    },
    {
      "cell_type": "code",
      "metadata": {
        "colab": {
          "base_uri": "https://localhost:8080/"
        },
        "id": "H0tFfPWz0awF",
        "outputId": "edbc1ef5-08c3-43f0-b3fa-99e0a13535d0"
      },
      "source": [
        "import numpy as np\n",
        "x=np.array([[1,2,1],[3,4,1]])\n",
        "print(\"X.T:\\n\",x.T)\n",
        "w=np.array([1,1])\n",
        "print(\"W:\\n\",w)\n",
        "\n",
        "print(\"Final :\\n\",(x.T+w).T)"
      ],
      "execution_count": null,
      "outputs": [
        {
          "output_type": "stream",
          "name": "stdout",
          "text": [
            "X.T:\n",
            " [[1 3]\n",
            " [2 4]\n",
            " [1 1]]\n",
            "W:\n",
            " [1 1]\n",
            "Final :\n",
            " [[2 3 2]\n",
            " [4 5 2]]\n"
          ]
        }
      ]
    },
    {
      "cell_type": "code",
      "metadata": {
        "colab": {
          "base_uri": "https://localhost:8080/"
        },
        "id": "QqfEsXkU1rkW",
        "outputId": "82c9a20d-bcea-4538-be8d-99e3038110c6"
      },
      "source": [
        "import numpy as np\n",
        "x=np.array([[1,2,1],[3,4,1]])\n",
        "print(x*2)"
      ],
      "execution_count": null,
      "outputs": [
        {
          "output_type": "stream",
          "name": "stdout",
          "text": [
            "[[2 4 2]\n",
            " [6 8 2]]\n"
          ]
        }
      ]
    },
    {
      "cell_type": "code",
      "metadata": {
        "id": "LbUx0zs42IP7",
        "colab": {
          "base_uri": "https://localhost:8080/"
        },
        "outputId": "5f2bdbe5-de94-4a39-a6ef-332b37f2a54e"
      },
      "source": [
        "import numpy as np\n",
        "np.random.rand(3,2)"
      ],
      "execution_count": null,
      "outputs": [
        {
          "output_type": "execute_result",
          "data": {
            "text/plain": [
              "array([[0.56227712, 0.88998172],\n",
              "       [0.53741372, 0.06537853],\n",
              "       [0.37595657, 0.08675203]])"
            ]
          },
          "metadata": {},
          "execution_count": 51
        }
      ]
    },
    {
      "cell_type": "code",
      "metadata": {
        "colab": {
          "base_uri": "https://localhost:8080/"
        },
        "id": "DXEqHWCuLRyp",
        "outputId": "978e5bf6-dc07-4878-b895-98d2a29f4d43"
      },
      "source": [
        "import numpy as np\n",
        "np.random.rand(10)"
      ],
      "execution_count": null,
      "outputs": [
        {
          "output_type": "execute_result",
          "data": {
            "text/plain": [
              "array([0.97209937, 0.04295461, 0.84088691, 0.34607623, 0.61386737,\n",
              "       0.21461709, 0.8598008 , 0.73044918, 0.26107844, 0.25882994])"
            ]
          },
          "metadata": {},
          "execution_count": 52
        }
      ]
    },
    {
      "cell_type": "code",
      "metadata": {
        "colab": {
          "base_uri": "https://localhost:8080/"
        },
        "id": "6NVSZzvbLYQh",
        "outputId": "e0c73c55-5e76-4c1e-8836-3f229403cc8e"
      },
      "source": [
        "import random\n",
        "print (random.randint(0,9))"
      ],
      "execution_count": null,
      "outputs": [
        {
          "output_type": "stream",
          "name": "stdout",
          "text": [
            "6\n"
          ]
        }
      ]
    },
    {
      "cell_type": "markdown",
      "metadata": {
        "id": "hzae-LlSL84b"
      },
      "source": [
        "# **Pandas**"
      ]
    },
    {
      "cell_type": "markdown",
      "metadata": {
        "id": "oPwBdeP4NQAf"
      },
      "source": [
        "# **1.Creating Series**"
      ]
    },
    {
      "cell_type": "code",
      "metadata": {
        "colab": {
          "base_uri": "https://localhost:8080/"
        },
        "id": "LngRehnwMC52",
        "outputId": "e0362cd5-3239-4707-e058-e955d7e5d755"
      },
      "source": [
        "import pandas as pd\n",
        "s=pd.Series([1,2,3,4,5],index=['A','B','C','D','E'])\n",
        "s"
      ],
      "execution_count": null,
      "outputs": [
        {
          "output_type": "execute_result",
          "data": {
            "text/plain": [
              "A    1\n",
              "B    2\n",
              "C    3\n",
              "D    4\n",
              "E    5\n",
              "dtype: int64"
            ]
          },
          "metadata": {},
          "execution_count": 54
        }
      ]
    },
    {
      "cell_type": "markdown",
      "metadata": {
        "id": "ubWvGx80NYFz"
      },
      "source": [
        "# **2.Data Frames**"
      ]
    },
    {
      "cell_type": "code",
      "metadata": {
        "colab": {
          "base_uri": "https://localhost:8080/"
        },
        "id": "u62_zmLnNIKg",
        "outputId": "7f04106c-66b5-4ebb-88b7-25a5fab97e2f"
      },
      "source": [
        "import pandas as pd\n",
        "data={'Gen':['F','M','M'],'EiD':['E01','E02','E03'],'Age':[25,45,38]}\n",
        "\n",
        "df=pd.DataFrame(data,columns=['EiD','Age','Gen'])\n",
        "print(df)"
      ],
      "execution_count": null,
      "outputs": [
        {
          "output_type": "stream",
          "name": "stdout",
          "text": [
            "   EiD  Age Gen\n",
            "0  E01   25   F\n",
            "1  E02   45   M\n",
            "2  E03   38   M\n"
          ]
        }
      ]
    },
    {
      "cell_type": "code",
      "metadata": {
        "colab": {
          "base_uri": "https://localhost:8080/"
        },
        "id": "ZK_4BvemiaOX",
        "outputId": "5bc55955-7ea2-42cb-b613-b2d3306700a5"
      },
      "source": [
        "import pandas as pd\n",
        "from numpy import loadtxt\n",
        "from urllib.request import urlopen\n",
        "\n",
        "url='https://raw.githubusercontent.com/jbrownlee/datasets/master/pima-indians-diabetes.data.csv'\n",
        "\n",
        "raw_data=pd.read_csv(urlopen(url))\n",
        "raw_data.shape\n"
      ],
      "execution_count": null,
      "outputs": [
        {
          "output_type": "execute_result",
          "data": {
            "text/plain": [
              "(767, 9)"
            ]
          },
          "metadata": {},
          "execution_count": 56
        }
      ]
    },
    {
      "cell_type": "code",
      "metadata": {
        "colab": {
          "base_uri": "https://localhost:8080/",
          "height": 203
        },
        "id": "ZkJkvFoKiohd",
        "outputId": "f9821398-645c-4572-cb6a-e29b92d20915"
      },
      "source": [
        "raw_data.head()"
      ],
      "execution_count": null,
      "outputs": [
        {
          "output_type": "execute_result",
          "data": {
            "text/html": [
              "<div>\n",
              "<style scoped>\n",
              "    .dataframe tbody tr th:only-of-type {\n",
              "        vertical-align: middle;\n",
              "    }\n",
              "\n",
              "    .dataframe tbody tr th {\n",
              "        vertical-align: top;\n",
              "    }\n",
              "\n",
              "    .dataframe thead th {\n",
              "        text-align: right;\n",
              "    }\n",
              "</style>\n",
              "<table border=\"1\" class=\"dataframe\">\n",
              "  <thead>\n",
              "    <tr style=\"text-align: right;\">\n",
              "      <th></th>\n",
              "      <th>6</th>\n",
              "      <th>148</th>\n",
              "      <th>72</th>\n",
              "      <th>35</th>\n",
              "      <th>0</th>\n",
              "      <th>33.6</th>\n",
              "      <th>0.627</th>\n",
              "      <th>50</th>\n",
              "      <th>1</th>\n",
              "    </tr>\n",
              "  </thead>\n",
              "  <tbody>\n",
              "    <tr>\n",
              "      <th>0</th>\n",
              "      <td>1</td>\n",
              "      <td>85</td>\n",
              "      <td>66</td>\n",
              "      <td>29</td>\n",
              "      <td>0</td>\n",
              "      <td>26.6</td>\n",
              "      <td>0.351</td>\n",
              "      <td>31</td>\n",
              "      <td>0</td>\n",
              "    </tr>\n",
              "    <tr>\n",
              "      <th>1</th>\n",
              "      <td>8</td>\n",
              "      <td>183</td>\n",
              "      <td>64</td>\n",
              "      <td>0</td>\n",
              "      <td>0</td>\n",
              "      <td>23.3</td>\n",
              "      <td>0.672</td>\n",
              "      <td>32</td>\n",
              "      <td>1</td>\n",
              "    </tr>\n",
              "    <tr>\n",
              "      <th>2</th>\n",
              "      <td>1</td>\n",
              "      <td>89</td>\n",
              "      <td>66</td>\n",
              "      <td>23</td>\n",
              "      <td>94</td>\n",
              "      <td>28.1</td>\n",
              "      <td>0.167</td>\n",
              "      <td>21</td>\n",
              "      <td>0</td>\n",
              "    </tr>\n",
              "    <tr>\n",
              "      <th>3</th>\n",
              "      <td>0</td>\n",
              "      <td>137</td>\n",
              "      <td>40</td>\n",
              "      <td>35</td>\n",
              "      <td>168</td>\n",
              "      <td>43.1</td>\n",
              "      <td>2.288</td>\n",
              "      <td>33</td>\n",
              "      <td>1</td>\n",
              "    </tr>\n",
              "    <tr>\n",
              "      <th>4</th>\n",
              "      <td>5</td>\n",
              "      <td>116</td>\n",
              "      <td>74</td>\n",
              "      <td>0</td>\n",
              "      <td>0</td>\n",
              "      <td>25.6</td>\n",
              "      <td>0.201</td>\n",
              "      <td>30</td>\n",
              "      <td>0</td>\n",
              "    </tr>\n",
              "  </tbody>\n",
              "</table>\n",
              "</div>"
            ],
            "text/plain": [
              "   6  148  72  35    0  33.6  0.627  50  1\n",
              "0  1   85  66  29    0  26.6  0.351  31  0\n",
              "1  8  183  64   0    0  23.3  0.672  32  1\n",
              "2  1   89  66  23   94  28.1  0.167  21  0\n",
              "3  0  137  40  35  168  43.1  2.288  33  1\n",
              "4  5  116  74   0    0  25.6  0.201  30  0"
            ]
          },
          "metadata": {},
          "execution_count": 57
        }
      ]
    },
    {
      "cell_type": "code",
      "metadata": {
        "colab": {
          "base_uri": "https://localhost:8080/",
          "height": 203
        },
        "id": "RxtQJW3UizNF",
        "outputId": "4ff48124-9c1d-4b5c-fde9-348ae7761632"
      },
      "source": [
        "raw_data.tail()"
      ],
      "execution_count": null,
      "outputs": [
        {
          "output_type": "execute_result",
          "data": {
            "text/html": [
              "<div>\n",
              "<style scoped>\n",
              "    .dataframe tbody tr th:only-of-type {\n",
              "        vertical-align: middle;\n",
              "    }\n",
              "\n",
              "    .dataframe tbody tr th {\n",
              "        vertical-align: top;\n",
              "    }\n",
              "\n",
              "    .dataframe thead th {\n",
              "        text-align: right;\n",
              "    }\n",
              "</style>\n",
              "<table border=\"1\" class=\"dataframe\">\n",
              "  <thead>\n",
              "    <tr style=\"text-align: right;\">\n",
              "      <th></th>\n",
              "      <th>6</th>\n",
              "      <th>148</th>\n",
              "      <th>72</th>\n",
              "      <th>35</th>\n",
              "      <th>0</th>\n",
              "      <th>33.6</th>\n",
              "      <th>0.627</th>\n",
              "      <th>50</th>\n",
              "      <th>1</th>\n",
              "    </tr>\n",
              "  </thead>\n",
              "  <tbody>\n",
              "    <tr>\n",
              "      <th>762</th>\n",
              "      <td>10</td>\n",
              "      <td>101</td>\n",
              "      <td>76</td>\n",
              "      <td>48</td>\n",
              "      <td>180</td>\n",
              "      <td>32.9</td>\n",
              "      <td>0.171</td>\n",
              "      <td>63</td>\n",
              "      <td>0</td>\n",
              "    </tr>\n",
              "    <tr>\n",
              "      <th>763</th>\n",
              "      <td>2</td>\n",
              "      <td>122</td>\n",
              "      <td>70</td>\n",
              "      <td>27</td>\n",
              "      <td>0</td>\n",
              "      <td>36.8</td>\n",
              "      <td>0.340</td>\n",
              "      <td>27</td>\n",
              "      <td>0</td>\n",
              "    </tr>\n",
              "    <tr>\n",
              "      <th>764</th>\n",
              "      <td>5</td>\n",
              "      <td>121</td>\n",
              "      <td>72</td>\n",
              "      <td>23</td>\n",
              "      <td>112</td>\n",
              "      <td>26.2</td>\n",
              "      <td>0.245</td>\n",
              "      <td>30</td>\n",
              "      <td>0</td>\n",
              "    </tr>\n",
              "    <tr>\n",
              "      <th>765</th>\n",
              "      <td>1</td>\n",
              "      <td>126</td>\n",
              "      <td>60</td>\n",
              "      <td>0</td>\n",
              "      <td>0</td>\n",
              "      <td>30.1</td>\n",
              "      <td>0.349</td>\n",
              "      <td>47</td>\n",
              "      <td>1</td>\n",
              "    </tr>\n",
              "    <tr>\n",
              "      <th>766</th>\n",
              "      <td>1</td>\n",
              "      <td>93</td>\n",
              "      <td>70</td>\n",
              "      <td>31</td>\n",
              "      <td>0</td>\n",
              "      <td>30.4</td>\n",
              "      <td>0.315</td>\n",
              "      <td>23</td>\n",
              "      <td>0</td>\n",
              "    </tr>\n",
              "  </tbody>\n",
              "</table>\n",
              "</div>"
            ],
            "text/plain": [
              "      6  148  72  35    0  33.6  0.627  50  1\n",
              "762  10  101  76  48  180  32.9  0.171  63  0\n",
              "763   2  122  70  27    0  36.8  0.340  27  0\n",
              "764   5  121  72  23  112  26.2  0.245  30  0\n",
              "765   1  126  60   0    0  30.1  0.349  47  1\n",
              "766   1   93  70  31    0  30.4  0.315  23  0"
            ]
          },
          "metadata": {},
          "execution_count": 58
        }
      ]
    },
    {
      "cell_type": "code",
      "metadata": {
        "colab": {
          "base_uri": "https://localhost:8080/",
          "height": 819
        },
        "id": "xx3Q3P2HjCE2",
        "outputId": "36db4f73-6ee6-42b5-85ce-69d4c05f0682"
      },
      "source": [
        "raw_data.head(25)"
      ],
      "execution_count": null,
      "outputs": [
        {
          "output_type": "execute_result",
          "data": {
            "text/html": [
              "<div>\n",
              "<style scoped>\n",
              "    .dataframe tbody tr th:only-of-type {\n",
              "        vertical-align: middle;\n",
              "    }\n",
              "\n",
              "    .dataframe tbody tr th {\n",
              "        vertical-align: top;\n",
              "    }\n",
              "\n",
              "    .dataframe thead th {\n",
              "        text-align: right;\n",
              "    }\n",
              "</style>\n",
              "<table border=\"1\" class=\"dataframe\">\n",
              "  <thead>\n",
              "    <tr style=\"text-align: right;\">\n",
              "      <th></th>\n",
              "      <th>6</th>\n",
              "      <th>148</th>\n",
              "      <th>72</th>\n",
              "      <th>35</th>\n",
              "      <th>0</th>\n",
              "      <th>33.6</th>\n",
              "      <th>0.627</th>\n",
              "      <th>50</th>\n",
              "      <th>1</th>\n",
              "    </tr>\n",
              "  </thead>\n",
              "  <tbody>\n",
              "    <tr>\n",
              "      <th>0</th>\n",
              "      <td>1</td>\n",
              "      <td>85</td>\n",
              "      <td>66</td>\n",
              "      <td>29</td>\n",
              "      <td>0</td>\n",
              "      <td>26.6</td>\n",
              "      <td>0.351</td>\n",
              "      <td>31</td>\n",
              "      <td>0</td>\n",
              "    </tr>\n",
              "    <tr>\n",
              "      <th>1</th>\n",
              "      <td>8</td>\n",
              "      <td>183</td>\n",
              "      <td>64</td>\n",
              "      <td>0</td>\n",
              "      <td>0</td>\n",
              "      <td>23.3</td>\n",
              "      <td>0.672</td>\n",
              "      <td>32</td>\n",
              "      <td>1</td>\n",
              "    </tr>\n",
              "    <tr>\n",
              "      <th>2</th>\n",
              "      <td>1</td>\n",
              "      <td>89</td>\n",
              "      <td>66</td>\n",
              "      <td>23</td>\n",
              "      <td>94</td>\n",
              "      <td>28.1</td>\n",
              "      <td>0.167</td>\n",
              "      <td>21</td>\n",
              "      <td>0</td>\n",
              "    </tr>\n",
              "    <tr>\n",
              "      <th>3</th>\n",
              "      <td>0</td>\n",
              "      <td>137</td>\n",
              "      <td>40</td>\n",
              "      <td>35</td>\n",
              "      <td>168</td>\n",
              "      <td>43.1</td>\n",
              "      <td>2.288</td>\n",
              "      <td>33</td>\n",
              "      <td>1</td>\n",
              "    </tr>\n",
              "    <tr>\n",
              "      <th>4</th>\n",
              "      <td>5</td>\n",
              "      <td>116</td>\n",
              "      <td>74</td>\n",
              "      <td>0</td>\n",
              "      <td>0</td>\n",
              "      <td>25.6</td>\n",
              "      <td>0.201</td>\n",
              "      <td>30</td>\n",
              "      <td>0</td>\n",
              "    </tr>\n",
              "    <tr>\n",
              "      <th>5</th>\n",
              "      <td>3</td>\n",
              "      <td>78</td>\n",
              "      <td>50</td>\n",
              "      <td>32</td>\n",
              "      <td>88</td>\n",
              "      <td>31.0</td>\n",
              "      <td>0.248</td>\n",
              "      <td>26</td>\n",
              "      <td>1</td>\n",
              "    </tr>\n",
              "    <tr>\n",
              "      <th>6</th>\n",
              "      <td>10</td>\n",
              "      <td>115</td>\n",
              "      <td>0</td>\n",
              "      <td>0</td>\n",
              "      <td>0</td>\n",
              "      <td>35.3</td>\n",
              "      <td>0.134</td>\n",
              "      <td>29</td>\n",
              "      <td>0</td>\n",
              "    </tr>\n",
              "    <tr>\n",
              "      <th>7</th>\n",
              "      <td>2</td>\n",
              "      <td>197</td>\n",
              "      <td>70</td>\n",
              "      <td>45</td>\n",
              "      <td>543</td>\n",
              "      <td>30.5</td>\n",
              "      <td>0.158</td>\n",
              "      <td>53</td>\n",
              "      <td>1</td>\n",
              "    </tr>\n",
              "    <tr>\n",
              "      <th>8</th>\n",
              "      <td>8</td>\n",
              "      <td>125</td>\n",
              "      <td>96</td>\n",
              "      <td>0</td>\n",
              "      <td>0</td>\n",
              "      <td>0.0</td>\n",
              "      <td>0.232</td>\n",
              "      <td>54</td>\n",
              "      <td>1</td>\n",
              "    </tr>\n",
              "    <tr>\n",
              "      <th>9</th>\n",
              "      <td>4</td>\n",
              "      <td>110</td>\n",
              "      <td>92</td>\n",
              "      <td>0</td>\n",
              "      <td>0</td>\n",
              "      <td>37.6</td>\n",
              "      <td>0.191</td>\n",
              "      <td>30</td>\n",
              "      <td>0</td>\n",
              "    </tr>\n",
              "    <tr>\n",
              "      <th>10</th>\n",
              "      <td>10</td>\n",
              "      <td>168</td>\n",
              "      <td>74</td>\n",
              "      <td>0</td>\n",
              "      <td>0</td>\n",
              "      <td>38.0</td>\n",
              "      <td>0.537</td>\n",
              "      <td>34</td>\n",
              "      <td>1</td>\n",
              "    </tr>\n",
              "    <tr>\n",
              "      <th>11</th>\n",
              "      <td>10</td>\n",
              "      <td>139</td>\n",
              "      <td>80</td>\n",
              "      <td>0</td>\n",
              "      <td>0</td>\n",
              "      <td>27.1</td>\n",
              "      <td>1.441</td>\n",
              "      <td>57</td>\n",
              "      <td>0</td>\n",
              "    </tr>\n",
              "    <tr>\n",
              "      <th>12</th>\n",
              "      <td>1</td>\n",
              "      <td>189</td>\n",
              "      <td>60</td>\n",
              "      <td>23</td>\n",
              "      <td>846</td>\n",
              "      <td>30.1</td>\n",
              "      <td>0.398</td>\n",
              "      <td>59</td>\n",
              "      <td>1</td>\n",
              "    </tr>\n",
              "    <tr>\n",
              "      <th>13</th>\n",
              "      <td>5</td>\n",
              "      <td>166</td>\n",
              "      <td>72</td>\n",
              "      <td>19</td>\n",
              "      <td>175</td>\n",
              "      <td>25.8</td>\n",
              "      <td>0.587</td>\n",
              "      <td>51</td>\n",
              "      <td>1</td>\n",
              "    </tr>\n",
              "    <tr>\n",
              "      <th>14</th>\n",
              "      <td>7</td>\n",
              "      <td>100</td>\n",
              "      <td>0</td>\n",
              "      <td>0</td>\n",
              "      <td>0</td>\n",
              "      <td>30.0</td>\n",
              "      <td>0.484</td>\n",
              "      <td>32</td>\n",
              "      <td>1</td>\n",
              "    </tr>\n",
              "    <tr>\n",
              "      <th>15</th>\n",
              "      <td>0</td>\n",
              "      <td>118</td>\n",
              "      <td>84</td>\n",
              "      <td>47</td>\n",
              "      <td>230</td>\n",
              "      <td>45.8</td>\n",
              "      <td>0.551</td>\n",
              "      <td>31</td>\n",
              "      <td>1</td>\n",
              "    </tr>\n",
              "    <tr>\n",
              "      <th>16</th>\n",
              "      <td>7</td>\n",
              "      <td>107</td>\n",
              "      <td>74</td>\n",
              "      <td>0</td>\n",
              "      <td>0</td>\n",
              "      <td>29.6</td>\n",
              "      <td>0.254</td>\n",
              "      <td>31</td>\n",
              "      <td>1</td>\n",
              "    </tr>\n",
              "    <tr>\n",
              "      <th>17</th>\n",
              "      <td>1</td>\n",
              "      <td>103</td>\n",
              "      <td>30</td>\n",
              "      <td>38</td>\n",
              "      <td>83</td>\n",
              "      <td>43.3</td>\n",
              "      <td>0.183</td>\n",
              "      <td>33</td>\n",
              "      <td>0</td>\n",
              "    </tr>\n",
              "    <tr>\n",
              "      <th>18</th>\n",
              "      <td>1</td>\n",
              "      <td>115</td>\n",
              "      <td>70</td>\n",
              "      <td>30</td>\n",
              "      <td>96</td>\n",
              "      <td>34.6</td>\n",
              "      <td>0.529</td>\n",
              "      <td>32</td>\n",
              "      <td>1</td>\n",
              "    </tr>\n",
              "    <tr>\n",
              "      <th>19</th>\n",
              "      <td>3</td>\n",
              "      <td>126</td>\n",
              "      <td>88</td>\n",
              "      <td>41</td>\n",
              "      <td>235</td>\n",
              "      <td>39.3</td>\n",
              "      <td>0.704</td>\n",
              "      <td>27</td>\n",
              "      <td>0</td>\n",
              "    </tr>\n",
              "    <tr>\n",
              "      <th>20</th>\n",
              "      <td>8</td>\n",
              "      <td>99</td>\n",
              "      <td>84</td>\n",
              "      <td>0</td>\n",
              "      <td>0</td>\n",
              "      <td>35.4</td>\n",
              "      <td>0.388</td>\n",
              "      <td>50</td>\n",
              "      <td>0</td>\n",
              "    </tr>\n",
              "    <tr>\n",
              "      <th>21</th>\n",
              "      <td>7</td>\n",
              "      <td>196</td>\n",
              "      <td>90</td>\n",
              "      <td>0</td>\n",
              "      <td>0</td>\n",
              "      <td>39.8</td>\n",
              "      <td>0.451</td>\n",
              "      <td>41</td>\n",
              "      <td>1</td>\n",
              "    </tr>\n",
              "    <tr>\n",
              "      <th>22</th>\n",
              "      <td>9</td>\n",
              "      <td>119</td>\n",
              "      <td>80</td>\n",
              "      <td>35</td>\n",
              "      <td>0</td>\n",
              "      <td>29.0</td>\n",
              "      <td>0.263</td>\n",
              "      <td>29</td>\n",
              "      <td>1</td>\n",
              "    </tr>\n",
              "    <tr>\n",
              "      <th>23</th>\n",
              "      <td>11</td>\n",
              "      <td>143</td>\n",
              "      <td>94</td>\n",
              "      <td>33</td>\n",
              "      <td>146</td>\n",
              "      <td>36.6</td>\n",
              "      <td>0.254</td>\n",
              "      <td>51</td>\n",
              "      <td>1</td>\n",
              "    </tr>\n",
              "    <tr>\n",
              "      <th>24</th>\n",
              "      <td>10</td>\n",
              "      <td>125</td>\n",
              "      <td>70</td>\n",
              "      <td>26</td>\n",
              "      <td>115</td>\n",
              "      <td>31.1</td>\n",
              "      <td>0.205</td>\n",
              "      <td>41</td>\n",
              "      <td>1</td>\n",
              "    </tr>\n",
              "  </tbody>\n",
              "</table>\n",
              "</div>"
            ],
            "text/plain": [
              "     6  148  72  35    0  33.6  0.627  50  1\n",
              "0    1   85  66  29    0  26.6  0.351  31  0\n",
              "1    8  183  64   0    0  23.3  0.672  32  1\n",
              "2    1   89  66  23   94  28.1  0.167  21  0\n",
              "3    0  137  40  35  168  43.1  2.288  33  1\n",
              "4    5  116  74   0    0  25.6  0.201  30  0\n",
              "5    3   78  50  32   88  31.0  0.248  26  1\n",
              "6   10  115   0   0    0  35.3  0.134  29  0\n",
              "7    2  197  70  45  543  30.5  0.158  53  1\n",
              "8    8  125  96   0    0   0.0  0.232  54  1\n",
              "9    4  110  92   0    0  37.6  0.191  30  0\n",
              "10  10  168  74   0    0  38.0  0.537  34  1\n",
              "11  10  139  80   0    0  27.1  1.441  57  0\n",
              "12   1  189  60  23  846  30.1  0.398  59  1\n",
              "13   5  166  72  19  175  25.8  0.587  51  1\n",
              "14   7  100   0   0    0  30.0  0.484  32  1\n",
              "15   0  118  84  47  230  45.8  0.551  31  1\n",
              "16   7  107  74   0    0  29.6  0.254  31  1\n",
              "17   1  103  30  38   83  43.3  0.183  33  0\n",
              "18   1  115  70  30   96  34.6  0.529  32  1\n",
              "19   3  126  88  41  235  39.3  0.704  27  0\n",
              "20   8   99  84   0    0  35.4  0.388  50  0\n",
              "21   7  196  90   0    0  39.8  0.451  41  1\n",
              "22   9  119  80  35    0  29.0  0.263  29  1\n",
              "23  11  143  94  33  146  36.6  0.254  51  1\n",
              "24  10  125  70  26  115  31.1  0.205  41  1"
            ]
          },
          "metadata": {},
          "execution_count": 59
        }
      ]
    },
    {
      "cell_type": "code",
      "metadata": {
        "colab": {
          "base_uri": "https://localhost:8080/",
          "height": 295
        },
        "id": "hx9feA7pjKkA",
        "outputId": "e23bb410-a664-449c-eb9f-63763131f519"
      },
      "source": [
        "raw_data.describe()"
      ],
      "execution_count": null,
      "outputs": [
        {
          "output_type": "execute_result",
          "data": {
            "text/html": [
              "<div>\n",
              "<style scoped>\n",
              "    .dataframe tbody tr th:only-of-type {\n",
              "        vertical-align: middle;\n",
              "    }\n",
              "\n",
              "    .dataframe tbody tr th {\n",
              "        vertical-align: top;\n",
              "    }\n",
              "\n",
              "    .dataframe thead th {\n",
              "        text-align: right;\n",
              "    }\n",
              "</style>\n",
              "<table border=\"1\" class=\"dataframe\">\n",
              "  <thead>\n",
              "    <tr style=\"text-align: right;\">\n",
              "      <th></th>\n",
              "      <th>6</th>\n",
              "      <th>148</th>\n",
              "      <th>72</th>\n",
              "      <th>35</th>\n",
              "      <th>0</th>\n",
              "      <th>33.6</th>\n",
              "      <th>0.627</th>\n",
              "      <th>50</th>\n",
              "      <th>1</th>\n",
              "    </tr>\n",
              "  </thead>\n",
              "  <tbody>\n",
              "    <tr>\n",
              "      <th>count</th>\n",
              "      <td>767.000000</td>\n",
              "      <td>767.000000</td>\n",
              "      <td>767.000000</td>\n",
              "      <td>767.000000</td>\n",
              "      <td>767.000000</td>\n",
              "      <td>767.000000</td>\n",
              "      <td>767.000000</td>\n",
              "      <td>767.000000</td>\n",
              "      <td>767.000000</td>\n",
              "    </tr>\n",
              "    <tr>\n",
              "      <th>mean</th>\n",
              "      <td>3.842243</td>\n",
              "      <td>120.859192</td>\n",
              "      <td>69.101695</td>\n",
              "      <td>20.517601</td>\n",
              "      <td>79.903520</td>\n",
              "      <td>31.990482</td>\n",
              "      <td>0.471674</td>\n",
              "      <td>33.219035</td>\n",
              "      <td>0.348110</td>\n",
              "    </tr>\n",
              "    <tr>\n",
              "      <th>std</th>\n",
              "      <td>3.370877</td>\n",
              "      <td>31.978468</td>\n",
              "      <td>19.368155</td>\n",
              "      <td>15.954059</td>\n",
              "      <td>115.283105</td>\n",
              "      <td>7.889091</td>\n",
              "      <td>0.331497</td>\n",
              "      <td>11.752296</td>\n",
              "      <td>0.476682</td>\n",
              "    </tr>\n",
              "    <tr>\n",
              "      <th>min</th>\n",
              "      <td>0.000000</td>\n",
              "      <td>0.000000</td>\n",
              "      <td>0.000000</td>\n",
              "      <td>0.000000</td>\n",
              "      <td>0.000000</td>\n",
              "      <td>0.000000</td>\n",
              "      <td>0.078000</td>\n",
              "      <td>21.000000</td>\n",
              "      <td>0.000000</td>\n",
              "    </tr>\n",
              "    <tr>\n",
              "      <th>25%</th>\n",
              "      <td>1.000000</td>\n",
              "      <td>99.000000</td>\n",
              "      <td>62.000000</td>\n",
              "      <td>0.000000</td>\n",
              "      <td>0.000000</td>\n",
              "      <td>27.300000</td>\n",
              "      <td>0.243500</td>\n",
              "      <td>24.000000</td>\n",
              "      <td>0.000000</td>\n",
              "    </tr>\n",
              "    <tr>\n",
              "      <th>50%</th>\n",
              "      <td>3.000000</td>\n",
              "      <td>117.000000</td>\n",
              "      <td>72.000000</td>\n",
              "      <td>23.000000</td>\n",
              "      <td>32.000000</td>\n",
              "      <td>32.000000</td>\n",
              "      <td>0.371000</td>\n",
              "      <td>29.000000</td>\n",
              "      <td>0.000000</td>\n",
              "    </tr>\n",
              "    <tr>\n",
              "      <th>75%</th>\n",
              "      <td>6.000000</td>\n",
              "      <td>140.000000</td>\n",
              "      <td>80.000000</td>\n",
              "      <td>32.000000</td>\n",
              "      <td>127.500000</td>\n",
              "      <td>36.600000</td>\n",
              "      <td>0.625000</td>\n",
              "      <td>41.000000</td>\n",
              "      <td>1.000000</td>\n",
              "    </tr>\n",
              "    <tr>\n",
              "      <th>max</th>\n",
              "      <td>17.000000</td>\n",
              "      <td>199.000000</td>\n",
              "      <td>122.000000</td>\n",
              "      <td>99.000000</td>\n",
              "      <td>846.000000</td>\n",
              "      <td>67.100000</td>\n",
              "      <td>2.420000</td>\n",
              "      <td>81.000000</td>\n",
              "      <td>1.000000</td>\n",
              "    </tr>\n",
              "  </tbody>\n",
              "</table>\n",
              "</div>"
            ],
            "text/plain": [
              "                6         148          72  ...       0.627          50           1\n",
              "count  767.000000  767.000000  767.000000  ...  767.000000  767.000000  767.000000\n",
              "mean     3.842243  120.859192   69.101695  ...    0.471674   33.219035    0.348110\n",
              "std      3.370877   31.978468   19.368155  ...    0.331497   11.752296    0.476682\n",
              "min      0.000000    0.000000    0.000000  ...    0.078000   21.000000    0.000000\n",
              "25%      1.000000   99.000000   62.000000  ...    0.243500   24.000000    0.000000\n",
              "50%      3.000000  117.000000   72.000000  ...    0.371000   29.000000    0.000000\n",
              "75%      6.000000  140.000000   80.000000  ...    0.625000   41.000000    1.000000\n",
              "max     17.000000  199.000000  122.000000  ...    2.420000   81.000000    1.000000\n",
              "\n",
              "[8 rows x 9 columns]"
            ]
          },
          "metadata": {},
          "execution_count": 60
        }
      ]
    },
    {
      "cell_type": "code",
      "metadata": {
        "colab": {
          "base_uri": "https://localhost:8080/",
          "height": 326
        },
        "id": "82yGPYy4jTtl",
        "outputId": "41045862-ac66-4eb5-8ad9-5c95c1e1b1d7"
      },
      "source": [
        "raw_data.cov()"
      ],
      "execution_count": null,
      "outputs": [
        {
          "output_type": "execute_result",
          "data": {
            "text/html": [
              "<div>\n",
              "<style scoped>\n",
              "    .dataframe tbody tr th:only-of-type {\n",
              "        vertical-align: middle;\n",
              "    }\n",
              "\n",
              "    .dataframe tbody tr th {\n",
              "        vertical-align: top;\n",
              "    }\n",
              "\n",
              "    .dataframe thead th {\n",
              "        text-align: right;\n",
              "    }\n",
              "</style>\n",
              "<table border=\"1\" class=\"dataframe\">\n",
              "  <thead>\n",
              "    <tr style=\"text-align: right;\">\n",
              "      <th></th>\n",
              "      <th>6</th>\n",
              "      <th>148</th>\n",
              "      <th>72</th>\n",
              "      <th>35</th>\n",
              "      <th>0</th>\n",
              "      <th>33.6</th>\n",
              "      <th>0.627</th>\n",
              "      <th>50</th>\n",
              "      <th>1</th>\n",
              "    </tr>\n",
              "  </thead>\n",
              "  <tbody>\n",
              "    <tr>\n",
              "      <th>6</th>\n",
              "      <td>11.362809</td>\n",
              "      <td>13.888985</td>\n",
              "      <td>9.218414</td>\n",
              "      <td>-4.436515</td>\n",
              "      <td>-28.367721</td>\n",
              "      <td>0.465859</td>\n",
              "      <td>-0.037912</td>\n",
              "      <td>21.551571</td>\n",
              "      <td>0.355250</td>\n",
              "    </tr>\n",
              "    <tr>\n",
              "      <th>148</th>\n",
              "      <td>13.888985</td>\n",
              "      <td>1022.622445</td>\n",
              "      <td>94.451675</td>\n",
              "      <td>28.764884</td>\n",
              "      <td>1225.357154</td>\n",
              "      <td>55.742783</td>\n",
              "      <td>1.451278</td>\n",
              "      <td>98.618350</td>\n",
              "      <td>7.101300</td>\n",
              "    </tr>\n",
              "    <tr>\n",
              "      <th>72</th>\n",
              "      <td>9.218414</td>\n",
              "      <td>94.451675</td>\n",
              "      <td>375.125415</td>\n",
              "      <td>64.058260</td>\n",
              "      <td>198.939328</td>\n",
              "      <td>43.054755</td>\n",
              "      <td>0.264396</td>\n",
              "      <td>54.531221</td>\n",
              "      <td>0.599018</td>\n",
              "    </tr>\n",
              "    <tr>\n",
              "      <th>35</th>\n",
              "      <td>-4.436515</td>\n",
              "      <td>28.764884</td>\n",
              "      <td>64.058260</td>\n",
              "      <td>254.532001</td>\n",
              "      <td>805.536948</td>\n",
              "      <td>49.407935</td>\n",
              "      <td>0.970472</td>\n",
              "      <td>-21.725792</td>\n",
              "      <td>0.557181</td>\n",
              "    </tr>\n",
              "    <tr>\n",
              "      <th>0</th>\n",
              "      <td>-28.367721</td>\n",
              "      <td>1225.357154</td>\n",
              "      <td>198.939328</td>\n",
              "      <td>805.536948</td>\n",
              "      <td>13290.194335</td>\n",
              "      <td>180.177540</td>\n",
              "      <td>7.092087</td>\n",
              "      <td>-55.469702</td>\n",
              "      <td>7.252951</td>\n",
              "    </tr>\n",
              "    <tr>\n",
              "      <th>33.6</th>\n",
              "      <td>0.465859</td>\n",
              "      <td>55.742783</td>\n",
              "      <td>43.054755</td>\n",
              "      <td>49.407935</td>\n",
              "      <td>180.177540</td>\n",
              "      <td>62.237755</td>\n",
              "      <td>0.367558</td>\n",
              "      <td>3.329503</td>\n",
              "      <td>1.100707</td>\n",
              "    </tr>\n",
              "    <tr>\n",
              "      <th>0.627</th>\n",
              "      <td>-0.037912</td>\n",
              "      <td>1.451278</td>\n",
              "      <td>0.264396</td>\n",
              "      <td>0.970472</td>\n",
              "      <td>7.092087</td>\n",
              "      <td>0.367558</td>\n",
              "      <td>0.109890</td>\n",
              "      <td>0.127544</td>\n",
              "      <td>0.027376</td>\n",
              "    </tr>\n",
              "    <tr>\n",
              "      <th>50</th>\n",
              "      <td>21.551571</td>\n",
              "      <td>98.618350</td>\n",
              "      <td>54.531221</td>\n",
              "      <td>-21.725792</td>\n",
              "      <td>-55.469702</td>\n",
              "      <td>3.329503</td>\n",
              "      <td>0.127544</td>\n",
              "      <td>138.116452</td>\n",
              "      <td>1.324436</td>\n",
              "    </tr>\n",
              "    <tr>\n",
              "      <th>1</th>\n",
              "      <td>0.355250</td>\n",
              "      <td>7.101300</td>\n",
              "      <td>0.599018</td>\n",
              "      <td>0.557181</td>\n",
              "      <td>7.252951</td>\n",
              "      <td>1.100707</td>\n",
              "      <td>0.027376</td>\n",
              "      <td>1.324436</td>\n",
              "      <td>0.227226</td>\n",
              "    </tr>\n",
              "  </tbody>\n",
              "</table>\n",
              "</div>"
            ],
            "text/plain": [
              "               6          148          72  ...     0.627          50         1\n",
              "6      11.362809    13.888985    9.218414  ... -0.037912   21.551571  0.355250\n",
              "148    13.888985  1022.622445   94.451675  ...  1.451278   98.618350  7.101300\n",
              "72      9.218414    94.451675  375.125415  ...  0.264396   54.531221  0.599018\n",
              "35     -4.436515    28.764884   64.058260  ...  0.970472  -21.725792  0.557181\n",
              "0     -28.367721  1225.357154  198.939328  ...  7.092087  -55.469702  7.252951\n",
              "33.6    0.465859    55.742783   43.054755  ...  0.367558    3.329503  1.100707\n",
              "0.627  -0.037912     1.451278    0.264396  ...  0.109890    0.127544  0.027376\n",
              "50     21.551571    98.618350   54.531221  ...  0.127544  138.116452  1.324436\n",
              "1       0.355250     7.101300    0.599018  ...  0.027376    1.324436  0.227226\n",
              "\n",
              "[9 rows x 9 columns]"
            ]
          },
          "metadata": {},
          "execution_count": 61
        }
      ]
    },
    {
      "cell_type": "code",
      "metadata": {
        "colab": {
          "base_uri": "https://localhost:8080/",
          "height": 326
        },
        "id": "bidjlSMyjSnS",
        "outputId": "ee078b2b-665a-47d5-fdd5-63f7860efe4d"
      },
      "source": [
        "raw_data.corr()"
      ],
      "execution_count": null,
      "outputs": [
        {
          "output_type": "execute_result",
          "data": {
            "text/html": [
              "<div>\n",
              "<style scoped>\n",
              "    .dataframe tbody tr th:only-of-type {\n",
              "        vertical-align: middle;\n",
              "    }\n",
              "\n",
              "    .dataframe tbody tr th {\n",
              "        vertical-align: top;\n",
              "    }\n",
              "\n",
              "    .dataframe thead th {\n",
              "        text-align: right;\n",
              "    }\n",
              "</style>\n",
              "<table border=\"1\" class=\"dataframe\">\n",
              "  <thead>\n",
              "    <tr style=\"text-align: right;\">\n",
              "      <th></th>\n",
              "      <th>6</th>\n",
              "      <th>148</th>\n",
              "      <th>72</th>\n",
              "      <th>35</th>\n",
              "      <th>0</th>\n",
              "      <th>33.6</th>\n",
              "      <th>0.627</th>\n",
              "      <th>50</th>\n",
              "      <th>1</th>\n",
              "    </tr>\n",
              "  </thead>\n",
              "  <tbody>\n",
              "    <tr>\n",
              "      <th>6</th>\n",
              "      <td>1.000000</td>\n",
              "      <td>0.128846</td>\n",
              "      <td>0.141197</td>\n",
              "      <td>-0.082495</td>\n",
              "      <td>-0.072999</td>\n",
              "      <td>0.017518</td>\n",
              "      <td>-0.033927</td>\n",
              "      <td>0.544018</td>\n",
              "      <td>0.221087</td>\n",
              "    </tr>\n",
              "    <tr>\n",
              "      <th>148</th>\n",
              "      <td>0.128846</td>\n",
              "      <td>1.000000</td>\n",
              "      <td>0.152498</td>\n",
              "      <td>0.056381</td>\n",
              "      <td>0.332383</td>\n",
              "      <td>0.220955</td>\n",
              "      <td>0.136903</td>\n",
              "      <td>0.262408</td>\n",
              "      <td>0.465856</td>\n",
              "    </tr>\n",
              "    <tr>\n",
              "      <th>72</th>\n",
              "      <td>0.141197</td>\n",
              "      <td>0.152498</td>\n",
              "      <td>1.000000</td>\n",
              "      <td>0.207308</td>\n",
              "      <td>0.089098</td>\n",
              "      <td>0.281777</td>\n",
              "      <td>0.041180</td>\n",
              "      <td>0.239571</td>\n",
              "      <td>0.064882</td>\n",
              "    </tr>\n",
              "    <tr>\n",
              "      <th>35</th>\n",
              "      <td>-0.082495</td>\n",
              "      <td>0.056381</td>\n",
              "      <td>0.207308</td>\n",
              "      <td>1.000000</td>\n",
              "      <td>0.437974</td>\n",
              "      <td>0.392553</td>\n",
              "      <td>0.183498</td>\n",
              "      <td>-0.115873</td>\n",
              "      <td>0.073265</td>\n",
              "    </tr>\n",
              "    <tr>\n",
              "      <th>0</th>\n",
              "      <td>-0.072999</td>\n",
              "      <td>0.332383</td>\n",
              "      <td>0.089098</td>\n",
              "      <td>0.437974</td>\n",
              "      <td>1.000000</td>\n",
              "      <td>0.198111</td>\n",
              "      <td>0.185579</td>\n",
              "      <td>-0.040942</td>\n",
              "      <td>0.131984</td>\n",
              "    </tr>\n",
              "    <tr>\n",
              "      <th>33.6</th>\n",
              "      <td>0.017518</td>\n",
              "      <td>0.220955</td>\n",
              "      <td>0.281777</td>\n",
              "      <td>0.392553</td>\n",
              "      <td>0.198111</td>\n",
              "      <td>1.000000</td>\n",
              "      <td>0.140546</td>\n",
              "      <td>0.035911</td>\n",
              "      <td>0.292695</td>\n",
              "    </tr>\n",
              "    <tr>\n",
              "      <th>0.627</th>\n",
              "      <td>-0.033927</td>\n",
              "      <td>0.136903</td>\n",
              "      <td>0.041180</td>\n",
              "      <td>0.183498</td>\n",
              "      <td>0.185579</td>\n",
              "      <td>0.140546</td>\n",
              "      <td>1.000000</td>\n",
              "      <td>0.032738</td>\n",
              "      <td>0.173245</td>\n",
              "    </tr>\n",
              "    <tr>\n",
              "      <th>50</th>\n",
              "      <td>0.544018</td>\n",
              "      <td>0.262408</td>\n",
              "      <td>0.239571</td>\n",
              "      <td>-0.115873</td>\n",
              "      <td>-0.040942</td>\n",
              "      <td>0.035911</td>\n",
              "      <td>0.032738</td>\n",
              "      <td>1.000000</td>\n",
              "      <td>0.236417</td>\n",
              "    </tr>\n",
              "    <tr>\n",
              "      <th>1</th>\n",
              "      <td>0.221087</td>\n",
              "      <td>0.465856</td>\n",
              "      <td>0.064882</td>\n",
              "      <td>0.073265</td>\n",
              "      <td>0.131984</td>\n",
              "      <td>0.292695</td>\n",
              "      <td>0.173245</td>\n",
              "      <td>0.236417</td>\n",
              "      <td>1.000000</td>\n",
              "    </tr>\n",
              "  </tbody>\n",
              "</table>\n",
              "</div>"
            ],
            "text/plain": [
              "              6       148        72  ...     0.627        50         1\n",
              "6      1.000000  0.128846  0.141197  ... -0.033927  0.544018  0.221087\n",
              "148    0.128846  1.000000  0.152498  ...  0.136903  0.262408  0.465856\n",
              "72     0.141197  0.152498  1.000000  ...  0.041180  0.239571  0.064882\n",
              "35    -0.082495  0.056381  0.207308  ...  0.183498 -0.115873  0.073265\n",
              "0     -0.072999  0.332383  0.089098  ...  0.185579 -0.040942  0.131984\n",
              "33.6   0.017518  0.220955  0.281777  ...  0.140546  0.035911  0.292695\n",
              "0.627 -0.033927  0.136903  0.041180  ...  1.000000  0.032738  0.173245\n",
              "50     0.544018  0.262408  0.239571  ...  0.032738  1.000000  0.236417\n",
              "1      0.221087  0.465856  0.064882  ...  0.173245  0.236417  1.000000\n",
              "\n",
              "[9 rows x 9 columns]"
            ]
          },
          "metadata": {},
          "execution_count": 62
        }
      ]
    },
    {
      "cell_type": "code",
      "metadata": {
        "colab": {
          "base_uri": "https://localhost:8080/"
        },
        "id": "o0N-9l9KjtT3",
        "outputId": "d440d5f9-30ae-440e-8361-0b0bb2332559"
      },
      "source": [
        "from sklearn.datasets import load_iris\n",
        "import numpy as np\n",
        "iris=load_iris()\n",
        "iris"
      ],
      "execution_count": null,
      "outputs": [
        {
          "output_type": "execute_result",
          "data": {
            "text/plain": [
              "{'DESCR': '.. _iris_dataset:\\n\\nIris plants dataset\\n--------------------\\n\\n**Data Set Characteristics:**\\n\\n    :Number of Instances: 150 (50 in each of three classes)\\n    :Number of Attributes: 4 numeric, predictive attributes and the class\\n    :Attribute Information:\\n        - sepal length in cm\\n        - sepal width in cm\\n        - petal length in cm\\n        - petal width in cm\\n        - class:\\n                - Iris-Setosa\\n                - Iris-Versicolour\\n                - Iris-Virginica\\n                \\n    :Summary Statistics:\\n\\n    ============== ==== ==== ======= ===== ====================\\n                    Min  Max   Mean    SD   Class Correlation\\n    ============== ==== ==== ======= ===== ====================\\n    sepal length:   4.3  7.9   5.84   0.83    0.7826\\n    sepal width:    2.0  4.4   3.05   0.43   -0.4194\\n    petal length:   1.0  6.9   3.76   1.76    0.9490  (high!)\\n    petal width:    0.1  2.5   1.20   0.76    0.9565  (high!)\\n    ============== ==== ==== ======= ===== ====================\\n\\n    :Missing Attribute Values: None\\n    :Class Distribution: 33.3% for each of 3 classes.\\n    :Creator: R.A. Fisher\\n    :Donor: Michael Marshall (MARSHALL%PLU@io.arc.nasa.gov)\\n    :Date: July, 1988\\n\\nThe famous Iris database, first used by Sir R.A. Fisher. The dataset is taken\\nfrom Fisher\\'s paper. Note that it\\'s the same as in R, but not as in the UCI\\nMachine Learning Repository, which has two wrong data points.\\n\\nThis is perhaps the best known database to be found in the\\npattern recognition literature.  Fisher\\'s paper is a classic in the field and\\nis referenced frequently to this day.  (See Duda & Hart, for example.)  The\\ndata set contains 3 classes of 50 instances each, where each class refers to a\\ntype of iris plant.  One class is linearly separable from the other 2; the\\nlatter are NOT linearly separable from each other.\\n\\n.. topic:: References\\n\\n   - Fisher, R.A. \"The use of multiple measurements in taxonomic problems\"\\n     Annual Eugenics, 7, Part II, 179-188 (1936); also in \"Contributions to\\n     Mathematical Statistics\" (John Wiley, NY, 1950).\\n   - Duda, R.O., & Hart, P.E. (1973) Pattern Classification and Scene Analysis.\\n     (Q327.D83) John Wiley & Sons.  ISBN 0-471-22361-1.  See page 218.\\n   - Dasarathy, B.V. (1980) \"Nosing Around the Neighborhood: A New System\\n     Structure and Classification Rule for Recognition in Partially Exposed\\n     Environments\".  IEEE Transactions on Pattern Analysis and Machine\\n     Intelligence, Vol. PAMI-2, No. 1, 67-71.\\n   - Gates, G.W. (1972) \"The Reduced Nearest Neighbor Rule\".  IEEE Transactions\\n     on Information Theory, May 1972, 431-433.\\n   - See also: 1988 MLC Proceedings, 54-64.  Cheeseman et al\"s AUTOCLASS II\\n     conceptual clustering system finds 3 classes in the data.\\n   - Many, many more ...',\n",
              " 'data': array([[5.1, 3.5, 1.4, 0.2],\n",
              "        [4.9, 3. , 1.4, 0.2],\n",
              "        [4.7, 3.2, 1.3, 0.2],\n",
              "        [4.6, 3.1, 1.5, 0.2],\n",
              "        [5. , 3.6, 1.4, 0.2],\n",
              "        [5.4, 3.9, 1.7, 0.4],\n",
              "        [4.6, 3.4, 1.4, 0.3],\n",
              "        [5. , 3.4, 1.5, 0.2],\n",
              "        [4.4, 2.9, 1.4, 0.2],\n",
              "        [4.9, 3.1, 1.5, 0.1],\n",
              "        [5.4, 3.7, 1.5, 0.2],\n",
              "        [4.8, 3.4, 1.6, 0.2],\n",
              "        [4.8, 3. , 1.4, 0.1],\n",
              "        [4.3, 3. , 1.1, 0.1],\n",
              "        [5.8, 4. , 1.2, 0.2],\n",
              "        [5.7, 4.4, 1.5, 0.4],\n",
              "        [5.4, 3.9, 1.3, 0.4],\n",
              "        [5.1, 3.5, 1.4, 0.3],\n",
              "        [5.7, 3.8, 1.7, 0.3],\n",
              "        [5.1, 3.8, 1.5, 0.3],\n",
              "        [5.4, 3.4, 1.7, 0.2],\n",
              "        [5.1, 3.7, 1.5, 0.4],\n",
              "        [4.6, 3.6, 1. , 0.2],\n",
              "        [5.1, 3.3, 1.7, 0.5],\n",
              "        [4.8, 3.4, 1.9, 0.2],\n",
              "        [5. , 3. , 1.6, 0.2],\n",
              "        [5. , 3.4, 1.6, 0.4],\n",
              "        [5.2, 3.5, 1.5, 0.2],\n",
              "        [5.2, 3.4, 1.4, 0.2],\n",
              "        [4.7, 3.2, 1.6, 0.2],\n",
              "        [4.8, 3.1, 1.6, 0.2],\n",
              "        [5.4, 3.4, 1.5, 0.4],\n",
              "        [5.2, 4.1, 1.5, 0.1],\n",
              "        [5.5, 4.2, 1.4, 0.2],\n",
              "        [4.9, 3.1, 1.5, 0.2],\n",
              "        [5. , 3.2, 1.2, 0.2],\n",
              "        [5.5, 3.5, 1.3, 0.2],\n",
              "        [4.9, 3.6, 1.4, 0.1],\n",
              "        [4.4, 3. , 1.3, 0.2],\n",
              "        [5.1, 3.4, 1.5, 0.2],\n",
              "        [5. , 3.5, 1.3, 0.3],\n",
              "        [4.5, 2.3, 1.3, 0.3],\n",
              "        [4.4, 3.2, 1.3, 0.2],\n",
              "        [5. , 3.5, 1.6, 0.6],\n",
              "        [5.1, 3.8, 1.9, 0.4],\n",
              "        [4.8, 3. , 1.4, 0.3],\n",
              "        [5.1, 3.8, 1.6, 0.2],\n",
              "        [4.6, 3.2, 1.4, 0.2],\n",
              "        [5.3, 3.7, 1.5, 0.2],\n",
              "        [5. , 3.3, 1.4, 0.2],\n",
              "        [7. , 3.2, 4.7, 1.4],\n",
              "        [6.4, 3.2, 4.5, 1.5],\n",
              "        [6.9, 3.1, 4.9, 1.5],\n",
              "        [5.5, 2.3, 4. , 1.3],\n",
              "        [6.5, 2.8, 4.6, 1.5],\n",
              "        [5.7, 2.8, 4.5, 1.3],\n",
              "        [6.3, 3.3, 4.7, 1.6],\n",
              "        [4.9, 2.4, 3.3, 1. ],\n",
              "        [6.6, 2.9, 4.6, 1.3],\n",
              "        [5.2, 2.7, 3.9, 1.4],\n",
              "        [5. , 2. , 3.5, 1. ],\n",
              "        [5.9, 3. , 4.2, 1.5],\n",
              "        [6. , 2.2, 4. , 1. ],\n",
              "        [6.1, 2.9, 4.7, 1.4],\n",
              "        [5.6, 2.9, 3.6, 1.3],\n",
              "        [6.7, 3.1, 4.4, 1.4],\n",
              "        [5.6, 3. , 4.5, 1.5],\n",
              "        [5.8, 2.7, 4.1, 1. ],\n",
              "        [6.2, 2.2, 4.5, 1.5],\n",
              "        [5.6, 2.5, 3.9, 1.1],\n",
              "        [5.9, 3.2, 4.8, 1.8],\n",
              "        [6.1, 2.8, 4. , 1.3],\n",
              "        [6.3, 2.5, 4.9, 1.5],\n",
              "        [6.1, 2.8, 4.7, 1.2],\n",
              "        [6.4, 2.9, 4.3, 1.3],\n",
              "        [6.6, 3. , 4.4, 1.4],\n",
              "        [6.8, 2.8, 4.8, 1.4],\n",
              "        [6.7, 3. , 5. , 1.7],\n",
              "        [6. , 2.9, 4.5, 1.5],\n",
              "        [5.7, 2.6, 3.5, 1. ],\n",
              "        [5.5, 2.4, 3.8, 1.1],\n",
              "        [5.5, 2.4, 3.7, 1. ],\n",
              "        [5.8, 2.7, 3.9, 1.2],\n",
              "        [6. , 2.7, 5.1, 1.6],\n",
              "        [5.4, 3. , 4.5, 1.5],\n",
              "        [6. , 3.4, 4.5, 1.6],\n",
              "        [6.7, 3.1, 4.7, 1.5],\n",
              "        [6.3, 2.3, 4.4, 1.3],\n",
              "        [5.6, 3. , 4.1, 1.3],\n",
              "        [5.5, 2.5, 4. , 1.3],\n",
              "        [5.5, 2.6, 4.4, 1.2],\n",
              "        [6.1, 3. , 4.6, 1.4],\n",
              "        [5.8, 2.6, 4. , 1.2],\n",
              "        [5. , 2.3, 3.3, 1. ],\n",
              "        [5.6, 2.7, 4.2, 1.3],\n",
              "        [5.7, 3. , 4.2, 1.2],\n",
              "        [5.7, 2.9, 4.2, 1.3],\n",
              "        [6.2, 2.9, 4.3, 1.3],\n",
              "        [5.1, 2.5, 3. , 1.1],\n",
              "        [5.7, 2.8, 4.1, 1.3],\n",
              "        [6.3, 3.3, 6. , 2.5],\n",
              "        [5.8, 2.7, 5.1, 1.9],\n",
              "        [7.1, 3. , 5.9, 2.1],\n",
              "        [6.3, 2.9, 5.6, 1.8],\n",
              "        [6.5, 3. , 5.8, 2.2],\n",
              "        [7.6, 3. , 6.6, 2.1],\n",
              "        [4.9, 2.5, 4.5, 1.7],\n",
              "        [7.3, 2.9, 6.3, 1.8],\n",
              "        [6.7, 2.5, 5.8, 1.8],\n",
              "        [7.2, 3.6, 6.1, 2.5],\n",
              "        [6.5, 3.2, 5.1, 2. ],\n",
              "        [6.4, 2.7, 5.3, 1.9],\n",
              "        [6.8, 3. , 5.5, 2.1],\n",
              "        [5.7, 2.5, 5. , 2. ],\n",
              "        [5.8, 2.8, 5.1, 2.4],\n",
              "        [6.4, 3.2, 5.3, 2.3],\n",
              "        [6.5, 3. , 5.5, 1.8],\n",
              "        [7.7, 3.8, 6.7, 2.2],\n",
              "        [7.7, 2.6, 6.9, 2.3],\n",
              "        [6. , 2.2, 5. , 1.5],\n",
              "        [6.9, 3.2, 5.7, 2.3],\n",
              "        [5.6, 2.8, 4.9, 2. ],\n",
              "        [7.7, 2.8, 6.7, 2. ],\n",
              "        [6.3, 2.7, 4.9, 1.8],\n",
              "        [6.7, 3.3, 5.7, 2.1],\n",
              "        [7.2, 3.2, 6. , 1.8],\n",
              "        [6.2, 2.8, 4.8, 1.8],\n",
              "        [6.1, 3. , 4.9, 1.8],\n",
              "        [6.4, 2.8, 5.6, 2.1],\n",
              "        [7.2, 3. , 5.8, 1.6],\n",
              "        [7.4, 2.8, 6.1, 1.9],\n",
              "        [7.9, 3.8, 6.4, 2. ],\n",
              "        [6.4, 2.8, 5.6, 2.2],\n",
              "        [6.3, 2.8, 5.1, 1.5],\n",
              "        [6.1, 2.6, 5.6, 1.4],\n",
              "        [7.7, 3. , 6.1, 2.3],\n",
              "        [6.3, 3.4, 5.6, 2.4],\n",
              "        [6.4, 3.1, 5.5, 1.8],\n",
              "        [6. , 3. , 4.8, 1.8],\n",
              "        [6.9, 3.1, 5.4, 2.1],\n",
              "        [6.7, 3.1, 5.6, 2.4],\n",
              "        [6.9, 3.1, 5.1, 2.3],\n",
              "        [5.8, 2.7, 5.1, 1.9],\n",
              "        [6.8, 3.2, 5.9, 2.3],\n",
              "        [6.7, 3.3, 5.7, 2.5],\n",
              "        [6.7, 3. , 5.2, 2.3],\n",
              "        [6.3, 2.5, 5. , 1.9],\n",
              "        [6.5, 3. , 5.2, 2. ],\n",
              "        [6.2, 3.4, 5.4, 2.3],\n",
              "        [5.9, 3. , 5.1, 1.8]]),\n",
              " 'feature_names': ['sepal length (cm)',\n",
              "  'sepal width (cm)',\n",
              "  'petal length (cm)',\n",
              "  'petal width (cm)'],\n",
              " 'filename': '/usr/local/lib/python3.7/dist-packages/sklearn/datasets/data/iris.csv',\n",
              " 'target': array([0, 0, 0, 0, 0, 0, 0, 0, 0, 0, 0, 0, 0, 0, 0, 0, 0, 0, 0, 0, 0, 0,\n",
              "        0, 0, 0, 0, 0, 0, 0, 0, 0, 0, 0, 0, 0, 0, 0, 0, 0, 0, 0, 0, 0, 0,\n",
              "        0, 0, 0, 0, 0, 0, 1, 1, 1, 1, 1, 1, 1, 1, 1, 1, 1, 1, 1, 1, 1, 1,\n",
              "        1, 1, 1, 1, 1, 1, 1, 1, 1, 1, 1, 1, 1, 1, 1, 1, 1, 1, 1, 1, 1, 1,\n",
              "        1, 1, 1, 1, 1, 1, 1, 1, 1, 1, 1, 1, 2, 2, 2, 2, 2, 2, 2, 2, 2, 2,\n",
              "        2, 2, 2, 2, 2, 2, 2, 2, 2, 2, 2, 2, 2, 2, 2, 2, 2, 2, 2, 2, 2, 2,\n",
              "        2, 2, 2, 2, 2, 2, 2, 2, 2, 2, 2, 2, 2, 2, 2, 2, 2, 2]),\n",
              " 'target_names': array(['setosa', 'versicolor', 'virginica'], dtype='<U10')}"
            ]
          },
          "metadata": {},
          "execution_count": 63
        }
      ]
    },
    {
      "cell_type": "code",
      "metadata": {
        "colab": {
          "base_uri": "https://localhost:8080/",
          "height": 417
        },
        "id": "jFmVn_lgkWwU",
        "outputId": "4badffa5-ab85-443d-eecb-8b2eea125cb4"
      },
      "source": [
        "X=pd.DataFrame(iris.data)\n",
        "X"
      ],
      "execution_count": null,
      "outputs": [
        {
          "output_type": "execute_result",
          "data": {
            "text/html": [
              "<div>\n",
              "<style scoped>\n",
              "    .dataframe tbody tr th:only-of-type {\n",
              "        vertical-align: middle;\n",
              "    }\n",
              "\n",
              "    .dataframe tbody tr th {\n",
              "        vertical-align: top;\n",
              "    }\n",
              "\n",
              "    .dataframe thead th {\n",
              "        text-align: right;\n",
              "    }\n",
              "</style>\n",
              "<table border=\"1\" class=\"dataframe\">\n",
              "  <thead>\n",
              "    <tr style=\"text-align: right;\">\n",
              "      <th></th>\n",
              "      <th>0</th>\n",
              "      <th>1</th>\n",
              "      <th>2</th>\n",
              "      <th>3</th>\n",
              "    </tr>\n",
              "  </thead>\n",
              "  <tbody>\n",
              "    <tr>\n",
              "      <th>0</th>\n",
              "      <td>5.1</td>\n",
              "      <td>3.5</td>\n",
              "      <td>1.4</td>\n",
              "      <td>0.2</td>\n",
              "    </tr>\n",
              "    <tr>\n",
              "      <th>1</th>\n",
              "      <td>4.9</td>\n",
              "      <td>3.0</td>\n",
              "      <td>1.4</td>\n",
              "      <td>0.2</td>\n",
              "    </tr>\n",
              "    <tr>\n",
              "      <th>2</th>\n",
              "      <td>4.7</td>\n",
              "      <td>3.2</td>\n",
              "      <td>1.3</td>\n",
              "      <td>0.2</td>\n",
              "    </tr>\n",
              "    <tr>\n",
              "      <th>3</th>\n",
              "      <td>4.6</td>\n",
              "      <td>3.1</td>\n",
              "      <td>1.5</td>\n",
              "      <td>0.2</td>\n",
              "    </tr>\n",
              "    <tr>\n",
              "      <th>4</th>\n",
              "      <td>5.0</td>\n",
              "      <td>3.6</td>\n",
              "      <td>1.4</td>\n",
              "      <td>0.2</td>\n",
              "    </tr>\n",
              "    <tr>\n",
              "      <th>...</th>\n",
              "      <td>...</td>\n",
              "      <td>...</td>\n",
              "      <td>...</td>\n",
              "      <td>...</td>\n",
              "    </tr>\n",
              "    <tr>\n",
              "      <th>145</th>\n",
              "      <td>6.7</td>\n",
              "      <td>3.0</td>\n",
              "      <td>5.2</td>\n",
              "      <td>2.3</td>\n",
              "    </tr>\n",
              "    <tr>\n",
              "      <th>146</th>\n",
              "      <td>6.3</td>\n",
              "      <td>2.5</td>\n",
              "      <td>5.0</td>\n",
              "      <td>1.9</td>\n",
              "    </tr>\n",
              "    <tr>\n",
              "      <th>147</th>\n",
              "      <td>6.5</td>\n",
              "      <td>3.0</td>\n",
              "      <td>5.2</td>\n",
              "      <td>2.0</td>\n",
              "    </tr>\n",
              "    <tr>\n",
              "      <th>148</th>\n",
              "      <td>6.2</td>\n",
              "      <td>3.4</td>\n",
              "      <td>5.4</td>\n",
              "      <td>2.3</td>\n",
              "    </tr>\n",
              "    <tr>\n",
              "      <th>149</th>\n",
              "      <td>5.9</td>\n",
              "      <td>3.0</td>\n",
              "      <td>5.1</td>\n",
              "      <td>1.8</td>\n",
              "    </tr>\n",
              "  </tbody>\n",
              "</table>\n",
              "<p>150 rows × 4 columns</p>\n",
              "</div>"
            ],
            "text/plain": [
              "       0    1    2    3\n",
              "0    5.1  3.5  1.4  0.2\n",
              "1    4.9  3.0  1.4  0.2\n",
              "2    4.7  3.2  1.3  0.2\n",
              "3    4.6  3.1  1.5  0.2\n",
              "4    5.0  3.6  1.4  0.2\n",
              "..   ...  ...  ...  ...\n",
              "145  6.7  3.0  5.2  2.3\n",
              "146  6.3  2.5  5.0  1.9\n",
              "147  6.5  3.0  5.2  2.0\n",
              "148  6.2  3.4  5.4  2.3\n",
              "149  5.9  3.0  5.1  1.8\n",
              "\n",
              "[150 rows x 4 columns]"
            ]
          },
          "metadata": {},
          "execution_count": 64
        }
      ]
    },
    {
      "cell_type": "code",
      "metadata": {
        "colab": {
          "base_uri": "https://localhost:8080/",
          "height": 203
        },
        "id": "uVz_GFq1kyxp",
        "outputId": "e16057b8-ebb0-490e-f77f-2b4b87c11cfb"
      },
      "source": [
        "X.shape\n",
        "(150,4)\n",
        "X.columns=['Sepal_length','Sepal_width','petal_length','petal_width']\n",
        "X.head()"
      ],
      "execution_count": null,
      "outputs": [
        {
          "output_type": "execute_result",
          "data": {
            "text/html": [
              "<div>\n",
              "<style scoped>\n",
              "    .dataframe tbody tr th:only-of-type {\n",
              "        vertical-align: middle;\n",
              "    }\n",
              "\n",
              "    .dataframe tbody tr th {\n",
              "        vertical-align: top;\n",
              "    }\n",
              "\n",
              "    .dataframe thead th {\n",
              "        text-align: right;\n",
              "    }\n",
              "</style>\n",
              "<table border=\"1\" class=\"dataframe\">\n",
              "  <thead>\n",
              "    <tr style=\"text-align: right;\">\n",
              "      <th></th>\n",
              "      <th>Sepal_length</th>\n",
              "      <th>Sepal_width</th>\n",
              "      <th>petal_length</th>\n",
              "      <th>petal_width</th>\n",
              "    </tr>\n",
              "  </thead>\n",
              "  <tbody>\n",
              "    <tr>\n",
              "      <th>0</th>\n",
              "      <td>5.1</td>\n",
              "      <td>3.5</td>\n",
              "      <td>1.4</td>\n",
              "      <td>0.2</td>\n",
              "    </tr>\n",
              "    <tr>\n",
              "      <th>1</th>\n",
              "      <td>4.9</td>\n",
              "      <td>3.0</td>\n",
              "      <td>1.4</td>\n",
              "      <td>0.2</td>\n",
              "    </tr>\n",
              "    <tr>\n",
              "      <th>2</th>\n",
              "      <td>4.7</td>\n",
              "      <td>3.2</td>\n",
              "      <td>1.3</td>\n",
              "      <td>0.2</td>\n",
              "    </tr>\n",
              "    <tr>\n",
              "      <th>3</th>\n",
              "      <td>4.6</td>\n",
              "      <td>3.1</td>\n",
              "      <td>1.5</td>\n",
              "      <td>0.2</td>\n",
              "    </tr>\n",
              "    <tr>\n",
              "      <th>4</th>\n",
              "      <td>5.0</td>\n",
              "      <td>3.6</td>\n",
              "      <td>1.4</td>\n",
              "      <td>0.2</td>\n",
              "    </tr>\n",
              "  </tbody>\n",
              "</table>\n",
              "</div>"
            ],
            "text/plain": [
              "   Sepal_length  Sepal_width  petal_length  petal_width\n",
              "0           5.1          3.5           1.4          0.2\n",
              "1           4.9          3.0           1.4          0.2\n",
              "2           4.7          3.2           1.3          0.2\n",
              "3           4.6          3.1           1.5          0.2\n",
              "4           5.0          3.6           1.4          0.2"
            ]
          },
          "metadata": {},
          "execution_count": 65
        }
      ]
    },
    {
      "cell_type": "code",
      "metadata": {
        "colab": {
          "base_uri": "https://localhost:8080/",
          "height": 203
        },
        "id": "9iTcrtR6lc-J",
        "outputId": "78dbc0f9-571a-4af5-ce72-cce20e3182d4"
      },
      "source": [
        "X.tail()"
      ],
      "execution_count": null,
      "outputs": [
        {
          "output_type": "execute_result",
          "data": {
            "text/html": [
              "<div>\n",
              "<style scoped>\n",
              "    .dataframe tbody tr th:only-of-type {\n",
              "        vertical-align: middle;\n",
              "    }\n",
              "\n",
              "    .dataframe tbody tr th {\n",
              "        vertical-align: top;\n",
              "    }\n",
              "\n",
              "    .dataframe thead th {\n",
              "        text-align: right;\n",
              "    }\n",
              "</style>\n",
              "<table border=\"1\" class=\"dataframe\">\n",
              "  <thead>\n",
              "    <tr style=\"text-align: right;\">\n",
              "      <th></th>\n",
              "      <th>Sepal_length</th>\n",
              "      <th>Sepal_width</th>\n",
              "      <th>petal_length</th>\n",
              "      <th>petal_width</th>\n",
              "    </tr>\n",
              "  </thead>\n",
              "  <tbody>\n",
              "    <tr>\n",
              "      <th>145</th>\n",
              "      <td>6.7</td>\n",
              "      <td>3.0</td>\n",
              "      <td>5.2</td>\n",
              "      <td>2.3</td>\n",
              "    </tr>\n",
              "    <tr>\n",
              "      <th>146</th>\n",
              "      <td>6.3</td>\n",
              "      <td>2.5</td>\n",
              "      <td>5.0</td>\n",
              "      <td>1.9</td>\n",
              "    </tr>\n",
              "    <tr>\n",
              "      <th>147</th>\n",
              "      <td>6.5</td>\n",
              "      <td>3.0</td>\n",
              "      <td>5.2</td>\n",
              "      <td>2.0</td>\n",
              "    </tr>\n",
              "    <tr>\n",
              "      <th>148</th>\n",
              "      <td>6.2</td>\n",
              "      <td>3.4</td>\n",
              "      <td>5.4</td>\n",
              "      <td>2.3</td>\n",
              "    </tr>\n",
              "    <tr>\n",
              "      <th>149</th>\n",
              "      <td>5.9</td>\n",
              "      <td>3.0</td>\n",
              "      <td>5.1</td>\n",
              "      <td>1.8</td>\n",
              "    </tr>\n",
              "  </tbody>\n",
              "</table>\n",
              "</div>"
            ],
            "text/plain": [
              "     Sepal_length  Sepal_width  petal_length  petal_width\n",
              "145           6.7          3.0           5.2          2.3\n",
              "146           6.3          2.5           5.0          1.9\n",
              "147           6.5          3.0           5.2          2.0\n",
              "148           6.2          3.4           5.4          2.3\n",
              "149           5.9          3.0           5.1          1.8"
            ]
          },
          "metadata": {},
          "execution_count": 66
        }
      ]
    },
    {
      "cell_type": "code",
      "metadata": {
        "colab": {
          "base_uri": "https://localhost:8080/",
          "height": 295
        },
        "id": "XSuAcp56lga0",
        "outputId": "85248291-05cf-4e10-ec10-5131f1346685"
      },
      "source": [
        "X.describe()"
      ],
      "execution_count": null,
      "outputs": [
        {
          "output_type": "execute_result",
          "data": {
            "text/html": [
              "<div>\n",
              "<style scoped>\n",
              "    .dataframe tbody tr th:only-of-type {\n",
              "        vertical-align: middle;\n",
              "    }\n",
              "\n",
              "    .dataframe tbody tr th {\n",
              "        vertical-align: top;\n",
              "    }\n",
              "\n",
              "    .dataframe thead th {\n",
              "        text-align: right;\n",
              "    }\n",
              "</style>\n",
              "<table border=\"1\" class=\"dataframe\">\n",
              "  <thead>\n",
              "    <tr style=\"text-align: right;\">\n",
              "      <th></th>\n",
              "      <th>Sepal_length</th>\n",
              "      <th>Sepal_width</th>\n",
              "      <th>petal_length</th>\n",
              "      <th>petal_width</th>\n",
              "    </tr>\n",
              "  </thead>\n",
              "  <tbody>\n",
              "    <tr>\n",
              "      <th>count</th>\n",
              "      <td>150.000000</td>\n",
              "      <td>150.000000</td>\n",
              "      <td>150.000000</td>\n",
              "      <td>150.000000</td>\n",
              "    </tr>\n",
              "    <tr>\n",
              "      <th>mean</th>\n",
              "      <td>5.843333</td>\n",
              "      <td>3.057333</td>\n",
              "      <td>3.758000</td>\n",
              "      <td>1.199333</td>\n",
              "    </tr>\n",
              "    <tr>\n",
              "      <th>std</th>\n",
              "      <td>0.828066</td>\n",
              "      <td>0.435866</td>\n",
              "      <td>1.765298</td>\n",
              "      <td>0.762238</td>\n",
              "    </tr>\n",
              "    <tr>\n",
              "      <th>min</th>\n",
              "      <td>4.300000</td>\n",
              "      <td>2.000000</td>\n",
              "      <td>1.000000</td>\n",
              "      <td>0.100000</td>\n",
              "    </tr>\n",
              "    <tr>\n",
              "      <th>25%</th>\n",
              "      <td>5.100000</td>\n",
              "      <td>2.800000</td>\n",
              "      <td>1.600000</td>\n",
              "      <td>0.300000</td>\n",
              "    </tr>\n",
              "    <tr>\n",
              "      <th>50%</th>\n",
              "      <td>5.800000</td>\n",
              "      <td>3.000000</td>\n",
              "      <td>4.350000</td>\n",
              "      <td>1.300000</td>\n",
              "    </tr>\n",
              "    <tr>\n",
              "      <th>75%</th>\n",
              "      <td>6.400000</td>\n",
              "      <td>3.300000</td>\n",
              "      <td>5.100000</td>\n",
              "      <td>1.800000</td>\n",
              "    </tr>\n",
              "    <tr>\n",
              "      <th>max</th>\n",
              "      <td>7.900000</td>\n",
              "      <td>4.400000</td>\n",
              "      <td>6.900000</td>\n",
              "      <td>2.500000</td>\n",
              "    </tr>\n",
              "  </tbody>\n",
              "</table>\n",
              "</div>"
            ],
            "text/plain": [
              "       Sepal_length  Sepal_width  petal_length  petal_width\n",
              "count    150.000000   150.000000    150.000000   150.000000\n",
              "mean       5.843333     3.057333      3.758000     1.199333\n",
              "std        0.828066     0.435866      1.765298     0.762238\n",
              "min        4.300000     2.000000      1.000000     0.100000\n",
              "25%        5.100000     2.800000      1.600000     0.300000\n",
              "50%        5.800000     3.000000      4.350000     1.300000\n",
              "75%        6.400000     3.300000      5.100000     1.800000\n",
              "max        7.900000     4.400000      6.900000     2.500000"
            ]
          },
          "metadata": {},
          "execution_count": 67
        }
      ]
    },
    {
      "cell_type": "code",
      "metadata": {
        "colab": {
          "base_uri": "https://localhost:8080/",
          "height": 172
        },
        "id": "vaiV5TKDltx8",
        "outputId": "2c972eda-0dfa-42d0-ec14-106992a7341f"
      },
      "source": [
        "X.cov()"
      ],
      "execution_count": null,
      "outputs": [
        {
          "output_type": "execute_result",
          "data": {
            "text/html": [
              "<div>\n",
              "<style scoped>\n",
              "    .dataframe tbody tr th:only-of-type {\n",
              "        vertical-align: middle;\n",
              "    }\n",
              "\n",
              "    .dataframe tbody tr th {\n",
              "        vertical-align: top;\n",
              "    }\n",
              "\n",
              "    .dataframe thead th {\n",
              "        text-align: right;\n",
              "    }\n",
              "</style>\n",
              "<table border=\"1\" class=\"dataframe\">\n",
              "  <thead>\n",
              "    <tr style=\"text-align: right;\">\n",
              "      <th></th>\n",
              "      <th>Sepal_length</th>\n",
              "      <th>Sepal_width</th>\n",
              "      <th>petal_length</th>\n",
              "      <th>petal_width</th>\n",
              "    </tr>\n",
              "  </thead>\n",
              "  <tbody>\n",
              "    <tr>\n",
              "      <th>Sepal_length</th>\n",
              "      <td>0.685694</td>\n",
              "      <td>-0.042434</td>\n",
              "      <td>1.274315</td>\n",
              "      <td>0.516271</td>\n",
              "    </tr>\n",
              "    <tr>\n",
              "      <th>Sepal_width</th>\n",
              "      <td>-0.042434</td>\n",
              "      <td>0.189979</td>\n",
              "      <td>-0.329656</td>\n",
              "      <td>-0.121639</td>\n",
              "    </tr>\n",
              "    <tr>\n",
              "      <th>petal_length</th>\n",
              "      <td>1.274315</td>\n",
              "      <td>-0.329656</td>\n",
              "      <td>3.116278</td>\n",
              "      <td>1.295609</td>\n",
              "    </tr>\n",
              "    <tr>\n",
              "      <th>petal_width</th>\n",
              "      <td>0.516271</td>\n",
              "      <td>-0.121639</td>\n",
              "      <td>1.295609</td>\n",
              "      <td>0.581006</td>\n",
              "    </tr>\n",
              "  </tbody>\n",
              "</table>\n",
              "</div>"
            ],
            "text/plain": [
              "              Sepal_length  Sepal_width  petal_length  petal_width\n",
              "Sepal_length      0.685694    -0.042434      1.274315     0.516271\n",
              "Sepal_width      -0.042434     0.189979     -0.329656    -0.121639\n",
              "petal_length      1.274315    -0.329656      3.116278     1.295609\n",
              "petal_width       0.516271    -0.121639      1.295609     0.581006"
            ]
          },
          "metadata": {},
          "execution_count": 68
        }
      ]
    },
    {
      "cell_type": "code",
      "metadata": {
        "colab": {
          "base_uri": "https://localhost:8080/",
          "height": 172
        },
        "id": "OFavAnFWl2ex",
        "outputId": "6e409220-decc-46aa-a899-2ed3944dcbd1"
      },
      "source": [
        "X.corr()"
      ],
      "execution_count": null,
      "outputs": [
        {
          "output_type": "execute_result",
          "data": {
            "text/html": [
              "<div>\n",
              "<style scoped>\n",
              "    .dataframe tbody tr th:only-of-type {\n",
              "        vertical-align: middle;\n",
              "    }\n",
              "\n",
              "    .dataframe tbody tr th {\n",
              "        vertical-align: top;\n",
              "    }\n",
              "\n",
              "    .dataframe thead th {\n",
              "        text-align: right;\n",
              "    }\n",
              "</style>\n",
              "<table border=\"1\" class=\"dataframe\">\n",
              "  <thead>\n",
              "    <tr style=\"text-align: right;\">\n",
              "      <th></th>\n",
              "      <th>Sepal_length</th>\n",
              "      <th>Sepal_width</th>\n",
              "      <th>petal_length</th>\n",
              "      <th>petal_width</th>\n",
              "    </tr>\n",
              "  </thead>\n",
              "  <tbody>\n",
              "    <tr>\n",
              "      <th>Sepal_length</th>\n",
              "      <td>1.000000</td>\n",
              "      <td>-0.117570</td>\n",
              "      <td>0.871754</td>\n",
              "      <td>0.817941</td>\n",
              "    </tr>\n",
              "    <tr>\n",
              "      <th>Sepal_width</th>\n",
              "      <td>-0.117570</td>\n",
              "      <td>1.000000</td>\n",
              "      <td>-0.428440</td>\n",
              "      <td>-0.366126</td>\n",
              "    </tr>\n",
              "    <tr>\n",
              "      <th>petal_length</th>\n",
              "      <td>0.871754</td>\n",
              "      <td>-0.428440</td>\n",
              "      <td>1.000000</td>\n",
              "      <td>0.962865</td>\n",
              "    </tr>\n",
              "    <tr>\n",
              "      <th>petal_width</th>\n",
              "      <td>0.817941</td>\n",
              "      <td>-0.366126</td>\n",
              "      <td>0.962865</td>\n",
              "      <td>1.000000</td>\n",
              "    </tr>\n",
              "  </tbody>\n",
              "</table>\n",
              "</div>"
            ],
            "text/plain": [
              "              Sepal_length  Sepal_width  petal_length  petal_width\n",
              "Sepal_length      1.000000    -0.117570      0.871754     0.817941\n",
              "Sepal_width      -0.117570     1.000000     -0.428440    -0.366126\n",
              "petal_length      0.871754    -0.428440      1.000000     0.962865\n",
              "petal_width       0.817941    -0.366126      0.962865     1.000000"
            ]
          },
          "metadata": {},
          "execution_count": 69
        }
      ]
    },
    {
      "cell_type": "code",
      "metadata": {
        "colab": {
          "base_uri": "https://localhost:8080/"
        },
        "id": "NBOfcSsrmCRW",
        "outputId": "2d74b265-c225-4c0f-b896-1db96156768d"
      },
      "source": [
        "import numpy as np\n",
        "df=pd.DataFrame({'Name':['Pooji','Nani','Chinni','Chikki'],'state':['IND','USA','UK','USSR'],'Grade':['A','A','B','C'],'Age':np.random.uniform(24,35,size=4),'salary':np.random.uniform(3000,5000,size=4),})\n",
        "print(df)"
      ],
      "execution_count": null,
      "outputs": [
        {
          "output_type": "stream",
          "name": "stdout",
          "text": [
            "     Name state Grade        Age       salary\n",
            "0   Pooji   IND     A  29.690768  4360.986078\n",
            "1    Nani   USA     A  31.251677  3766.376280\n",
            "2  Chinni    UK     B  28.744267  4912.461915\n",
            "3  Chikki  USSR     C  28.928593  3449.045907\n"
          ]
        }
      ]
    },
    {
      "cell_type": "code",
      "metadata": {
        "colab": {
          "base_uri": "https://localhost:8080/",
          "height": 203
        },
        "id": "DA4t50OALR5X",
        "outputId": "01ba8d36-9df2-4294-8df6-e779cdee2555"
      },
      "source": [
        "import numpy as np\n",
        "import pandas as pd\n",
        "df=pd.DataFrame({'Name':['Pooji','Nani','Chinni','Chikki'],'state':['IND','USA','UK','USSR'],'Grade':['A','A','B','C'],'Age':np.random.uniform(24,35,size=4),'salary':np.random.uniform(3000,5000,size=4),})\n",
        "df.groupby(['Name','state']).max()"
      ],
      "execution_count": null,
      "outputs": [
        {
          "output_type": "execute_result",
          "data": {
            "text/html": [
              "<div>\n",
              "<style scoped>\n",
              "    .dataframe tbody tr th:only-of-type {\n",
              "        vertical-align: middle;\n",
              "    }\n",
              "\n",
              "    .dataframe tbody tr th {\n",
              "        vertical-align: top;\n",
              "    }\n",
              "\n",
              "    .dataframe thead th {\n",
              "        text-align: right;\n",
              "    }\n",
              "</style>\n",
              "<table border=\"1\" class=\"dataframe\">\n",
              "  <thead>\n",
              "    <tr style=\"text-align: right;\">\n",
              "      <th></th>\n",
              "      <th></th>\n",
              "      <th>Grade</th>\n",
              "      <th>Age</th>\n",
              "      <th>salary</th>\n",
              "    </tr>\n",
              "    <tr>\n",
              "      <th>Name</th>\n",
              "      <th>state</th>\n",
              "      <th></th>\n",
              "      <th></th>\n",
              "      <th></th>\n",
              "    </tr>\n",
              "  </thead>\n",
              "  <tbody>\n",
              "    <tr>\n",
              "      <th>Chikki</th>\n",
              "      <th>USSR</th>\n",
              "      <td>C</td>\n",
              "      <td>31.160985</td>\n",
              "      <td>3771.807293</td>\n",
              "    </tr>\n",
              "    <tr>\n",
              "      <th>Chinni</th>\n",
              "      <th>UK</th>\n",
              "      <td>B</td>\n",
              "      <td>30.522561</td>\n",
              "      <td>3847.547918</td>\n",
              "    </tr>\n",
              "    <tr>\n",
              "      <th>Nani</th>\n",
              "      <th>USA</th>\n",
              "      <td>A</td>\n",
              "      <td>31.291234</td>\n",
              "      <td>4606.905522</td>\n",
              "    </tr>\n",
              "    <tr>\n",
              "      <th>Pooji</th>\n",
              "      <th>IND</th>\n",
              "      <td>A</td>\n",
              "      <td>33.381841</td>\n",
              "      <td>3827.236851</td>\n",
              "    </tr>\n",
              "  </tbody>\n",
              "</table>\n",
              "</div>"
            ],
            "text/plain": [
              "             Grade        Age       salary\n",
              "Name   state                              \n",
              "Chikki USSR      C  31.160985  3771.807293\n",
              "Chinni UK        B  30.522561  3847.547918\n",
              "Nani   USA       A  31.291234  4606.905522\n",
              "Pooji  IND       A  33.381841  3827.236851"
            ]
          },
          "metadata": {},
          "execution_count": 71
        }
      ]
    },
    {
      "cell_type": "markdown",
      "metadata": {
        "id": "qiZ1laGtM_IJ"
      },
      "source": [
        "# **Scipy**"
      ]
    },
    {
      "cell_type": "code",
      "metadata": {
        "colab": {
          "base_uri": "https://localhost:8080/"
        },
        "id": "EPF3kTwkNFU0",
        "outputId": "2c6dcdd4-4c03-4ced-b9a1-23adc9f41867"
      },
      "source": [
        "import numpy as np\n",
        "np.linspace(1.,4.,6)"
      ],
      "execution_count": null,
      "outputs": [
        {
          "output_type": "execute_result",
          "data": {
            "text/plain": [
              "array([1. , 1.6, 2.2, 2.8, 3.4, 4. ])"
            ]
          },
          "metadata": {},
          "execution_count": 72
        }
      ]
    },
    {
      "cell_type": "code",
      "metadata": {
        "colab": {
          "base_uri": "https://localhost:8080/"
        },
        "id": "oSi5WqP-NnaS",
        "outputId": "f154d5f7-15e8-4ebb-f2b4-55a46f020af5"
      },
      "source": [
        "from scipy.cluster.vq import kmeans,vq,whiten\n",
        "from numpy import vstack,array\n",
        "from numpy.random import rand\n",
        "\n",
        "data=vstack((rand(100,3)+array([.5,.5,.5]),rand(100,3)))\n",
        "data"
      ],
      "execution_count": null,
      "outputs": [
        {
          "output_type": "execute_result",
          "data": {
            "text/plain": [
              "array([[0.86425326, 1.42874566, 0.85009102],\n",
              "       [0.59833413, 0.7612847 , 0.65187441],\n",
              "       [1.48929782, 1.41934494, 1.15705628],\n",
              "       [1.39875857, 1.20633716, 0.76382913],\n",
              "       [0.72464835, 0.90493818, 0.91681288],\n",
              "       [0.82247927, 1.28831453, 0.8280994 ],\n",
              "       [1.22980123, 1.36455633, 1.41408575],\n",
              "       [0.57542031, 0.73694081, 1.16822846],\n",
              "       [0.60769508, 0.91494033, 0.9723365 ],\n",
              "       [1.19323549, 1.18024886, 0.92588101],\n",
              "       [1.16665496, 1.14908882, 0.57407002],\n",
              "       [0.61151935, 1.48030253, 1.0921861 ],\n",
              "       [0.87758586, 0.64588197, 1.0170485 ],\n",
              "       [0.72157479, 0.8199889 , 0.60507251],\n",
              "       [1.00113184, 1.2957874 , 0.91593507],\n",
              "       [1.10510357, 1.34449246, 1.05667669],\n",
              "       [0.74887389, 1.02182716, 0.66727637],\n",
              "       [1.12577829, 1.48168825, 1.29122428],\n",
              "       [1.40445848, 0.54917985, 1.15825142],\n",
              "       [1.27461232, 1.15011546, 1.35381964],\n",
              "       [0.85610671, 0.91719883, 0.91796134],\n",
              "       [1.44165769, 1.073252  , 0.67062633],\n",
              "       [0.78722824, 1.48745429, 0.63288733],\n",
              "       [0.76232023, 0.868249  , 1.11055739],\n",
              "       [0.60600868, 0.87324829, 0.79259342],\n",
              "       [0.50090461, 1.22773997, 0.53096278],\n",
              "       [0.79471196, 1.25091371, 0.78848477],\n",
              "       [0.59710372, 0.78862112, 0.90679228],\n",
              "       [0.89960866, 0.86731615, 0.93184832],\n",
              "       [0.72557404, 0.99503981, 1.24482888],\n",
              "       [0.93817822, 0.62392858, 1.11108849],\n",
              "       [1.31378914, 0.94993852, 0.59573103],\n",
              "       [1.15564225, 0.90274739, 0.77871928],\n",
              "       [0.91944843, 1.01563509, 0.84680707],\n",
              "       [0.55389746, 1.08262997, 0.81366743],\n",
              "       [0.88598903, 0.59383007, 0.51121724],\n",
              "       [0.68454611, 0.56397334, 1.07741666],\n",
              "       [0.69906721, 0.86857244, 1.06118905],\n",
              "       [0.94096514, 1.4030739 , 0.69201274],\n",
              "       [0.84259826, 1.28121453, 0.86136875],\n",
              "       [1.08166094, 1.21295515, 1.19292657],\n",
              "       [0.98239878, 0.50955896, 0.60537955],\n",
              "       [1.35110514, 1.34082163, 1.29832469],\n",
              "       [1.37766731, 0.9186236 , 0.96922732],\n",
              "       [1.46883227, 1.26643477, 0.85492313],\n",
              "       [0.72272882, 0.87828568, 0.84368285],\n",
              "       [1.28841796, 0.96920796, 1.1498842 ],\n",
              "       [1.14944972, 0.84677166, 0.78350206],\n",
              "       [1.20674316, 1.32316006, 1.45819547],\n",
              "       [1.37620907, 0.7683824 , 0.57668729],\n",
              "       [1.31818229, 1.29952075, 1.02538751],\n",
              "       [1.12229754, 1.1033561 , 1.0714861 ],\n",
              "       [0.84018259, 1.41142405, 0.8910667 ],\n",
              "       [0.66303579, 1.04382416, 1.1460529 ],\n",
              "       [0.64659301, 1.0746695 , 0.72294813],\n",
              "       [0.64588985, 1.29076938, 1.41489173],\n",
              "       [0.93135783, 1.49810353, 0.71752925],\n",
              "       [1.05943585, 0.65240771, 1.2036531 ],\n",
              "       [1.44357343, 1.43860497, 0.57693706],\n",
              "       [0.68428159, 0.89978923, 0.96124602],\n",
              "       [0.64673525, 0.7353477 , 0.79513209],\n",
              "       [1.1153486 , 0.66088225, 0.77086396],\n",
              "       [1.46857793, 1.00193223, 0.92103569],\n",
              "       [1.15060095, 1.24679092, 1.26639119],\n",
              "       [0.69585831, 0.84233695, 0.77630678],\n",
              "       [1.25071808, 0.6088282 , 0.95663776],\n",
              "       [1.37195939, 0.65867363, 1.32485992],\n",
              "       [1.08135016, 0.76872341, 1.4605791 ],\n",
              "       [1.48143608, 0.91392982, 0.71376546],\n",
              "       [1.1287955 , 0.59870517, 0.9288132 ],\n",
              "       [0.57532759, 0.66616987, 1.06105883],\n",
              "       [0.80290212, 0.6288063 , 0.57706697],\n",
              "       [0.77506147, 1.06712276, 1.12378275],\n",
              "       [0.64470164, 1.49717129, 1.31251604],\n",
              "       [1.26593432, 1.02218542, 1.13089661],\n",
              "       [1.3684831 , 0.59904025, 0.9666517 ],\n",
              "       [1.20819207, 0.7815578 , 0.94628403],\n",
              "       [1.11535766, 1.1871234 , 1.36274464],\n",
              "       [0.99557241, 0.78209279, 1.04773276],\n",
              "       [0.63783094, 1.20929493, 0.99528308],\n",
              "       [0.65692672, 0.94686534, 1.25201245],\n",
              "       [0.71468714, 1.39812964, 1.23223711],\n",
              "       [0.97906015, 0.67718649, 1.03553415],\n",
              "       [1.22561888, 0.8711706 , 0.586645  ],\n",
              "       [0.50015497, 0.75266332, 1.03154836],\n",
              "       [1.19435642, 1.02453547, 1.05807728],\n",
              "       [1.03891043, 0.75572732, 1.2390781 ],\n",
              "       [0.90916447, 0.61302152, 1.48583566],\n",
              "       [0.61632945, 0.54195915, 1.21931796],\n",
              "       [1.41997626, 0.6571518 , 1.12815482],\n",
              "       [0.57501871, 0.59711592, 1.05645608],\n",
              "       [0.71874823, 1.40112213, 1.41764871],\n",
              "       [1.11353226, 0.69380138, 0.82315805],\n",
              "       [0.7026966 , 1.45239911, 0.94648063],\n",
              "       [0.52576436, 0.78712076, 1.11925268],\n",
              "       [1.13461345, 1.38234753, 0.83155697],\n",
              "       [0.98047998, 1.25153961, 0.78462286],\n",
              "       [0.60507762, 0.80949846, 1.28834823],\n",
              "       [0.90959168, 0.86246639, 0.79669745],\n",
              "       [0.91529661, 1.26506133, 0.54851359],\n",
              "       [0.70305348, 0.31268227, 0.3204806 ],\n",
              "       [0.10044182, 0.29727863, 0.72535945],\n",
              "       [0.19000829, 0.39402009, 0.29752675],\n",
              "       [0.64759275, 0.39749212, 0.98535921],\n",
              "       [0.01027893, 0.01428389, 0.67738157],\n",
              "       [0.83681225, 0.10555236, 0.6287249 ],\n",
              "       [0.55746932, 0.7293471 , 0.45177939],\n",
              "       [0.17660954, 0.68950225, 0.73398883],\n",
              "       [0.31175054, 0.38232096, 0.40891868],\n",
              "       [0.34808957, 0.30420858, 0.01268581],\n",
              "       [0.90174325, 0.71561375, 0.53237002],\n",
              "       [0.15366073, 0.63003746, 0.07475549],\n",
              "       [0.53668287, 0.60454982, 0.39723885],\n",
              "       [0.42488317, 0.09014286, 0.19944817],\n",
              "       [0.0967041 , 0.91951254, 0.9789016 ],\n",
              "       [0.35245757, 0.07678345, 0.92944118],\n",
              "       [0.68074212, 0.76705969, 0.74971922],\n",
              "       [0.14009238, 0.12931207, 0.60903018],\n",
              "       [0.20635026, 0.818866  , 0.82683929],\n",
              "       [0.79658282, 0.62767099, 0.30040419],\n",
              "       [0.35664056, 0.40057867, 0.13661735],\n",
              "       [0.86568779, 0.67807379, 0.16172725],\n",
              "       [0.10214854, 0.39059872, 0.46895145],\n",
              "       [0.85893508, 0.08829125, 0.73327784],\n",
              "       [0.07944624, 0.33344834, 0.71701665],\n",
              "       [0.6427248 , 0.01516565, 0.73224917],\n",
              "       [0.84917495, 0.06525011, 0.6583625 ],\n",
              "       [0.98134171, 0.55840837, 0.8288542 ],\n",
              "       [0.03996141, 0.5793709 , 0.20499153],\n",
              "       [0.05407642, 0.35616518, 0.92593671],\n",
              "       [0.87996228, 0.94310645, 0.19726913],\n",
              "       [0.91204924, 0.70599118, 0.3202092 ],\n",
              "       [0.34339388, 0.52969204, 0.91677428],\n",
              "       [0.28363711, 0.18385308, 0.46423402],\n",
              "       [0.62337382, 0.01402167, 0.73580934],\n",
              "       [0.85352683, 0.49934121, 0.94319159],\n",
              "       [0.1504915 , 0.80341708, 0.65775067],\n",
              "       [0.20007568, 0.90818687, 0.31686683],\n",
              "       [0.57936337, 0.63285139, 0.74441381],\n",
              "       [0.08411181, 0.12016222, 0.68971889],\n",
              "       [0.6791775 , 0.06025652, 0.44096026],\n",
              "       [0.05366207, 0.94945938, 0.60316382],\n",
              "       [0.09026638, 0.67457354, 0.02873907],\n",
              "       [0.35463202, 0.97436775, 0.24805057],\n",
              "       [0.86286509, 0.58648754, 0.40889804],\n",
              "       [0.53029861, 0.66717396, 0.24232226],\n",
              "       [0.71280608, 0.02627812, 0.61615231],\n",
              "       [0.29925424, 0.73745995, 0.58104222],\n",
              "       [0.98143961, 0.61723365, 0.33315075],\n",
              "       [0.97723002, 0.80003622, 0.53120798],\n",
              "       [0.94701027, 0.11997169, 0.23543669],\n",
              "       [0.01782051, 0.30931078, 0.86785338],\n",
              "       [0.98479403, 0.76626832, 0.84823759],\n",
              "       [0.90346628, 0.71719856, 0.85937902],\n",
              "       [0.76002864, 0.69783648, 0.30518184],\n",
              "       [0.1245897 , 0.80214387, 0.20187355],\n",
              "       [0.87793286, 0.25617113, 0.61475246],\n",
              "       [0.67247078, 0.3612893 , 0.22894645],\n",
              "       [0.37343777, 0.33358491, 0.96576368],\n",
              "       [0.61477526, 0.42724883, 0.26047969],\n",
              "       [0.10657024, 0.40194642, 0.21036347],\n",
              "       [0.19703731, 0.65324647, 0.81637803],\n",
              "       [0.01851049, 0.12524361, 0.59525959],\n",
              "       [0.75884486, 0.95135893, 0.78946126],\n",
              "       [0.37281408, 0.38395337, 0.04170433],\n",
              "       [0.5103607 , 0.37299611, 0.16797236],\n",
              "       [0.16009685, 0.60308166, 0.13301009],\n",
              "       [0.43646304, 0.70523528, 0.41791892],\n",
              "       [0.05312249, 0.28836444, 0.66895788],\n",
              "       [0.57966973, 0.87714406, 0.23178095],\n",
              "       [0.19560635, 0.70481131, 0.23731427],\n",
              "       [0.65431968, 0.75478792, 0.99638007],\n",
              "       [0.15715056, 0.89680275, 0.60361856],\n",
              "       [0.19619647, 0.22975785, 0.47168946],\n",
              "       [0.96122113, 0.18314573, 0.7739017 ],\n",
              "       [0.35985437, 0.06584221, 0.61830107],\n",
              "       [0.25150543, 0.0062588 , 0.56392629],\n",
              "       [0.40499447, 0.36337428, 0.18678837],\n",
              "       [0.31223378, 0.30751653, 0.21935992],\n",
              "       [0.20333977, 0.0066283 , 0.42471305],\n",
              "       [0.51718734, 0.52340726, 0.40329866],\n",
              "       [0.34541342, 0.1703472 , 0.93483263],\n",
              "       [0.14618067, 0.10121206, 0.1384483 ],\n",
              "       [0.40843816, 0.55508171, 0.24541306],\n",
              "       [0.11744319, 0.03193423, 0.19658502],\n",
              "       [0.10727895, 0.97491339, 0.77821935],\n",
              "       [0.8621622 , 0.21526727, 0.08179668],\n",
              "       [0.63434117, 0.28037782, 0.63922434],\n",
              "       [0.19245078, 0.17959022, 0.08925749],\n",
              "       [0.70813235, 0.82182662, 0.07064955],\n",
              "       [0.15756312, 0.87397675, 0.45626621],\n",
              "       [0.33884782, 0.7581633 , 0.87739504],\n",
              "       [0.36725245, 0.46279794, 0.76065607],\n",
              "       [0.92991495, 0.70198937, 0.87422644],\n",
              "       [0.18120066, 0.79091968, 0.97818111],\n",
              "       [0.05801338, 0.70460133, 0.39703191],\n",
              "       [0.99242455, 0.23108295, 0.20349159],\n",
              "       [0.39515494, 0.43289358, 0.77878055],\n",
              "       [0.09963847, 0.64810372, 0.18836697],\n",
              "       [0.08661173, 0.61500558, 0.770805  ]])"
            ]
          },
          "metadata": {},
          "execution_count": 73
        }
      ]
    },
    {
      "cell_type": "code",
      "metadata": {
        "colab": {
          "base_uri": "https://localhost:8080/"
        },
        "id": "LjUMqIBBPmU7",
        "outputId": "dafa088b-76bb-4cbf-b276-41d9a43493ea"
      },
      "source": [
        "data=whiten(data)\n",
        "data"
      ],
      "execution_count": null,
      "outputs": [
        {
          "output_type": "execute_result",
          "data": {
            "text/plain": [
              "array([[2.19001355, 3.69343575, 2.41643917],\n",
              "       [1.51617578, 1.96798926, 1.85299553],\n",
              "       [3.77387342, 3.66913403, 3.28900793],\n",
              "       [3.5444474 , 3.11848981, 2.1712341 ],\n",
              "       [1.83625539, 2.33934639, 2.60610041],\n",
              "       [2.08415846, 3.33040868, 2.35392655],\n",
              "       [3.11631033, 3.52750057, 4.01963097],\n",
              "       [1.45811225, 1.90505811, 3.32076559],\n",
              "       [1.53989636, 2.36520286, 2.76392991],\n",
              "       [3.02365292, 3.0510492 , 2.63187715],\n",
              "       [2.95629797, 2.97049771, 1.63183146],\n",
              "       [1.54958706, 3.82671488, 3.10461021],\n",
              "       [2.2237983 , 1.66966285, 2.89102667],\n",
              "       [1.82846699, 2.11974489, 1.71995807],\n",
              "       [2.53686321, 3.34972669, 2.60360515],\n",
              "       [2.80032705, 3.47563366, 3.00367239],\n",
              "       [1.8976428 , 2.64151491, 1.89677659],\n",
              "       [2.85271671, 3.83029708, 3.67038922],\n",
              "       [3.55889095, 1.4196792 , 3.29240518],\n",
              "       [3.22986141, 2.97315167, 3.84832061],\n",
              "       [2.16937022, 2.37104129, 2.60936496],\n",
              "       [3.65315356, 2.77445273, 1.90629907],\n",
              "       [1.99483253, 3.84520281, 1.79902351],\n",
              "       [1.93171574, 2.24450158, 3.1568318 ],\n",
              "       [1.53562303, 2.2574252 , 2.25299847],\n",
              "       [1.26928983, 3.17381799, 1.50929631],\n",
              "       [2.01379624, 3.2337242 , 2.24131938],\n",
              "       [1.51305793, 2.03865635, 2.57761619],\n",
              "       [2.27960396, 2.24209007, 2.64883962],\n",
              "       [1.83860108, 2.5722672 , 3.53850726],\n",
              "       [2.37733903, 1.61291137, 3.15834148],\n",
              "       [3.32913529, 2.45567632, 1.6934043 ],\n",
              "       [2.92839184, 2.33368302, 2.21356034],\n",
              "       [2.32987784, 2.62550785, 2.40710432],\n",
              "       [1.40357347, 2.79869561, 2.31290273],\n",
              "       [2.24509188, 1.53510402, 1.45316835],\n",
              "       [1.73463651, 1.45792168, 3.0626271 ],\n",
              "       [1.77143289, 2.24533769, 3.01649909],\n",
              "       [2.38440107, 3.62707192, 1.96709134],\n",
              "       [2.13513987, 3.31205452, 2.44849685],\n",
              "       [2.74092355, 3.1355979 , 3.39097156],\n",
              "       [2.48939373, 1.31725564, 1.72083086],\n",
              "       [3.42369385, 3.46614422, 3.69057259],\n",
              "       [3.49100224, 2.37472444, 2.75509186],\n",
              "       [3.72201381, 3.27384753, 2.43017474],\n",
              "       [1.8313913 , 2.2704473 , 2.39822352],\n",
              "       [3.26484484, 2.50548954, 3.26862081],\n",
              "       [2.91269998, 2.18898072, 2.2271557 ],\n",
              "       [3.05788129, 3.42048749, 4.1450157 ],\n",
              "       [3.48730707, 1.98633746, 1.63927124],\n",
              "       [3.34026751, 3.35937775, 2.91473086],\n",
              "       [2.84389649, 2.85227452, 3.04576911],\n",
              "       [2.1290186 , 3.64865781, 2.53291519],\n",
              "       [1.68012945, 2.69837911, 3.25773011],\n",
              "       [1.63846354, 2.77811709, 2.05502722],\n",
              "       [1.63668174, 3.33675468, 4.02192201],\n",
              "       [2.36005619, 3.87273205, 2.03962369],\n",
              "       [2.68460527, 1.68653247, 3.42146242],\n",
              "       [3.65800805, 3.71892295, 1.63998121],\n",
              "       [1.7339662 , 2.3260359 , 2.7324045 ],\n",
              "       [1.63882398, 1.90093978, 2.26021483],\n",
              "       [2.82628792, 1.70843992, 2.19123107],\n",
              "       [3.72136932, 2.59008473, 2.618104  ],\n",
              "       [2.91561721, 3.22306641, 3.59979953],\n",
              "       [1.76330157, 2.17751661, 2.20670263],\n",
              "       [3.16931352, 1.57387553, 2.71930522],\n",
              "       [3.4765384 , 1.70273045, 3.76600071],\n",
              "       [2.74013603, 1.98721901, 4.15179133],\n",
              "       [3.75395181, 2.36259059, 2.02892487],\n",
              "       [2.8603623 , 1.54770658, 2.64021209],\n",
              "       [1.45787731, 1.72210889, 3.01612892],\n",
              "       [2.03455007, 1.62552071, 1.64035049],\n",
              "       [1.96400199, 2.7586081 , 3.19442576],\n",
              "       [1.63367081, 3.87032213, 3.73091242],\n",
              "       [3.20787139, 2.64244103, 3.21464737],\n",
              "       [3.46772951, 1.54857279, 2.7477705 ],\n",
              "       [3.06155281, 2.02039704, 2.68987407],\n",
              "       [2.82631086, 3.06882051, 3.8736905 ],\n",
              "       [2.52277563, 2.02178005, 2.97824868],\n",
              "       [1.61626049, 3.12613592, 2.82915706],\n",
              "       [1.6646491 , 2.44773186, 3.55892704],\n",
              "       [1.81101372, 3.61429058, 3.50271434],\n",
              "       [2.48093366, 1.75058785, 2.94357335],\n",
              "       [3.10571226, 2.25205417, 1.66757666],\n",
              "       [1.26739026, 1.94570222, 2.93224347],\n",
              "       [3.02649336, 2.64851613, 3.00765366],\n",
              "       [2.63259397, 1.95362294, 3.5221603 ],\n",
              "       [2.30381833, 1.58471564, 4.22358475],\n",
              "       [1.56177581, 1.40101303, 3.46599082],\n",
              "       [3.59821292, 1.69879637, 3.20685365],\n",
              "       [1.45709461, 1.54359823, 3.0030453 ],\n",
              "       [1.82130451, 3.62202643, 4.02975891],\n",
              "       [2.82168532, 1.79353883, 2.33988044],\n",
              "       [1.78062976, 3.75458202, 2.6904329 ],\n",
              "       [1.33228434, 2.03477779, 3.18154872],\n",
              "       [2.87510496, 3.57349241, 2.36375492],\n",
              "       [2.4845315 , 3.23534219, 2.23034165],\n",
              "       [1.53326375, 2.09262616, 3.66221385],\n",
              "       [2.30490087, 2.22955301, 2.26466446],\n",
              "       [2.31935715, 3.27029705, 1.55918566],\n",
              "       [1.78153408, 0.80831173, 0.91098701],\n",
              "       [0.25451908, 0.76849194, 2.06188152],\n",
              "       [0.48148008, 1.01857728, 0.84573918],\n",
              "       [1.64099686, 1.02755279, 2.8009478 ],\n",
              "       [0.02604676, 0.03692514, 1.9255013 ],\n",
              "       [2.12047817, 0.27286233, 1.78719152],\n",
              "       [1.41262453, 1.88542771, 1.28421236],\n",
              "       [0.44752772, 1.78242519, 2.0864111 ],\n",
              "       [0.78997434, 0.988334  , 1.16237802],\n",
              "       [0.88205728, 0.78640647, 0.03606025],\n",
              "       [2.285013  , 1.84992576, 1.51329649],\n",
              "       [0.38937554, 1.62870338, 0.21249736],\n",
              "       [1.35995178, 1.56281552, 1.12917733],\n",
              "       [1.07665188, 0.23302737, 0.56694443],\n",
              "       [0.24504771, 2.37702242, 2.78259163],\n",
              "       [0.89312577, 0.19849212, 2.64199717],\n",
              "       [1.72499721, 1.98291814, 2.13112578],\n",
              "       [0.35499341, 0.33428331, 1.73120801],\n",
              "       [0.52289056, 2.11684208, 2.35034461],\n",
              "       [2.01853698, 1.62258582, 0.85391849],\n",
              "       [0.90372544, 1.03553182, 0.38834374],\n",
              "       [2.19364865, 1.7528816 , 0.45972026],\n",
              "       [0.25884389, 1.00973275, 1.33302508],\n",
              "       [2.17653732, 0.2282408 , 2.08439008],\n",
              "       [0.20131637, 0.86199388, 2.03816659],\n",
              "       [1.62866152, 0.03920456, 2.08146603],\n",
              "       [2.15180519, 0.16867739, 1.87143834],\n",
              "       [2.48671512, 1.44353575, 2.35607212],\n",
              "       [0.10126203, 1.49772575, 0.58270179],\n",
              "       [0.13702937, 0.92071895, 2.63203547],\n",
              "       [2.22982014, 2.43801481, 0.56075036],\n",
              "       [2.31112832, 1.82505054, 0.91021553],\n",
              "       [0.87015843, 1.36930146, 2.60599067],\n",
              "       [0.71873504, 0.47527671, 1.31961547],\n",
              "       [1.57962623, 0.03624727, 2.09158603],\n",
              "       [2.16283283, 1.29084184, 2.68108361],\n",
              "       [0.38134474, 2.07690525, 1.86969917],\n",
              "       [0.50699079, 2.34774454, 0.90071464],\n",
              "       [1.46810396, 1.63597764, 2.1160448 ],\n",
              "       [0.21313892, 0.31063013, 1.96057092],\n",
              "       [1.72103248, 0.1557685 , 1.25345828],\n",
              "       [0.13597943, 2.4544377 , 1.7145325 ],\n",
              "       [0.22873458, 1.74383313, 0.08169268],\n",
              "       [0.89863582, 2.51882808, 0.70509993],\n",
              "       [2.18649593, 1.51612291, 1.16231935],\n",
              "       [1.34377409, 1.72470454, 0.68881684],\n",
              "       [1.80624714, 0.06793129, 1.75145312],\n",
              "       [0.75830878, 1.90640015, 1.65165041],\n",
              "       [2.48696318, 1.59560438, 0.94700274],\n",
              "       [2.47629611, 2.06816541, 1.50999332],\n",
              "       [2.39971941, 0.31013758, 0.66924414],\n",
              "       [0.04515707, 0.79959613, 2.46692982],\n",
              "       [2.49546326, 1.98087237, 2.41117066],\n",
              "       [2.28937914, 1.85402263, 2.44284089],\n",
              "       [1.92590888, 1.80396991, 0.86749929],\n",
              "       [0.31570968, 2.07361389, 0.57383874],\n",
              "       [2.22467758, 0.66222536, 1.74747397],\n",
              "       [1.70403768, 0.93396525, 0.65079522],\n",
              "       [0.9462895 , 0.86234691, 2.74524624],\n",
              "       [1.55783752, 1.10447657, 0.74043051],\n",
              "       [0.27004847, 1.03906758, 0.59797189],\n",
              "       [0.49929159, 1.68870075, 2.32060778],\n",
              "       [0.04690549, 0.32376598, 1.6920642 ],\n",
              "       [1.92290919, 2.4593482 , 2.2440951 ],\n",
              "       [0.94470906, 0.99255393, 0.11854729],\n",
              "       [1.29325152, 0.96422841, 0.47747239],\n",
              "       [0.40568463, 1.5590202 , 0.37808986],\n",
              "       [1.10599521, 1.82309648, 1.18796178],\n",
              "       [0.13461213, 0.74544794, 1.90155641],\n",
              "       [1.46888027, 2.26749611, 0.65885247],\n",
              "       [0.49566554, 1.82200049, 0.6745813 ],\n",
              "       [1.65804287, 1.9511945 , 2.83227533],\n",
              "       [0.39821876, 2.31831558, 1.71582512],\n",
              "       [0.4971609 , 0.59394466, 1.34080804],\n",
              "       [2.43572966, 0.47344814, 2.19986605],\n",
              "       [0.91186922, 0.17020803, 1.75756111],\n",
              "       [0.63731354, 0.01617956, 1.60299725],\n",
              "       [1.026254  , 0.93935513, 0.53095813],\n",
              "       [0.79119887, 0.79495783, 0.62354486],\n",
              "       [0.51526199, 0.01713476, 1.20727453],\n",
              "       [1.3105502 , 1.35305473, 1.14640274],\n",
              "       [0.87527593, 0.44036279, 2.6573227 ],\n",
              "       [0.37042109, 0.26164226, 0.39354831],\n",
              "       [1.03498029, 1.43493602, 0.69760264],\n",
              "       [0.29760048, 0.08255284, 0.55880574],\n",
              "       [0.27184433, 2.52023859, 2.21213925],\n",
              "       [2.1847148 , 0.55648522, 0.23251239],\n",
              "       [1.60741743, 0.72480182, 1.81703687],\n",
              "       [0.48766933, 0.46425684, 0.25372024],\n",
              "       [1.79440392, 2.12449555, 0.20082595],\n",
              "       [0.39926419, 2.25930832, 1.29696645],\n",
              "       [0.85863873, 1.95992016, 2.49405262],\n",
              "       [0.93061593, 1.1963742 , 2.16221448],\n",
              "       [2.35639995, 1.81470553, 2.48504565],\n",
              "       [0.4591616 , 2.04459834, 2.78054359],\n",
              "       [0.14700561, 1.82145767, 1.12858909],\n",
              "       [2.51479896, 0.59737017, 0.57843812],\n",
              "       [1.00132069, 1.11906876, 2.2137345 ],\n",
              "       [0.2524834 , 1.67540627, 0.5354454 ],\n",
              "       [0.21947371, 1.58984461, 2.19106347]])"
            ]
          },
          "metadata": {},
          "execution_count": 74
        }
      ]
    },
    {
      "cell_type": "code",
      "metadata": {
        "colab": {
          "base_uri": "https://localhost:8080/"
        },
        "id": "dogGHcnKQTci",
        "outputId": "e0760dbe-588d-4beb-b922-d9ea31a27fef"
      },
      "source": [
        "centroids,_=kmeans(data,3)\n",
        "centroids"
      ],
      "execution_count": null,
      "outputs": [
        {
          "output_type": "execute_result",
          "data": {
            "text/plain": [
              "array([[2.83240424, 2.95710825, 2.8170306 ],\n",
              "       [1.77312346, 1.97659405, 2.60054521],\n",
              "       [1.02922285, 1.09933945, 1.19970308]])"
            ]
          },
          "metadata": {},
          "execution_count": 75
        }
      ]
    },
    {
      "cell_type": "code",
      "metadata": {
        "colab": {
          "base_uri": "https://localhost:8080/"
        },
        "id": "xRMzGsloQ5aF",
        "outputId": "3101179c-e376-4a87-f2b8-0a50457d7c59"
      },
      "source": [
        "clx,_=vq(data,centroids)\n",
        "clx"
      ],
      "execution_count": null,
      "outputs": [
        {
          "output_type": "execute_result",
          "data": {
            "text/plain": [
              "array([0, 1, 0, 0, 1, 0, 0, 1, 1, 0, 0, 0, 1, 1, 0, 0, 1, 0, 0, 0, 1, 0,\n",
              "       0, 1, 1, 1, 0, 1, 1, 1, 1, 0, 0, 0, 1, 2, 1, 1, 0, 0, 0, 1, 0, 0,\n",
              "       0, 1, 0, 0, 0, 0, 0, 0, 0, 1, 1, 0, 0, 1, 0, 1, 1, 1, 0, 0, 1, 0,\n",
              "       0, 0, 0, 1, 1, 1, 0, 0, 0, 0, 0, 0, 1, 1, 1, 0, 1, 0, 1, 0, 0, 1,\n",
              "       1, 0, 1, 0, 1, 0, 1, 0, 0, 1, 1, 0, 2, 2, 2, 1, 2, 2, 2, 2, 2, 2,\n",
              "       1, 2, 2, 2, 1, 2, 1, 2, 1, 2, 2, 2, 2, 2, 2, 2, 2, 1, 2, 2, 2, 2,\n",
              "       1, 2, 2, 1, 2, 2, 1, 2, 2, 2, 2, 2, 2, 2, 2, 2, 2, 1, 2, 2, 1, 1,\n",
              "       2, 2, 2, 2, 1, 2, 2, 1, 2, 1, 2, 2, 2, 2, 2, 2, 2, 1, 2, 2, 1, 2,\n",
              "       2, 2, 2, 2, 2, 2, 2, 2, 2, 1, 2, 2, 2, 2, 2, 1, 2, 1, 1, 2, 2, 2,\n",
              "       2, 2], dtype=int32)"
            ]
          },
          "metadata": {},
          "execution_count": 76
        }
      ]
    },
    {
      "cell_type": "code",
      "metadata": {
        "colab": {
          "base_uri": "https://localhost:8080/"
        },
        "id": "Z54eVHS7SWKC",
        "outputId": "61e3fab9-df36-4999-92eb-d319260adcb1"
      },
      "source": [
        "from scipy.fftpack import fft\n",
        "\n",
        "x=np.array([1.0,2.0,1.0,-1.0,1.5])\n",
        "\n",
        "y=fft(x)\n",
        "print(\"FFT :\\n\",y)"
      ],
      "execution_count": null,
      "outputs": [
        {
          "output_type": "stream",
          "name": "stdout",
          "text": [
            "FFT :\n",
            " [ 4.5       -0.j          2.08155948-1.65109876j -1.83155948+1.60822041j\n",
            " -1.83155948-1.60822041j  2.08155948+1.65109876j]\n"
          ]
        }
      ]
    },
    {
      "cell_type": "code",
      "metadata": {
        "colab": {
          "base_uri": "https://localhost:8080/"
        },
        "id": "lUXcTP94SnTt",
        "outputId": "77a5e135-2a10-4a24-a654-8e02202871eb"
      },
      "source": [
        "from scipy.fftpack import ifft\n",
        "yinv=ifft(y)\n",
        "print(\"FFT Inverse:\\n\",yinv)"
      ],
      "execution_count": null,
      "outputs": [
        {
          "output_type": "stream",
          "name": "stdout",
          "text": [
            "FFT Inverse:\n",
            " [ 1. +0.j  2. +0.j  1. +0.j -1. +0.j  1.5+0.j]\n"
          ]
        }
      ]
    },
    {
      "cell_type": "code",
      "metadata": {
        "colab": {
          "base_uri": "https://localhost:8080/"
        },
        "id": "L_ofAokMTI8R",
        "outputId": "4c4fcec8-20c4-48ce-be31-4dd50250f76a"
      },
      "source": [
        "from scipy.fftpack import dct\n",
        "print(\"DCT:\\n\",dct(np.array([4.,3.,5.,10.,5.,3.])))"
      ],
      "execution_count": null,
      "outputs": [
        {
          "output_type": "stream",
          "name": "stdout",
          "text": [
            "DCT:\n",
            " [ 60.          -3.48476592 -13.85640646  11.3137085    6.\n",
            "  -6.31319305]\n"
          ]
        }
      ]
    },
    {
      "cell_type": "code",
      "metadata": {
        "colab": {
          "base_uri": "https://localhost:8080/"
        },
        "id": "sFowjNxgTqvP",
        "outputId": "d54d6661-02d9-4e79-f308-c84a3e58f8d4"
      },
      "source": [
        "from scipy.fftpack import idct\n",
        "print(\"IDCT:\\n\",idct(np.array([4.,3.,5.,10.,5.,3.])))"
      ],
      "execution_count": null,
      "outputs": [
        {
          "output_type": "stream",
          "name": "stdout",
          "text": [
            "IDCT:\n",
            " [ 39.15085889 -20.14213562  -6.45392043   7.13341236   8.14213562\n",
            "  -3.83035081]\n"
          ]
        }
      ]
    },
    {
      "cell_type": "markdown",
      "metadata": {
        "id": "pETcsUseUro-"
      },
      "source": [
        "# **SciPy-Integrated**"
      ]
    },
    {
      "cell_type": "markdown",
      "metadata": {
        "id": "ZBZO050EUyeJ"
      },
      "source": [
        "The general form of quad is scipy.integrate.quad(f,a,b), Where 'f' is the name of the function to be integrated. Whereas, 'a' and 'b' are the lower and upper limits, respectively. Let us see an example of the Gaussian function, integrated over a range of 0 and 1                                "
      ]
    },
    {
      "cell_type": "markdown",
      "metadata": {
        "id": "F2BoomdJV4jy"
      },
      "source": [
        "  # **∫f(x)dx**"
      ]
    },
    {
      "cell_type": "code",
      "metadata": {
        "colab": {
          "base_uri": "https://localhost:8080/"
        },
        "id": "mI9twu8HVZkn",
        "outputId": "fd6c8e7d-b17c-4f7a-bbd1-0253c9b7fc3e"
      },
      "source": [
        "import scipy.integrate\n",
        "from numpy import exp\n",
        "f=lambda x:exp(-x**2)\n",
        "i=scipy.integrate.quad(f,0,1)\n",
        "print(i)"
      ],
      "execution_count": null,
      "outputs": [
        {
          "output_type": "stream",
          "name": "stdout",
          "text": [
            "(0.7468241328124271, 8.291413475940725e-15)\n"
          ]
        }
      ]
    },
    {
      "cell_type": "markdown",
      "metadata": {
        "id": "50tbDAniXnNh"
      },
      "source": [
        "# **Linear Algebra**"
      ]
    },
    {
      "cell_type": "markdown",
      "metadata": {
        "id": "ROZZaVmgXuLr"
      },
      "source": [
        "**x+3y+5z=10**\n",
        "\n",
        "**2x+5y+z=8**\n",
        "\n",
        "**2x+3y+8z=3 ***"
      ]
    },
    {
      "cell_type": "code",
      "metadata": {
        "colab": {
          "base_uri": "https://localhost:8080/"
        },
        "id": "KmrcIGxFX54m",
        "outputId": "843e1387-069d-4354-f11c-0ec5ff10a1ae"
      },
      "source": [
        "from scipy import linalg\n",
        "import numpy as np\n",
        "\n",
        "a=np.array([[1,3,5],[2,5,1],[2,3,8]])\n",
        "b=np.array([10,8,3])\n",
        "\n",
        "X=linalg.solve(a,b)\n",
        "\n",
        "print(X)"
      ],
      "execution_count": null,
      "outputs": [
        {
          "output_type": "stream",
          "name": "stdout",
          "text": [
            "[-9.28  5.16  0.76]\n"
          ]
        }
      ]
    },
    {
      "cell_type": "markdown",
      "metadata": {
        "id": "t6YtPTHqZEh6"
      },
      "source": [
        "# **Finding an Determinant**"
      ]
    },
    {
      "cell_type": "code",
      "metadata": {
        "colab": {
          "base_uri": "https://localhost:8080/"
        },
        "id": "6u1LW8LIZsbS",
        "outputId": "d5a8f24b-ddab-4150-ab31-484bce7b6be9"
      },
      "source": [
        "from scipy import linalg\n",
        "import numpy as np\n",
        "\n",
        "A=np.array([[1,2],[3,4]])\n",
        "\n",
        "x=linalg.det(A)\n",
        "\n",
        "print(x)"
      ],
      "execution_count": null,
      "outputs": [
        {
          "output_type": "stream",
          "name": "stdout",
          "text": [
            "-2.0\n"
          ]
        }
      ]
    },
    {
      "cell_type": "markdown",
      "metadata": {
        "id": "U3D62DUhZzpZ"
      },
      "source": [
        "# **Eigen values and Eigen Vectors**"
      ]
    },
    {
      "cell_type": "code",
      "metadata": {
        "colab": {
          "base_uri": "https://localhost:8080/"
        },
        "id": "EXWGR67taXv5",
        "outputId": "483365ed-7516-486b-dfec-145a85891f6f"
      },
      "source": [
        "from scipy import linalg\n",
        "import numpy as np\n",
        "\n",
        "A=np.array([[1,2],[3,4]])\n",
        "\n",
        "l,v=linalg.eig(A)\n",
        "\n",
        "print(\"Eigen Values :\\n\",l)\n",
        "\n",
        "print(\"Eigen Vectors:\\n\",v)"
      ],
      "execution_count": null,
      "outputs": [
        {
          "output_type": "stream",
          "name": "stdout",
          "text": [
            "Eigen Values :\n",
            " [-0.37228132+0.j  5.37228132+0.j]\n",
            "Eigen Vectors:\n",
            " [[-0.82456484 -0.41597356]\n",
            " [ 0.56576746 -0.90937671]]\n"
          ]
        }
      ]
    },
    {
      "cell_type": "markdown",
      "metadata": {
        "id": "aCdxaRvka0R7"
      },
      "source": [
        "# **Matplot Library**"
      ]
    },
    {
      "cell_type": "code",
      "metadata": {
        "colab": {
          "base_uri": "https://localhost:8080/",
          "height": 265
        },
        "id": "wCle2YgubEiJ",
        "outputId": "4059c508-c3aa-49cd-b905-ffc62ee1e3f5"
      },
      "source": [
        "import matplotlib.pyplot as plt\n",
        "import numpy as np\n",
        "\n",
        "x=np.arange(5)\n",
        "y=(35,45,23,27,60)\n",
        "\n",
        "plt.bar(x,y)\n",
        "plt.show()"
      ],
      "execution_count": null,
      "outputs": [
        {
          "output_type": "display_data",
          "data": {
            "image/png": "[encoded data removed]",
            "text/plain": [
              "<Figure size 432x288 with 1 Axes>"
            ]
          },
          "metadata": {
            "needs_background": "light"
          }
        }
      ]
    },
    {
      "cell_type": "code",
      "metadata": {
        "colab": {
          "base_uri": "https://localhost:8080/",
          "height": 265
        },
        "id": "T2IBEY17bjUC",
        "outputId": "dc6793e8-2e43-4ead-abfa-60aaeb1d4bbe"
      },
      "source": [
        "plt.scatter(x,y)\n",
        "plt.show()"
      ],
      "execution_count": null,
      "outputs": [
        {
          "output_type": "display_data",
          "data": {
            "image/png": "[encoded data removed]",
            "text/plain": [
              "<Figure size 432x288 with 1 Axes>"
            ]
          },
          "metadata": {
            "needs_background": "light"
          }
        }
      ]
    },
    {
      "cell_type": "code",
      "metadata": {
        "colab": {
          "base_uri": "https://localhost:8080/",
          "height": 203
        },
        "id": "kaIBiuDfdBQn",
        "outputId": "6fbaa76c-2ac9-4cd3-f299-a90cd17dc6df"
      },
      "source": [
        "import pandas as pd\n",
        "from sklearn.datasets import load_iris\n",
        "iris=load_iris()\n",
        "df=pd.DataFrame(iris.data)\n",
        "\n",
        "df.columns=['sepal_Length','sepal_Width','petal_Length','petal_Width']\n",
        "df.head()"
      ],
      "execution_count": null,
      "outputs": [
        {
          "output_type": "execute_result",
          "data": {
            "text/html": [
              "<div>\n",
              "<style scoped>\n",
              "    .dataframe tbody tr th:only-of-type {\n",
              "        vertical-align: middle;\n",
              "    }\n",
              "\n",
              "    .dataframe tbody tr th {\n",
              "        vertical-align: top;\n",
              "    }\n",
              "\n",
              "    .dataframe thead th {\n",
              "        text-align: right;\n",
              "    }\n",
              "</style>\n",
              "<table border=\"1\" class=\"dataframe\">\n",
              "  <thead>\n",
              "    <tr style=\"text-align: right;\">\n",
              "      <th></th>\n",
              "      <th>sepal_Length</th>\n",
              "      <th>sepal_Width</th>\n",
              "      <th>petal_Length</th>\n",
              "      <th>petal_Width</th>\n",
              "    </tr>\n",
              "  </thead>\n",
              "  <tbody>\n",
              "    <tr>\n",
              "      <th>0</th>\n",
              "      <td>5.1</td>\n",
              "      <td>3.5</td>\n",
              "      <td>1.4</td>\n",
              "      <td>0.2</td>\n",
              "    </tr>\n",
              "    <tr>\n",
              "      <th>1</th>\n",
              "      <td>4.9</td>\n",
              "      <td>3.0</td>\n",
              "      <td>1.4</td>\n",
              "      <td>0.2</td>\n",
              "    </tr>\n",
              "    <tr>\n",
              "      <th>2</th>\n",
              "      <td>4.7</td>\n",
              "      <td>3.2</td>\n",
              "      <td>1.3</td>\n",
              "      <td>0.2</td>\n",
              "    </tr>\n",
              "    <tr>\n",
              "      <th>3</th>\n",
              "      <td>4.6</td>\n",
              "      <td>3.1</td>\n",
              "      <td>1.5</td>\n",
              "      <td>0.2</td>\n",
              "    </tr>\n",
              "    <tr>\n",
              "      <th>4</th>\n",
              "      <td>5.0</td>\n",
              "      <td>3.6</td>\n",
              "      <td>1.4</td>\n",
              "      <td>0.2</td>\n",
              "    </tr>\n",
              "  </tbody>\n",
              "</table>\n",
              "</div>"
            ],
            "text/plain": [
              "   sepal_Length  sepal_Width  petal_Length  petal_Width\n",
              "0           5.1          3.5           1.4          0.2\n",
              "1           4.9          3.0           1.4          0.2\n",
              "2           4.7          3.2           1.3          0.2\n",
              "3           4.6          3.1           1.5          0.2\n",
              "4           5.0          3.6           1.4          0.2"
            ]
          },
          "metadata": {},
          "execution_count": 87
        }
      ]
    },
    {
      "cell_type": "code",
      "metadata": {
        "colab": {
          "base_uri": "https://localhost:8080/",
          "height": 281
        },
        "id": "KNg6efEadJ0-",
        "outputId": "86c24482-0fbf-4132-f1ca-3cd6f623badb"
      },
      "source": [
        "df.hist()\n",
        "plt.show()"
      ],
      "execution_count": null,
      "outputs": [
        {
          "output_type": "display_data",
          "data": {
            "image/png": "[encoded data removed]",
            "text/plain": [
              "<Figure size 432x288 with 4 Axes>"
            ]
          },
          "metadata": {
            "needs_background": "light"
          }
        }
      ]
    },
    {
      "cell_type": "code",
      "metadata": {
        "colab": {
          "base_uri": "https://localhost:8080/",
          "height": 265
        },
        "id": "m2CI6wFDdYlF",
        "outputId": "66c09527-1361-4e73-b54c-5ca4eb5e6ae0"
      },
      "source": [
        "df.plot()\n",
        "plt.show()"
      ],
      "execution_count": null,
      "outputs": [
        {
          "output_type": "display_data",
          "data": {
            "image/png": "[encoded data removed]",
            "text/plain": [
              "<Figure size 432x288 with 1 Axes>"
            ]
          },
          "metadata": {
            "needs_background": "light"
          }
        }
      ]
    },
    {
      "cell_type": "code",
      "metadata": {
        "id": "WMflw8TnfgGM",
        "colab": {
          "base_uri": "https://localhost:8080/",
          "height": 266
        },
        "outputId": "3588fad7-269d-47b8-f84e-d41d1a83b0e1"
      },
      "source": [
        "df.boxplot()\n",
        "plt.show()"
      ],
      "execution_count": null,
      "outputs": [
        {
          "output_type": "display_data",
          "data": {
            "image/png": "[encoded data removed]",
            "text/plain": [
              "<Figure size 432x288 with 1 Axes>"
            ]
          },
          "metadata": {
            "needs_background": "light"
          }
        }
      ]
    },
    {
      "cell_type": "code",
      "metadata": {
        "colab": {
          "base_uri": "https://localhost:8080/",
          "height": 306
        },
        "id": "vie11hUzm2Wb",
        "outputId": "3da03d52-bdc7-4dea-91cb-425db0bea69a"
      },
      "source": [
        "import numpy as np\n",
        "x=np.linspace(0,20,1000)\n",
        "y=np.sin(x)\n",
        "\n",
        "plt.plot(x,y,label='sample Label')\n",
        "plt.title('sample plot title')\n",
        "plt.xlabel('x axis label')\n",
        "plt.ylabel('y axis label')\n",
        "plt.grid(True)\n",
        "\n",
        "plt.figtext(0.5,0.01,'Fig1:Sinusodial', ha='right',va='bottom')\n",
        "\n",
        "plt.legend(loc='best',framealpha=0.5,prop={'size':'small'})\n",
        "\n",
        "plt.tight_layout(pad=1)\n",
        "\n",
        "plt.show()"
      ],
      "execution_count": null,
      "outputs": [
        {
          "output_type": "display_data",
          "data": {
            "image/png": "[encoded data removed]",
            "text/plain": [
              "<Figure size 432x288 with 1 Axes>"
            ]
          },
          "metadata": {
            "needs_background": "light"
          }
        }
      ]
    }
  ]
}